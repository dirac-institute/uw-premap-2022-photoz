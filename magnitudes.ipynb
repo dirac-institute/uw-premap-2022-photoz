{
 "cells": [
  {
   "cell_type": "code",
   "execution_count": 1,
   "id": "3083fc2d-e5fa-48cb-93a8-1728d726785a",
   "metadata": {},
   "outputs": [],
   "source": [
    "import pandas as pd"
   ]
  },
  {
   "cell_type": "code",
   "execution_count": 2,
   "id": "f7e6f372-158a-4caf-9732-8c338a31cdb6",
   "metadata": {},
   "outputs": [],
   "source": [
    "from sqlite3 import connect"
   ]
  },
  {
   "cell_type": "code",
   "execution_count": 3,
   "id": "332d1037-646a-45dc-8742-2a27b7774763",
   "metadata": {},
   "outputs": [],
   "source": [
    "opsim_db = connect('baseline_v2.0_10yrs.db')"
   ]
  },
  {
   "cell_type": "code",
   "execution_count": 4,
   "id": "cc585855-1bf6-4ccc-a028-d0b293e99b1a",
   "metadata": {},
   "outputs": [],
   "source": [
    "opsim_file = pd.read_sql('select * from observations limit 1000', opsim_db)"
   ]
  },
  {
   "cell_type": "code",
   "execution_count": 5,
   "id": "72944be8-ac93-49d2-83df-c35813132bd0",
   "metadata": {},
   "outputs": [
    {
     "data": {
      "text/plain": [
       "Index(['observationId', 'fieldRA', 'fieldDec', 'observationStartMJD',\n",
       "       'flush_by_mjd', 'visitExposureTime', 'filter', 'rotSkyPos',\n",
       "       'numExposures', 'airmass', 'seeingFwhm500', 'seeingFwhmEff',\n",
       "       'seeingFwhmGeom', 'skyBrightness', 'night', 'slewTime', 'visitTime',\n",
       "       'slewDistance', 'fiveSigmaDepth', 'altitude', 'azimuth', 'paraAngle',\n",
       "       'cloud', 'moonAlt', 'sunAlt', 'note', 'fieldId', 'proposalId',\n",
       "       'block_id', 'observationStartLST', 'rotTelPos', 'moonAz', 'sunAz',\n",
       "       'sunRA', 'sunDec', 'moonRA', 'moonDec', 'moonDistance', 'solarElong',\n",
       "       'moonPhase', 'cummTelAz'],\n",
       "      dtype='object')"
      ]
     },
     "execution_count": 5,
     "metadata": {},
     "output_type": "execute_result"
    }
   ],
   "source": [
    "opsim_file.columns"
   ]
  },
  {
   "cell_type": "code",
   "execution_count": 6,
   "id": "34e53bea-0edb-48e7-95e2-a153709f713e",
   "metadata": {},
   "outputs": [
    {
     "data": {
      "text/plain": [
       "('observationId',\n",
       " 'fieldRA',\n",
       " 'fieldDec',\n",
       " 'observationStartMJD',\n",
       " 'fieldId',\n",
       " 'filter',\n",
       " 'fiveSigmaDepth')"
      ]
     },
     "execution_count": 6,
     "metadata": {},
     "output_type": "execute_result"
    }
   ],
   "source": [
    "'observationId', 'fieldRA', 'fieldDec', 'observationStartMJD', 'fieldId', 'filter', 'fiveSigmaDepth'"
   ]
  },
  {
   "cell_type": "code",
   "execution_count": 7,
   "id": "c863b5eb-9b63-4f2b-91bd-7afca0cce816",
   "metadata": {},
   "outputs": [],
   "source": [
    "band_obs = pd.read_sql_query('SELECT observationId, fieldRA, fieldDec, observationStartMJD, fieldId, filter, fiveSigmaDepth FROM observations', opsim_db)"
   ]
  },
  {
   "cell_type": "code",
   "execution_count": 8,
   "id": "54403856-1534-4415-96f9-5f8382519cdd",
   "metadata": {},
   "outputs": [
    {
     "data": {
      "text/html": [
       "<div>\n",
       "<style scoped>\n",
       "    .dataframe tbody tr th:only-of-type {\n",
       "        vertical-align: middle;\n",
       "    }\n",
       "\n",
       "    .dataframe tbody tr th {\n",
       "        vertical-align: top;\n",
       "    }\n",
       "\n",
       "    .dataframe thead th {\n",
       "        text-align: right;\n",
       "    }\n",
       "</style>\n",
       "<table border=\"1\" class=\"dataframe\">\n",
       "  <thead>\n",
       "    <tr style=\"text-align: right;\">\n",
       "      <th></th>\n",
       "      <th>observationId</th>\n",
       "      <th>fieldRA</th>\n",
       "      <th>fieldDec</th>\n",
       "      <th>observationStartMJD</th>\n",
       "      <th>fieldId</th>\n",
       "      <th>filter</th>\n",
       "      <th>fiveSigmaDepth</th>\n",
       "    </tr>\n",
       "  </thead>\n",
       "  <tbody>\n",
       "    <tr>\n",
       "      <th>0</th>\n",
       "      <td>0</td>\n",
       "      <td>310.024480</td>\n",
       "      <td>-60.812928</td>\n",
       "      <td>60218.001806</td>\n",
       "      <td>-1</td>\n",
       "      <td>y</td>\n",
       "      <td>22.370557</td>\n",
       "    </tr>\n",
       "    <tr>\n",
       "      <th>1</th>\n",
       "      <td>1</td>\n",
       "      <td>310.601871</td>\n",
       "      <td>-63.561425</td>\n",
       "      <td>60218.002254</td>\n",
       "      <td>-1</td>\n",
       "      <td>y</td>\n",
       "      <td>22.338327</td>\n",
       "    </tr>\n",
       "    <tr>\n",
       "      <th>2</th>\n",
       "      <td>2</td>\n",
       "      <td>311.292611</td>\n",
       "      <td>-66.317774</td>\n",
       "      <td>60218.002703</td>\n",
       "      <td>-1</td>\n",
       "      <td>y</td>\n",
       "      <td>22.295487</td>\n",
       "    </tr>\n",
       "    <tr>\n",
       "      <th>3</th>\n",
       "      <td>3</td>\n",
       "      <td>312.140731</td>\n",
       "      <td>-69.082666</td>\n",
       "      <td>60218.003152</td>\n",
       "      <td>-1</td>\n",
       "      <td>y</td>\n",
       "      <td>21.270421</td>\n",
       "    </tr>\n",
       "    <tr>\n",
       "      <th>4</th>\n",
       "      <td>4</td>\n",
       "      <td>304.170163</td>\n",
       "      <td>-73.375442</td>\n",
       "      <td>60218.003624</td>\n",
       "      <td>-1</td>\n",
       "      <td>y</td>\n",
       "      <td>21.205276</td>\n",
       "    </tr>\n",
       "    <tr>\n",
       "      <th>...</th>\n",
       "      <td>...</td>\n",
       "      <td>...</td>\n",
       "      <td>...</td>\n",
       "      <td>...</td>\n",
       "      <td>...</td>\n",
       "      <td>...</td>\n",
       "      <td>...</td>\n",
       "    </tr>\n",
       "    <tr>\n",
       "      <th>2086975</th>\n",
       "      <td>2086975</td>\n",
       "      <td>338.528926</td>\n",
       "      <td>-55.399555</td>\n",
       "      <td>63870.104267</td>\n",
       "      <td>-1</td>\n",
       "      <td>y</td>\n",
       "      <td>21.917628</td>\n",
       "    </tr>\n",
       "    <tr>\n",
       "      <th>2086976</th>\n",
       "      <td>2086976</td>\n",
       "      <td>347.380828</td>\n",
       "      <td>-54.922128</td>\n",
       "      <td>63870.104758</td>\n",
       "      <td>-1</td>\n",
       "      <td>y</td>\n",
       "      <td>21.864586</td>\n",
       "    </tr>\n",
       "    <tr>\n",
       "      <th>2086977</th>\n",
       "      <td>2086977</td>\n",
       "      <td>350.974688</td>\n",
       "      <td>-52.986827</td>\n",
       "      <td>63870.105219</td>\n",
       "      <td>-1</td>\n",
       "      <td>y</td>\n",
       "      <td>21.871581</td>\n",
       "    </tr>\n",
       "    <tr>\n",
       "      <th>2086978</th>\n",
       "      <td>2086978</td>\n",
       "      <td>356.062503</td>\n",
       "      <td>-53.778759</td>\n",
       "      <td>63870.105677</td>\n",
       "      <td>-1</td>\n",
       "      <td>y</td>\n",
       "      <td>21.850527</td>\n",
       "    </tr>\n",
       "    <tr>\n",
       "      <th>2086979</th>\n",
       "      <td>2086979</td>\n",
       "      <td>352.585400</td>\n",
       "      <td>-55.879554</td>\n",
       "      <td>63870.106138</td>\n",
       "      <td>-1</td>\n",
       "      <td>y</td>\n",
       "      <td>21.837416</td>\n",
       "    </tr>\n",
       "  </tbody>\n",
       "</table>\n",
       "<p>2086980 rows × 7 columns</p>\n",
       "</div>"
      ],
      "text/plain": [
       "         observationId     fieldRA   fieldDec  observationStartMJD  fieldId  \\\n",
       "0                    0  310.024480 -60.812928         60218.001806       -1   \n",
       "1                    1  310.601871 -63.561425         60218.002254       -1   \n",
       "2                    2  311.292611 -66.317774         60218.002703       -1   \n",
       "3                    3  312.140731 -69.082666         60218.003152       -1   \n",
       "4                    4  304.170163 -73.375442         60218.003624       -1   \n",
       "...                ...         ...        ...                  ...      ...   \n",
       "2086975        2086975  338.528926 -55.399555         63870.104267       -1   \n",
       "2086976        2086976  347.380828 -54.922128         63870.104758       -1   \n",
       "2086977        2086977  350.974688 -52.986827         63870.105219       -1   \n",
       "2086978        2086978  356.062503 -53.778759         63870.105677       -1   \n",
       "2086979        2086979  352.585400 -55.879554         63870.106138       -1   \n",
       "\n",
       "        filter  fiveSigmaDepth  \n",
       "0            y       22.370557  \n",
       "1            y       22.338327  \n",
       "2            y       22.295487  \n",
       "3            y       21.270421  \n",
       "4            y       21.205276  \n",
       "...        ...             ...  \n",
       "2086975      y       21.917628  \n",
       "2086976      y       21.864586  \n",
       "2086977      y       21.871581  \n",
       "2086978      y       21.850527  \n",
       "2086979      y       21.837416  \n",
       "\n",
       "[2086980 rows x 7 columns]"
      ]
     },
     "execution_count": 8,
     "metadata": {},
     "output_type": "execute_result"
    }
   ],
   "source": [
    "band_obs"
   ]
  },
  {
   "cell_type": "code",
   "execution_count": 9,
   "id": "af68a082-ca75-4313-942d-38774b87785c",
   "metadata": {},
   "outputs": [],
   "source": [
    "import matplotlib.pyplot as plt\n",
    "%matplotlib Inline"
   ]
  },
  {
   "cell_type": "code",
   "execution_count": 10,
   "id": "dee442e8-3eff-4635-bd07-fc3e74d5d307",
   "metadata": {},
   "outputs": [
    {
     "data": {
      "text/plain": [
       "Text(0, 0.5, 'DEC')"
      ]
     },
     "execution_count": 10,
     "metadata": {},
     "output_type": "execute_result"
    },
    {
     "data": {
      "image/png": "[encoded data removed]",
      "text/plain": [
       "<Figure size 432x288 with 1 Axes>"
      ]
     },
     "metadata": {
      "needs_background": "light"
     },
     "output_type": "display_data"
    }
   ],
   "source": [
    "plt.scatter(band_obs['fieldRA'], band_obs['fieldDec'])\n",
    "plt.xlabel('RA')\n",
    "plt.ylabel('DEC')"
   ]
  },
  {
   "cell_type": "code",
   "execution_count": 11,
   "id": "52c4cda9-b2aa-4a27-9cd0-269b54d80099",
   "metadata": {},
   "outputs": [],
   "source": [
    "import matplotlib as npl"
   ]
  },
  {
   "cell_type": "code",
   "execution_count": 12,
   "id": "083dccc5-4826-42d5-9f71-dca602162981",
   "metadata": {},
   "outputs": [
    {
     "data": {
      "text/plain": [
       "<matplotlib.colorbar.Colorbar at 0x7f54ae2474c0>"
      ]
     },
     "execution_count": 12,
     "metadata": {},
     "output_type": "execute_result"
    },
    {
     "data": {
      "image/png": "[encoded data removed]",
      "text/plain": [
       "<Figure size 432x288 with 2 Axes>"
      ]
     },
     "metadata": {
      "needs_background": "light"
     },
     "output_type": "display_data"
    }
   ],
   "source": [
    "plt.hist2d(band_obs['fieldRA'], band_obs['fieldDec'], bins = 50, norm=npl.colors.LogNorm())\n",
    "plt.xlabel('RA')\n",
    "plt.ylabel('DEC')\n",
    "plt.colorbar()"
   ]
  },
  {
   "cell_type": "code",
   "execution_count": 13,
   "id": "bf41e81a-e8b8-46b7-bdd2-5bb9b4089ad0",
   "metadata": {},
   "outputs": [],
   "source": [
    "import numpy as np"
   ]
  },
  {
   "cell_type": "code",
   "execution_count": 14,
   "id": "1ea3b215-bbda-48fb-8948-10961bfa2db3",
   "metadata": {},
   "outputs": [],
   "source": [
    "find_max_RA = np.max(band_obs['fieldRA'])\n",
    "find_min_RA = np.min(band_obs['fieldRA'])\n",
    "find_max_DEC = np.max(band_obs['fieldDec'])\n",
    "find_min_DEC = np.min(band_obs['fieldDec'])\n",
    "num_bins = 50"
   ]
  },
  {
   "cell_type": "code",
   "execution_count": 15,
   "id": "e82a01a4-b7b2-47d0-97f5-229cf4df053d",
   "metadata": {},
   "outputs": [],
   "source": [
    "RA_set = np.linspace(find_min_RA, find_max_RA, num_bins+1)\n",
    "DEC_set = np.linspace(find_min_DEC, find_max_DEC, num_bins+1)"
   ]
  },
  {
   "cell_type": "code",
   "execution_count": 16,
   "id": "3a784692-ea8c-46cd-8b36-097a8138d81c",
   "metadata": {},
   "outputs": [
    {
     "data": {
      "text/plain": [
       "array([44, 44, 44, ..., 49, 50, 49])"
      ]
     },
     "execution_count": 16,
     "metadata": {},
     "output_type": "execute_result"
    }
   ],
   "source": [
    "RA_bins = np.digitize(band_obs['fieldRA'], RA_set, right=True)\n",
    "RA_bins"
   ]
  },
  {
   "cell_type": "code",
   "execution_count": 17,
   "id": "c87d2465-c536-4d41-8904-2f2c75f3c271",
   "metadata": {},
   "outputs": [
    {
     "data": {
      "text/plain": [
       "array([12, 11, 10, ..., 15, 15, 14])"
      ]
     },
     "execution_count": 17,
     "metadata": {},
     "output_type": "execute_result"
    }
   ],
   "source": [
    "DEC_bins = np.digitize(band_obs['fieldDec'], DEC_set, right=True)\n",
    "DEC_bins"
   ]
  },
  {
   "cell_type": "code",
   "execution_count": 18,
   "id": "ad703853-7a94-4a94-bb0f-85b409261afe",
   "metadata": {},
   "outputs": [],
   "source": [
    "band_obs['RABins'] = RA_bins\n",
    "band_obs['DECBins'] = DEC_bins"
   ]
  },
  {
   "cell_type": "code",
   "execution_count": 19,
   "id": "4df61024-5a58-4133-8621-ebf281ccaa43",
   "metadata": {},
   "outputs": [
    {
     "data": {
      "text/html": [
       "<div>\n",
       "<style scoped>\n",
       "    .dataframe tbody tr th:only-of-type {\n",
       "        vertical-align: middle;\n",
       "    }\n",
       "\n",
       "    .dataframe tbody tr th {\n",
       "        vertical-align: top;\n",
       "    }\n",
       "\n",
       "    .dataframe thead th {\n",
       "        text-align: right;\n",
       "    }\n",
       "</style>\n",
       "<table border=\"1\" class=\"dataframe\">\n",
       "  <thead>\n",
       "    <tr style=\"text-align: right;\">\n",
       "      <th></th>\n",
       "      <th>observationId</th>\n",
       "      <th>fieldRA</th>\n",
       "      <th>fieldDec</th>\n",
       "      <th>observationStartMJD</th>\n",
       "      <th>fieldId</th>\n",
       "      <th>filter</th>\n",
       "      <th>fiveSigmaDepth</th>\n",
       "      <th>RABins</th>\n",
       "      <th>DECBins</th>\n",
       "    </tr>\n",
       "  </thead>\n",
       "  <tbody>\n",
       "    <tr>\n",
       "      <th>0</th>\n",
       "      <td>0</td>\n",
       "      <td>310.024480</td>\n",
       "      <td>-60.812928</td>\n",
       "      <td>60218.001806</td>\n",
       "      <td>2162</td>\n",
       "      <td>y</td>\n",
       "      <td>22.370557</td>\n",
       "      <td>44</td>\n",
       "      <td>12</td>\n",
       "    </tr>\n",
       "    <tr>\n",
       "      <th>1</th>\n",
       "      <td>1</td>\n",
       "      <td>310.601871</td>\n",
       "      <td>-63.561425</td>\n",
       "      <td>60218.002254</td>\n",
       "      <td>2161</td>\n",
       "      <td>y</td>\n",
       "      <td>22.338327</td>\n",
       "      <td>44</td>\n",
       "      <td>11</td>\n",
       "    </tr>\n",
       "    <tr>\n",
       "      <th>2</th>\n",
       "      <td>2</td>\n",
       "      <td>311.292611</td>\n",
       "      <td>-66.317774</td>\n",
       "      <td>60218.002703</td>\n",
       "      <td>2160</td>\n",
       "      <td>y</td>\n",
       "      <td>22.295487</td>\n",
       "      <td>44</td>\n",
       "      <td>10</td>\n",
       "    </tr>\n",
       "    <tr>\n",
       "      <th>3</th>\n",
       "      <td>3</td>\n",
       "      <td>312.140731</td>\n",
       "      <td>-69.082666</td>\n",
       "      <td>60218.003152</td>\n",
       "      <td>2159</td>\n",
       "      <td>y</td>\n",
       "      <td>21.270421</td>\n",
       "      <td>44</td>\n",
       "      <td>9</td>\n",
       "    </tr>\n",
       "    <tr>\n",
       "      <th>4</th>\n",
       "      <td>4</td>\n",
       "      <td>304.170163</td>\n",
       "      <td>-73.375442</td>\n",
       "      <td>60218.003624</td>\n",
       "      <td>2107</td>\n",
       "      <td>y</td>\n",
       "      <td>21.205276</td>\n",
       "      <td>43</td>\n",
       "      <td>7</td>\n",
       "    </tr>\n",
       "    <tr>\n",
       "      <th>...</th>\n",
       "      <td>...</td>\n",
       "      <td>...</td>\n",
       "      <td>...</td>\n",
       "      <td>...</td>\n",
       "      <td>...</td>\n",
       "      <td>...</td>\n",
       "      <td>...</td>\n",
       "      <td>...</td>\n",
       "      <td>...</td>\n",
       "    </tr>\n",
       "    <tr>\n",
       "      <th>2086975</th>\n",
       "      <td>2086975</td>\n",
       "      <td>338.528926</td>\n",
       "      <td>-55.399555</td>\n",
       "      <td>63870.104267</td>\n",
       "      <td>2364</td>\n",
       "      <td>y</td>\n",
       "      <td>21.917628</td>\n",
       "      <td>48</td>\n",
       "      <td>14</td>\n",
       "    </tr>\n",
       "    <tr>\n",
       "      <th>2086976</th>\n",
       "      <td>2086976</td>\n",
       "      <td>347.380828</td>\n",
       "      <td>-54.922128</td>\n",
       "      <td>63870.104758</td>\n",
       "      <td>2415</td>\n",
       "      <td>y</td>\n",
       "      <td>21.864586</td>\n",
       "      <td>49</td>\n",
       "      <td>15</td>\n",
       "    </tr>\n",
       "    <tr>\n",
       "      <th>2086977</th>\n",
       "      <td>2086977</td>\n",
       "      <td>350.974688</td>\n",
       "      <td>-52.986827</td>\n",
       "      <td>63870.105219</td>\n",
       "      <td>2415</td>\n",
       "      <td>y</td>\n",
       "      <td>21.871581</td>\n",
       "      <td>49</td>\n",
       "      <td>15</td>\n",
       "    </tr>\n",
       "    <tr>\n",
       "      <th>2086978</th>\n",
       "      <td>2086978</td>\n",
       "      <td>356.062503</td>\n",
       "      <td>-53.778759</td>\n",
       "      <td>63870.105677</td>\n",
       "      <td>2465</td>\n",
       "      <td>y</td>\n",
       "      <td>21.850527</td>\n",
       "      <td>50</td>\n",
       "      <td>15</td>\n",
       "    </tr>\n",
       "    <tr>\n",
       "      <th>2086979</th>\n",
       "      <td>2086979</td>\n",
       "      <td>352.585400</td>\n",
       "      <td>-55.879554</td>\n",
       "      <td>63870.106138</td>\n",
       "      <td>2414</td>\n",
       "      <td>y</td>\n",
       "      <td>21.837416</td>\n",
       "      <td>49</td>\n",
       "      <td>14</td>\n",
       "    </tr>\n",
       "  </tbody>\n",
       "</table>\n",
       "<p>2086980 rows × 9 columns</p>\n",
       "</div>"
      ],
      "text/plain": [
       "         observationId     fieldRA   fieldDec  observationStartMJD  fieldId  \\\n",
       "0                    0  310.024480 -60.812928         60218.001806     2162   \n",
       "1                    1  310.601871 -63.561425         60218.002254     2161   \n",
       "2                    2  311.292611 -66.317774         60218.002703     2160   \n",
       "3                    3  312.140731 -69.082666         60218.003152     2159   \n",
       "4                    4  304.170163 -73.375442         60218.003624     2107   \n",
       "...                ...         ...        ...                  ...      ...   \n",
       "2086975        2086975  338.528926 -55.399555         63870.104267     2364   \n",
       "2086976        2086976  347.380828 -54.922128         63870.104758     2415   \n",
       "2086977        2086977  350.974688 -52.986827         63870.105219     2415   \n",
       "2086978        2086978  356.062503 -53.778759         63870.105677     2465   \n",
       "2086979        2086979  352.585400 -55.879554         63870.106138     2414   \n",
       "\n",
       "        filter  fiveSigmaDepth  RABins  DECBins  \n",
       "0            y       22.370557      44       12  \n",
       "1            y       22.338327      44       11  \n",
       "2            y       22.295487      44       10  \n",
       "3            y       21.270421      44        9  \n",
       "4            y       21.205276      43        7  \n",
       "...        ...             ...     ...      ...  \n",
       "2086975      y       21.917628      48       14  \n",
       "2086976      y       21.864586      49       15  \n",
       "2086977      y       21.871581      49       15  \n",
       "2086978      y       21.850527      50       15  \n",
       "2086979      y       21.837416      49       14  \n",
       "\n",
       "[2086980 rows x 9 columns]"
      ]
     },
     "execution_count": 19,
     "metadata": {},
     "output_type": "execute_result"
    }
   ],
   "source": [
    "new_field_id = (RA_bins-1) * 50 + DEC_bins\n",
    "band_obs['fieldId'] = new_field_id\n",
    "band_obs"
   ]
  },
  {
   "cell_type": "code",
   "execution_count": 20,
   "id": "671961c0-c0f0-4234-9378-c6f6cdbc7669",
   "metadata": {},
   "outputs": [
    {
     "name": "stdout",
     "output_type": "stream",
     "text": [
      "         observationId     fieldRA   fieldDec  observationStartMJD  fieldId  \\\n",
      "772                772  349.857034 -82.633511         60218.357890     2403   \n",
      "846124          846124  349.132762 -83.345848         61682.142242     2403   \n",
      "860288          860288  349.770490 -84.147058         61703.077226     2403   \n",
      "1680668        1680668  349.123067 -82.933787         63159.185750     2403   \n",
      "1875208        1875208  346.865503 -83.230118         63536.152786     2403   \n",
      "\n",
      "        filter  fiveSigmaDepth  RABins  DECBins  \n",
      "772          r       22.115278      49        3  \n",
      "846124       r       23.833470      49        3  \n",
      "860288       r       23.336416      49        3  \n",
      "1680668      r       23.423731      49        3  \n",
      "1875208      r       23.918868      49        3            observationId     fieldRA   fieldDec  observationStartMJD  fieldId  \\\n",
      "1259256        1259256  351.795196 -83.451359         62442.066218     2403   \n",
      "1478871        1478871  346.629750 -83.641666         62802.056051     2403   \n",
      "1680618        1680618  349.123067 -82.933787         63159.161138     2403   \n",
      "\n",
      "        filter  fiveSigmaDepth  RABins  DECBins  \n",
      "1259256      g       24.005959      49        3  \n",
      "1478871      g       23.803613      49        3  \n",
      "1680618      g       23.770814      49        3  \n"
     ]
    }
   ],
   "source": [
    "r_filter = band_obs.query('fieldId == 2403 and filter == \"r\"')\n",
    "g_filter = band_obs.query('fieldId == 2403 and filter == \"g\"')\n",
    "print(r_filter, g_filter)"
   ]
  },
  {
   "cell_type": "code",
   "execution_count": 21,
   "id": "b33aa337-fa4b-4255-844b-3f59bcc0961c",
   "metadata": {},
   "outputs": [
    {
     "name": "stdout",
     "output_type": "stream",
     "text": [
      "atmos_10.dat   filter_r.dat    hardware_r.dat  lens3.dat\ttotal_g.dat\n",
      "atmos_std.dat  filter_u.dat    hardware_u.dat  LSSTfilters.png\ttotal_i.dat\n",
      "darksky.dat    filter_y.dat    hardware_y.dat  m1.dat\t\ttotal_r.dat\n",
      "detector.dat   filter_z.dat    hardware_z.dat  m2.dat\t\ttotal_u.dat\n",
      "filter_g.dat   hardware_g.dat  lens1.dat       m3.dat\t\ttotal_y.dat\n",
      "filter_i.dat   hardware_i.dat  lens2.dat       README.md\ttotal_z.dat\n"
     ]
    }
   ],
   "source": [
    "import os\n",
    "import numpy as np\n",
    "import matplotlib.pyplot as plt\n",
    "%matplotlib inline\n",
    "import pandas as pd\n",
    "\n",
    "fdir = os.getenv('RUBIN_SIM_DATA_DIR')\n",
    "if fdir is None:  #environment variable not set\n",
    "    fdir = os.path.join(os.getenv('HOME'), 'rubin_sim_data')\n",
    "\n",
    "fdir = '/home/jovyan/uw-premap-2022-photoz/data/lsst_baseline_throughputs'\n",
    "\n",
    "!ls $fdir"
   ]
  },
  {
   "cell_type": "code",
   "execution_count": 22,
   "id": "1977465f-c747-4eb9-b20f-6584d1aa766b",
   "metadata": {},
   "outputs": [
    {
     "name": "stdout",
     "output_type": "stream",
     "text": [
      "atmos_10.dat   filter_r.dat    hardware_r.dat  lens3.dat\ttotal_g.dat\n",
      "atmos_std.dat  filter_u.dat    hardware_u.dat  LSSTfilters.png\ttotal_i.dat\n",
      "darksky.dat    filter_y.dat    hardware_y.dat  m1.dat\t\ttotal_r.dat\n",
      "detector.dat   filter_z.dat    hardware_z.dat  m2.dat\t\ttotal_u.dat\n",
      "filter_g.dat   hardware_g.dat  lens1.dat       m3.dat\t\ttotal_y.dat\n",
      "filter_i.dat   hardware_i.dat  lens2.dat       README.md\ttotal_z.dat\n"
     ]
    }
   ],
   "source": [
    "fdir = os.getenv('RUBIN_SIM_DATA_DIR')\n",
    "if fdir is None:  #environment variable not set\n",
    "    fdir = os.path.join(os.getenv('HOME'), 'rubin_sim_data')\n",
    "\n",
    "fdir = '/home/jovyan/uw-premap-2022-photoz/data/lsst_baseline_throughputs'\n",
    "\n",
    "!ls $fdir"
   ]
  },
  {
   "cell_type": "code",
   "execution_count": 23,
   "id": "4c8a5811-d93a-4331-8faa-bc13f7b41925",
   "metadata": {},
   "outputs": [],
   "source": [
    "import rubin_sim.photUtils.Bandpass as Bandpass\n",
    "import rubin_sim.photUtils.Sed as Sed"
   ]
  },
  {
   "cell_type": "code",
   "execution_count": 24,
   "id": "a54169c6-6b45-4a3b-a0c0-b59964c27e37",
   "metadata": {},
   "outputs": [],
   "source": [
    "sun = Sed()\n",
    "sun.readSED_flambda('/home/jovyan/uw-premap-2022-photoz/data/sed_templates/CWW_KINNEY/CWW_E_ext.sed')\n",
    "sun.wavelen/=10"
   ]
  },
  {
   "cell_type": "code",
   "execution_count": null,
   "id": "a9a5dbd9-5084-4cde-a83d-9331d79a42a0",
   "metadata": {},
   "outputs": [],
   "source": []
  },
  {
   "cell_type": "code",
   "execution_count": 25,
   "id": "48411316-9469-4ad5-a0b5-a2a76cbcef5c",
   "metadata": {},
   "outputs": [
    {
     "data": {
      "text/html": [
       "<div>\n",
       "<style scoped>\n",
       "    .dataframe tbody tr th:only-of-type {\n",
       "        vertical-align: middle;\n",
       "    }\n",
       "\n",
       "    .dataframe tbody tr th {\n",
       "        vertical-align: top;\n",
       "    }\n",
       "\n",
       "    .dataframe thead th {\n",
       "        text-align: right;\n",
       "    }\n",
       "</style>\n",
       "<table border=\"1\" class=\"dataframe\">\n",
       "  <thead>\n",
       "    <tr style=\"text-align: right;\">\n",
       "      <th></th>\n",
       "      <th>Sun</th>\n",
       "    </tr>\n",
       "  </thead>\n",
       "  <tbody>\n",
       "    <tr>\n",
       "      <th>u</th>\n",
       "      <td>-4.150003</td>\n",
       "    </tr>\n",
       "    <tr>\n",
       "      <th>g</th>\n",
       "      <td>-5.896804</td>\n",
       "    </tr>\n",
       "    <tr>\n",
       "      <th>r</th>\n",
       "      <td>-6.622219</td>\n",
       "    </tr>\n",
       "    <tr>\n",
       "      <th>i</th>\n",
       "      <td>-6.974888</td>\n",
       "    </tr>\n",
       "    <tr>\n",
       "      <th>z</th>\n",
       "      <td>-7.233845</td>\n",
       "    </tr>\n",
       "    <tr>\n",
       "      <th>y</th>\n",
       "      <td>-7.425142</td>\n",
       "    </tr>\n",
       "  </tbody>\n",
       "</table>\n",
       "</div>"
      ],
      "text/plain": [
       "        Sun\n",
       "u -4.150003\n",
       "g -5.896804\n",
       "r -6.622219\n",
       "i -6.974888\n",
       "z -7.233845\n",
       "y -7.425142"
      ]
     },
     "execution_count": 25,
     "metadata": {},
     "output_type": "execute_result"
    }
   ],
   "source": [
    "filterlist = ['u', 'g', 'r', 'i', 'z', 'y']\n",
    "\n",
    "lsst = {}\n",
    "for f in filterlist:\n",
    "    lsst[f] = Bandpass()\n",
    "    lsst[f].readThroughput(os.path.join(fdir, f'total_{f}.dat'))\n",
    "    \n",
    "mags = {}\n",
    "for f in filterlist:\n",
    "    mags[f] = sun.calcMag(lsst[f])\n",
    "\n",
    "# Make a dataframe just to get a nice output cell.\n",
    "pd.DataFrame(mags, index=['Sun']).T"
   ]
  },
  {
   "cell_type": "code",
   "execution_count": 26,
   "id": "a6580a77-07e6-4098-b202-5fbce7293345",
   "metadata": {},
   "outputs": [
    {
     "data": {
      "text/html": [
       "<div>\n",
       "<style scoped>\n",
       "    .dataframe tbody tr th:only-of-type {\n",
       "        vertical-align: middle;\n",
       "    }\n",
       "\n",
       "    .dataframe tbody tr th {\n",
       "        vertical-align: top;\n",
       "    }\n",
       "\n",
       "    .dataframe thead th {\n",
       "        text-align: right;\n",
       "    }\n",
       "</style>\n",
       "<table border=\"1\" class=\"dataframe\">\n",
       "  <thead>\n",
       "    <tr style=\"text-align: right;\">\n",
       "      <th></th>\n",
       "      <th>Distant Sun</th>\n",
       "    </tr>\n",
       "  </thead>\n",
       "  <tbody>\n",
       "    <tr>\n",
       "      <th>u</th>\n",
       "      <td>22.472216</td>\n",
       "    </tr>\n",
       "    <tr>\n",
       "      <th>g</th>\n",
       "      <td>20.725415</td>\n",
       "    </tr>\n",
       "    <tr>\n",
       "      <th>r</th>\n",
       "      <td>20.000000</td>\n",
       "    </tr>\n",
       "    <tr>\n",
       "      <th>i</th>\n",
       "      <td>19.647330</td>\n",
       "    </tr>\n",
       "    <tr>\n",
       "      <th>z</th>\n",
       "      <td>19.388374</td>\n",
       "    </tr>\n",
       "    <tr>\n",
       "      <th>y</th>\n",
       "      <td>19.197076</td>\n",
       "    </tr>\n",
       "  </tbody>\n",
       "</table>\n",
       "</div>"
      ],
      "text/plain": [
       "   Distant Sun\n",
       "u    22.472216\n",
       "g    20.725415\n",
       "r    20.000000\n",
       "i    19.647330\n",
       "z    19.388374\n",
       "y    19.197076"
      ]
     },
     "execution_count": 26,
     "metadata": {},
     "output_type": "execute_result"
    }
   ],
   "source": [
    "r = 20.0\n",
    "\n",
    "fluxNorm = sun.calcFluxNorm(r, lsst['r'])\n",
    "\n",
    "sun.multiplyFluxNorm(fluxNorm)\n",
    "\n",
    "mags = {}\n",
    "for f in filterlist:\n",
    "    mags[f] = sun.calcMag(lsst[f])\n",
    "    \n",
    "pd.DataFrame(mags, index=['Distant Sun']).T"
   ]
  },
  {
   "cell_type": "code",
   "execution_count": 27,
   "id": "6514feb5-2aed-4fdb-958d-e3cee5f54a3d",
   "metadata": {},
   "outputs": [],
   "source": [
    "from rubin_sim.photUtils import SignalToNoise\n",
    "from rubin_sim.photUtils import PhotometricParameters"
   ]
  },
  {
   "cell_type": "code",
   "execution_count": 28,
   "id": "7e0232bc-f13c-44bb-a896-7f39e5eec3cd",
   "metadata": {},
   "outputs": [
    {
     "data": {
      "text/plain": [
       "(0.013139422508835895, 0.03934261437469505)"
      ]
     },
     "execution_count": 28,
     "metadata": {},
     "output_type": "execute_result"
    }
   ],
   "source": [
    "SignalToNoise.calcMagError_m5(magnitude=20, bandpass=lsst['r'], m5=24, photParams=PhotometricParameters())\n",
    "SignalToNoise.calcMagError_m5(magnitude=20.725415, bandpass=lsst['g'], m5=24, photParams=PhotometricParameters())"
   ]
  },
  {
   "cell_type": "code",
   "execution_count": 29,
   "id": "86ab8100-e3c6-4d72-844d-8aed63972de0",
   "metadata": {},
   "outputs": [
    {
     "name": "stdout",
     "output_type": "stream",
     "text": [
      "0.031221444804164934\n",
      "0.009322245115585407\n"
     ]
    }
   ],
   "source": [
    "mag_error_r, gamma = SignalToNoise.calcMagError_m5(20, lsst['r'], 22.115278, PhotometricParameters())\n",
    "mag_error_2r, gamma = SignalToNoise.calcMagError_m5(20, lsst['r'], 23.833470, PhotometricParameters())\n",
    "print(mag_error_r)\n",
    "print(mag_error_2r)"
   ]
  },
  {
   "cell_type": "code",
   "execution_count": 30,
   "id": "98bfb9d4-5f3d-4ac6-8458-58cf5122ac80",
   "metadata": {},
   "outputs": [
    {
     "name": "stdout",
     "output_type": "stream",
     "text": [
      "0.014857161547721024 0.013093479367888855\n"
     ]
    }
   ],
   "source": [
    "mag_error_g, gamma = SignalToNoise.calcMagError_m5(20.725415, lsst['g'], 23.803613 , PhotometricParameters())\n",
    "mag_error_2g, gamma = SignalToNoise.calcMagError_m5(20.725415, lsst['g'], 24.005959, PhotometricParameters())\n",
    "print(mag_error_g, mag_error_2g)"
   ]
  },
  {
   "cell_type": "code",
   "execution_count": 31,
   "id": "56b74e26-622b-4d38-a81c-62434bb52469",
   "metadata": {
    "tags": []
   },
   "outputs": [],
   "source": [
    "mag_2 = 20\n",
    "mag_1 = 20.725415\n",
    "def combine_col_err(mag_1, mag_2, err_1, err_2):\n",
    "    return mag_1-mag_2, np.sqrt(mag_error_g**2 + mag_error_r**2)"
   ]
  },
  {
   "cell_type": "code",
   "execution_count": 32,
   "id": "5b0a94c6-e2b5-4924-b5f3-6a418b7cf148",
   "metadata": {},
   "outputs": [],
   "source": [
    "gmr_error = combine_col_err(mag_1, mag_2, mag_error_g, mag_error_r)"
   ]
  },
  {
   "cell_type": "code",
   "execution_count": 33,
   "id": "7b8f5d81-e061-4863-8874-2dc993b7b9c0",
   "metadata": {},
   "outputs": [
    {
     "data": {
      "text/plain": [
       "(0.7254150000000017, 0.0345762037377529)"
      ]
     },
     "execution_count": 33,
     "metadata": {},
     "output_type": "execute_result"
    }
   ],
   "source": [
    "gmr_error\n"
   ]
  },
  {
   "cell_type": "code",
   "execution_count": null,
   "id": "f5ef3db6-fd8f-49be-8abe-bb5586bde2d0",
   "metadata": {},
   "outputs": [],
   "source": []
  },
  {
   "cell_type": "code",
   "execution_count": 108,
   "id": "2ff1cea1-b959-4990-a225-bcf01f08c3de",
   "metadata": {
    "tags": []
   },
   "outputs": [
    {
     "name": "stdout",
     "output_type": "stream",
     "text": [
      "[0.7254152168005632, 0.9092875263745306, 1.21556563554606, 1.5101335745430582, 1.7336961338800663, 1.6247841723966872, 1.564944229071827, 1.6311809361247, 1.8812287964095908, 2.127568839165825, 2.2677011843884642, 2.1867075250048273, 1.8528072436778764, 1.4936730257263982, 1.1240496109998404, 0.8557468597614317, 0.7198391764086622, 0.7096387142844485, 0.747772632412822, 0.7750666481098385, 0.7663830025511693, 0.7227059844917534, 0.6590263915621257, 0.5962345500838815, 0.5445307149382153, 0.508888128898807, 0.4915751575070537, 0.4913180779593205, 0.5034478075371531, 0.5257928424279541, 0.5554684677789687] [1.2671476607381404, 1.3077948000368305, 1.393819183964462, 1.500235956268231, 1.5972065577364405, 1.5482105621614457, 1.522709331607012, 1.5509962136236233, 1.6688454209977568, 1.8015981164084949, 1.8841186665033087, 1.8358238191244365, 1.6545776846994644, 1.4936518602014357, 1.3655781774662794, 1.2951559621782334, 1.26603345029476, 1.2640125069440578, 1.2716829212329661, 1.277368361564632, 1.275541636127572, 1.2666054605467143, 1.2543116430242056, 1.2430111414880318, 1.2342935467822305, 1.2285815235092927, 1.2258922407974322, 1.225852721913196, 1.227730518186224, 1.231260919404522, 1.2360945975053654]\n"
     ]
    }
   ],
   "source": [
    "from copy import copy\n",
    "g_r = []\n",
    "g_r_err = []\n",
    "pdf_list = []\n",
    "r = 24.5\n",
    "for redshift in np.arange(0,3.1,0.1):\n",
    "    sun_copy = copy(sun)\n",
    "    sun_copy.redshiftSED(redshift)\n",
    "    mags = {}\n",
    "    fluxNorm = sun_copy.calcFluxNorm(r, lsst['r'])\n",
    "    sun_copy.multiplyFluxNorm(fluxNorm)\n",
    "    mags = {}\n",
    "    for f in filterlist:\n",
    "        mags[f] = sun_copy.calcMag(lsst[f])\n",
    "        pd.DataFrame(mags, index=['Distant Sun']).T\n",
    "    gr_color = mags['g'] - mags['r']\n",
    "    gr_error = np.sqrt(mag_error_r**2 + mag_error_g**2)\n",
    "    pdf_list.append(norm(loc = gr_color, scale = gr_error))\n",
    "    g_r.append(mags['g'] - mags['r'])\n",
    "    mag_error_g, gamma = SignalToNoise.calcMagError_m5(mags['g'], lsst['g'], 23.803613 , PhotometricParameters())\n",
    "    mag_error_r, gamma = SignalToNoise.calcMagError_m5(mags['r'], lsst['r'], 22.115278, PhotometricParameters())\n",
    "    g_r_err.append(np.sqrt(mag_error_r**2 + mag_error_g**2))\n",
    "    \n",
    "    \n",
    "\n",
    "print(g_r, g_r_err)"
   ]
  },
  {
   "cell_type": "code",
   "execution_count": 109,
   "id": "ab4f2791-9818-4080-838d-550444295296",
   "metadata": {},
   "outputs": [],
   "source": [
    "# g_r_err on x-axis, g_r on y-axis"
   ]
  },
  {
   "cell_type": "code",
   "execution_count": 110,
   "id": "a73c9aa6-e3a8-42cb-9e3d-a31a2d0b08c0",
   "metadata": {},
   "outputs": [
    {
     "data": {
      "text/plain": [
       "Text(0, 0.5, 'Color')"
      ]
     },
     "execution_count": 110,
     "metadata": {},
     "output_type": "execute_result"
    },
    {
     "data": {
      "image/png": "[encoded data removed]",
      "text/plain": [
       "<Figure size 432x288 with 1 Axes>"
      ]
     },
     "metadata": {
      "needs_background": "light"
     },
     "output_type": "display_data"
    }
   ],
   "source": [
    "redshift_r = np.arange(0,3.1,0.1)\n",
    "plt.plot(redshift_r, g_r)\n",
    "plt.xlabel(\"Redshift\")\n",
    "plt.ylabel(\"Color\")"
   ]
  },
  {
   "cell_type": "code",
   "execution_count": 111,
   "id": "52236490-384c-4fda-858f-fb82ec9c781c",
   "metadata": {},
   "outputs": [],
   "source": [
    "from scipy.stats import norm"
   ]
  },
  {
   "cell_type": "code",
   "execution_count": 112,
   "id": "6e597be9-53b6-4e2b-bcf1-d4149d5b1ab7",
   "metadata": {},
   "outputs": [
    {
     "data": {
      "text/plain": [
       "(0.7254152168005632, 1.2671476607381404)"
      ]
     },
     "execution_count": 112,
     "metadata": {},
     "output_type": "execute_result"
    }
   ],
   "source": [
    "g_r[0], g_r_err[0]"
   ]
  },
  {
   "cell_type": "code",
   "execution_count": 113,
   "id": "b44240f1-2e2f-48a5-a46d-358660ae3408",
   "metadata": {},
   "outputs": [],
   "source": [
    "gal_z_0 = norm(loc=g_r[0], scale=g_r_err[0])\n",
    "gal_z_0p5 = norm(loc=g_r[5], scale=g_r_err[5])\n",
    "gal_z_1p0 = norm(loc=g_r[10], scale=g_r_err[10])"
   ]
  },
  {
   "cell_type": "code",
   "execution_count": null,
   "id": "e2f4b3b0-7cde-455f-a3ac-29a15a82cc00",
   "metadata": {},
   "outputs": [],
   "source": []
  },
  {
   "cell_type": "code",
   "execution_count": 114,
   "id": "62389351-0b1f-409a-b423-3374cb53f296",
   "metadata": {},
   "outputs": [
    {
     "data": {
      "text/plain": [
       "(0.4913180779593205, 2.2677011843884642)"
      ]
     },
     "execution_count": 114,
     "metadata": {},
     "output_type": "execute_result"
    }
   ],
   "source": [
    "np.min(g_r), np.max(g_r)"
   ]
  },
  {
   "cell_type": "code",
   "execution_count": 115,
   "id": "4317bf64-f5cd-44a4-8687-1e4b2baa98c0",
   "metadata": {},
   "outputs": [],
   "source": [
    "color_range = np.arange(-4,8, 0.01)"
   ]
  },
  {
   "cell_type": "code",
   "execution_count": 116,
   "id": "98a0c8f1-b864-442f-80a3-d4195663731e",
   "metadata": {},
   "outputs": [
    {
     "data": {
      "text/plain": [
       "<matplotlib.legend.Legend at 0x7f5452457310>"
      ]
     },
     "execution_count": 116,
     "metadata": {},
     "output_type": "execute_result"
    },
    {
     "data": {
      "image/png": "[encoded data removed]",
      "text/plain": [
       "<Figure size 432x288 with 1 Axes>"
      ]
     },
     "metadata": {
      "needs_background": "light"
     },
     "output_type": "display_data"
    }
   ],
   "source": [
    "plt.plot(color_range, pdf_list[0].pdf(color_range), label = 'z=0')\n",
    "plt.plot(color_range, pdf_list[5].pdf(color_range), label = 'z=0.5')\n",
    "plt.plot(color_range, pdf_list[10].pdf(color_range), label = 'z=1.0')\n",
    "plt.xlabel('g-r color')\n",
    "plt.ylabel('Probability Density')\n",
    "plt.legend()"
   ]
  },
  {
   "cell_type": "code",
   "execution_count": 123,
   "id": "8db37547-bb64-424a-8946-440475a2e37d",
   "metadata": {},
   "outputs": [
    {
     "ename": "TypeError",
     "evalue": "'list' object is not callable",
     "output_type": "error",
     "traceback": [
      "\u001b[0;31m---------------------------------------------------------------------------\u001b[0m",
      "\u001b[0;31mTypeError\u001b[0m                                 Traceback (most recent call last)",
      "\u001b[0;32m/tmp/ipykernel_173/1962342045.py\u001b[0m in \u001b[0;36m<module>\u001b[0;34m\u001b[0m\n\u001b[1;32m      2\u001b[0m \u001b[0mcombined_pdf\u001b[0m \u001b[0;34m=\u001b[0m \u001b[0;34m[\u001b[0m\u001b[0;34m]\u001b[0m\u001b[0;34m\u001b[0m\u001b[0;34m\u001b[0m\u001b[0m\n\u001b[1;32m      3\u001b[0m \u001b[0;32mfor\u001b[0m \u001b[0mcol\u001b[0m \u001b[0;32min\u001b[0m \u001b[0mcolor_range\u001b[0m\u001b[0;34m:\u001b[0m\u001b[0;34m\u001b[0m\u001b[0;34m\u001b[0m\u001b[0m\n\u001b[0;32m----> 4\u001b[0;31m     \u001b[0mcol\u001b[0m \u001b[0;34m=\u001b[0m \u001b[0mpdf_list\u001b[0m\u001b[0;34m(\u001b[0m\u001b[0mcolor_range\u001b[0m\u001b[0;34m)\u001b[0m\u001b[0;34m\u001b[0m\u001b[0;34m\u001b[0m\u001b[0m\n\u001b[0m\u001b[1;32m      5\u001b[0m \u001b[0;32mreturn\u001b[0m \u001b[0mcombined_pdf\u001b[0m\u001b[0;34m.\u001b[0m\u001b[0mappend\u001b[0m\u001b[0;34m(\u001b[0m\u001b[0mcol\u001b[0m\u001b[0;34m)\u001b[0m\u001b[0;34m\u001b[0m\u001b[0;34m\u001b[0m\u001b[0m\n",
      "\u001b[0;31mTypeError\u001b[0m: 'list' object is not callable"
     ]
    }
   ],
   "source": [
    "#combined_pdf = gal_z_0.pdf(color_range) + gal_z_0p5.pdf(color_range) +  gal_z_1p0.pdf(color_range)\n",
    "#combined_pdf = []\n",
    "#for col in color_range:\n",
    " #   col = pdf_list(color_range)\n",
    "#return combined_pdf.append(col)"
   ]
  },
  {
   "cell_type": "code",
   "execution_count": 118,
   "id": "8d52b97f-87aa-47fe-844a-a3c835a6eba8",
   "metadata": {},
   "outputs": [
    {
     "data": {
      "text/plain": [
       "<matplotlib.legend.Legend at 0x7f54ae10f850>"
      ]
     },
     "execution_count": 118,
     "metadata": {},
     "output_type": "execute_result"
    },
    {
     "data": {
      "image/png": "[encoded data removed]",
      "text/plain": [
       "<Figure size 432x288 with 1 Axes>"
      ]
     },
     "metadata": {
      "needs_background": "light"
     },
     "output_type": "display_data"
    }
   ],
   "source": [
    "plt.plot(color_range, gal_z_0.pdf(color_range), label = 'z=0')\n",
    "plt.plot(color_range, gal_z_0p5.pdf(color_range), label = 'z=0.5')\n",
    "plt.plot(color_range, gal_z_1p0.pdf(color_range), label = 'z=1.0')\n",
    "plt.plot(color_range, combined_pdf, '--', label = 'All redshifts')\n",
    "plt.xlabel('g-r color')\n",
    "plt.ylabel('Probability Density')\n",
    "plt.legend()"
   ]
  },
  {
   "cell_type": "code",
   "execution_count": 104,
   "id": "6847aa1d-2aba-4525-877d-705d1bab47a4",
   "metadata": {},
   "outputs": [],
   "source": [
    "from scipy.special import kl_div, rel_entr"
   ]
  },
  {
   "cell_type": "code",
   "execution_count": 105,
   "id": "20818a10-e13a-43e1-96df-32578cfc8e37",
   "metadata": {},
   "outputs": [
    {
     "data": {
      "text/plain": [
       "<matplotlib.legend.Legend at 0x7f5452246fd0>"
      ]
     },
     "execution_count": 105,
     "metadata": {},
     "output_type": "execute_result"
    },
    {
     "data": {
      "image/png": "[encoded data removed]",
      "text/plain": [
       "<Figure size 432x288 with 1 Axes>"
      ]
     },
     "metadata": {
      "needs_background": "light"
     },
     "output_type": "display_data"
    }
   ],
   "source": [
    "plt.plot(color_range, gal_z_0.pdf(color_range), label = 'z=0')\n",
    "#plt.plot(color_range, gal_z_0p5.pdf(color_range), label = 'z=0.5')\n",
    "#plt.plot(color_range, gal_z_1p0.pdf(color_range), label = 'z=1.0')\n",
    "plt.plot(color_range, combined_pdf, '--', label = 'All redshifts')\n",
    "plt.xlabel('g-r color')\n",
    "plt.ylabel('Probability Density')\n",
    "plt.legend()"
   ]
  },
  {
   "cell_type": "code",
   "execution_count": 106,
   "id": "473eabaa-88e9-45a3-90a7-7f7b53665e69",
   "metadata": {},
   "outputs": [
    {
     "data": {
      "text/plain": [
       "0.009983797152939983"
      ]
     },
     "execution_count": 106,
     "metadata": {},
     "output_type": "execute_result"
    }
   ],
   "source": [
    "np.sum(0.01*gal_z_0.pdf(color_range)*0.01)"
   ]
  },
  {
   "cell_type": "code",
   "execution_count": 107,
   "id": "062d6805-553b-411b-b53d-5da78d920860",
   "metadata": {},
   "outputs": [
    {
     "data": {
      "text/plain": [
       "0.16262536648349324"
      ]
     },
     "execution_count": 107,
     "metadata": {},
     "output_type": "execute_result"
    }
   ],
   "source": [
    "np.sum(kl_div(0.01*gal_z_0.pdf(color_range), 0.01*combined_pdf))"
   ]
  },
  {
   "cell_type": "code",
   "execution_count": 76,
   "id": "dc1e6f55-91f0-41c7-b3cc-e1dac214d46d",
   "metadata": {},
   "outputs": [
    {
     "data": {
      "text/plain": [
       "0.8750884152483109"
      ]
     },
     "execution_count": 76,
     "metadata": {},
     "output_type": "execute_result"
    }
   ],
   "source": []
  },
  {
   "cell_type": "code",
   "execution_count": null,
   "id": "fd793ab6-9791-4a8c-9a91-53b73886d936",
   "metadata": {},
   "outputs": [],
   "source": []
  }
 ],
 "metadata": {
  "kernelspec": {
   "display_name": "Python 3 (ipykernel)",
   "language": "python",
   "name": "python3"
  },
  "language_info": {
   "codemirror_mode": {
    "name": "ipython",
    "version": 3
   },
   "file_extension": ".py",
   "mimetype": "text/x-python",
   "name": "python",
   "nbconvert_exporter": "python",
   "pygments_lexer": "ipython3",
   "version": "3.9.7"
  }
 },
 "nbformat": 4,
 "nbformat_minor": 5
}
