{
 "cells": [
  {
   "cell_type": "code",
   "execution_count": 2,
   "id": "3083fc2d-e5fa-48cb-93a8-1728d726785a",
   "metadata": {},
   "outputs": [],
   "source": [
    "import pandas as pd"
   ]
  },
  {
   "cell_type": "code",
   "execution_count": 3,
   "id": "f7e6f372-158a-4caf-9732-8c338a31cdb6",
   "metadata": {},
   "outputs": [],
   "source": [
    "from sqlite3 import connect"
   ]
  },
  {
   "cell_type": "code",
   "execution_count": 4,
   "id": "332d1037-646a-45dc-8742-2a27b7774763",
   "metadata": {},
   "outputs": [],
   "source": [
    "opsim_db = connect('baseline_v2.0_10yrs.db')"
   ]
  },
  {
   "cell_type": "code",
   "execution_count": 5,
   "id": "cc585855-1bf6-4ccc-a028-d0b293e99b1a",
   "metadata": {},
   "outputs": [],
   "source": [
    "opsim_file = pd.read_sql('select * from observations limit 1000', opsim_db)"
   ]
  },
  {
   "cell_type": "code",
   "execution_count": 6,
   "id": "72944be8-ac93-49d2-83df-c35813132bd0",
   "metadata": {},
   "outputs": [
    {
     "data": {
      "text/plain": [
       "Index(['observationId', 'fieldRA', 'fieldDec', 'observationStartMJD',\n",
       "       'flush_by_mjd', 'visitExposureTime', 'filter', 'rotSkyPos',\n",
       "       'numExposures', 'airmass', 'seeingFwhm500', 'seeingFwhmEff',\n",
       "       'seeingFwhmGeom', 'skyBrightness', 'night', 'slewTime', 'visitTime',\n",
       "       'slewDistance', 'fiveSigmaDepth', 'altitude', 'azimuth', 'paraAngle',\n",
       "       'cloud', 'moonAlt', 'sunAlt', 'note', 'fieldId', 'proposalId',\n",
       "       'block_id', 'observationStartLST', 'rotTelPos', 'moonAz', 'sunAz',\n",
       "       'sunRA', 'sunDec', 'moonRA', 'moonDec', 'moonDistance', 'solarElong',\n",
       "       'moonPhase', 'cummTelAz'],\n",
       "      dtype='object')"
      ]
     },
     "execution_count": 6,
     "metadata": {},
     "output_type": "execute_result"
    }
   ],
   "source": [
    "opsim_file.columns"
   ]
  },
  {
   "cell_type": "code",
   "execution_count": 7,
   "id": "34e53bea-0edb-48e7-95e2-a153709f713e",
   "metadata": {},
   "outputs": [
    {
     "data": {
      "text/plain": [
       "('observationId',\n",
       " 'fieldRA',\n",
       " 'fieldDec',\n",
       " 'observationStartMJD',\n",
       " 'fieldId',\n",
       " 'filter',\n",
       " 'fiveSigmaDepth')"
      ]
     },
     "execution_count": 7,
     "metadata": {},
     "output_type": "execute_result"
    }
   ],
   "source": [
    "'observationId', 'fieldRA', 'fieldDec', 'observationStartMJD', 'fieldId', 'filter', 'fiveSigmaDepth'"
   ]
  },
  {
   "cell_type": "code",
   "execution_count": 8,
   "id": "c863b5eb-9b63-4f2b-91bd-7afca0cce816",
   "metadata": {},
   "outputs": [],
   "source": [
    "r_band_obs = pd.read_sql_query('SELECT observationId, fieldRA, fieldDec, observationStartMJD, fieldId, filter, fiveSigmaDepth FROM observations WHERE filter == \"r\"', opsim_db)"
   ]
  },
  {
   "cell_type": "code",
   "execution_count": 9,
   "id": "54403856-1534-4415-96f9-5f8382519cdd",
   "metadata": {},
   "outputs": [
    {
     "data": {
      "text/html": [
       "<div>\n",
       "<style scoped>\n",
       "    .dataframe tbody tr th:only-of-type {\n",
       "        vertical-align: middle;\n",
       "    }\n",
       "\n",
       "    .dataframe tbody tr th {\n",
       "        vertical-align: top;\n",
       "    }\n",
       "\n",
       "    .dataframe thead th {\n",
       "        text-align: right;\n",
       "    }\n",
       "</style>\n",
       "<table border=\"1\" class=\"dataframe\">\n",
       "  <thead>\n",
       "    <tr style=\"text-align: right;\">\n",
       "      <th></th>\n",
       "      <th>observationId</th>\n",
       "      <th>fieldRA</th>\n",
       "      <th>fieldDec</th>\n",
       "      <th>observationStartMJD</th>\n",
       "      <th>fieldId</th>\n",
       "      <th>filter</th>\n",
       "      <th>fiveSigmaDepth</th>\n",
       "    </tr>\n",
       "  </thead>\n",
       "  <tbody>\n",
       "    <tr>\n",
       "      <th>0</th>\n",
       "      <td>770</td>\n",
       "      <td>355.783117</td>\n",
       "      <td>-79.644018</td>\n",
       "      <td>60218.356921</td>\n",
       "      <td>-1</td>\n",
       "      <td>r</td>\n",
       "      <td>22.039985</td>\n",
       "    </tr>\n",
       "    <tr>\n",
       "      <th>1</th>\n",
       "      <td>771</td>\n",
       "      <td>338.205026</td>\n",
       "      <td>-80.387745</td>\n",
       "      <td>60218.357414</td>\n",
       "      <td>-1</td>\n",
       "      <td>r</td>\n",
       "      <td>22.053388</td>\n",
       "    </tr>\n",
       "    <tr>\n",
       "      <th>2</th>\n",
       "      <td>772</td>\n",
       "      <td>349.857034</td>\n",
       "      <td>-82.633511</td>\n",
       "      <td>60218.357890</td>\n",
       "      <td>-1</td>\n",
       "      <td>r</td>\n",
       "      <td>22.115278</td>\n",
       "    </tr>\n",
       "    <tr>\n",
       "      <th>3</th>\n",
       "      <td>773</td>\n",
       "      <td>336.319706</td>\n",
       "      <td>-85.448079</td>\n",
       "      <td>60218.358364</td>\n",
       "      <td>-1</td>\n",
       "      <td>r</td>\n",
       "      <td>22.025564</td>\n",
       "    </tr>\n",
       "    <tr>\n",
       "      <th>4</th>\n",
       "      <td>774</td>\n",
       "      <td>9.600147</td>\n",
       "      <td>-87.474001</td>\n",
       "      <td>60218.358911</td>\n",
       "      <td>-1</td>\n",
       "      <td>r</td>\n",
       "      <td>22.023105</td>\n",
       "    </tr>\n",
       "    <tr>\n",
       "      <th>...</th>\n",
       "      <td>...</td>\n",
       "      <td>...</td>\n",
       "      <td>...</td>\n",
       "      <td>...</td>\n",
       "      <td>...</td>\n",
       "      <td>...</td>\n",
       "      <td>...</td>\n",
       "    </tr>\n",
       "    <tr>\n",
       "      <th>464846</th>\n",
       "      <td>2086903</td>\n",
       "      <td>324.507982</td>\n",
       "      <td>-0.970535</td>\n",
       "      <td>63870.068633</td>\n",
       "      <td>-1</td>\n",
       "      <td>r</td>\n",
       "      <td>23.669905</td>\n",
       "    </tr>\n",
       "    <tr>\n",
       "      <th>464847</th>\n",
       "      <td>2086904</td>\n",
       "      <td>322.189374</td>\n",
       "      <td>0.548445</td>\n",
       "      <td>63870.069080</td>\n",
       "      <td>-1</td>\n",
       "      <td>r</td>\n",
       "      <td>23.655921</td>\n",
       "    </tr>\n",
       "    <tr>\n",
       "      <th>464848</th>\n",
       "      <td>2086905</td>\n",
       "      <td>319.880983</td>\n",
       "      <td>2.065350</td>\n",
       "      <td>63870.069526</td>\n",
       "      <td>-1</td>\n",
       "      <td>r</td>\n",
       "      <td>23.635941</td>\n",
       "    </tr>\n",
       "    <tr>\n",
       "      <th>464849</th>\n",
       "      <td>2086906</td>\n",
       "      <td>322.437543</td>\n",
       "      <td>3.728057</td>\n",
       "      <td>63870.069973</td>\n",
       "      <td>-1</td>\n",
       "      <td>r</td>\n",
       "      <td>23.508767</td>\n",
       "    </tr>\n",
       "    <tr>\n",
       "      <th>464850</th>\n",
       "      <td>2086907</td>\n",
       "      <td>324.779111</td>\n",
       "      <td>2.195206</td>\n",
       "      <td>63870.070420</td>\n",
       "      <td>-1</td>\n",
       "      <td>r</td>\n",
       "      <td>23.525283</td>\n",
       "    </tr>\n",
       "  </tbody>\n",
       "</table>\n",
       "<p>464851 rows × 7 columns</p>\n",
       "</div>"
      ],
      "text/plain": [
       "        observationId     fieldRA   fieldDec  observationStartMJD  fieldId  \\\n",
       "0                 770  355.783117 -79.644018         60218.356921       -1   \n",
       "1                 771  338.205026 -80.387745         60218.357414       -1   \n",
       "2                 772  349.857034 -82.633511         60218.357890       -1   \n",
       "3                 773  336.319706 -85.448079         60218.358364       -1   \n",
       "4                 774    9.600147 -87.474001         60218.358911       -1   \n",
       "...               ...         ...        ...                  ...      ...   \n",
       "464846        2086903  324.507982  -0.970535         63870.068633       -1   \n",
       "464847        2086904  322.189374   0.548445         63870.069080       -1   \n",
       "464848        2086905  319.880983   2.065350         63870.069526       -1   \n",
       "464849        2086906  322.437543   3.728057         63870.069973       -1   \n",
       "464850        2086907  324.779111   2.195206         63870.070420       -1   \n",
       "\n",
       "       filter  fiveSigmaDepth  \n",
       "0           r       22.039985  \n",
       "1           r       22.053388  \n",
       "2           r       22.115278  \n",
       "3           r       22.025564  \n",
       "4           r       22.023105  \n",
       "...       ...             ...  \n",
       "464846      r       23.669905  \n",
       "464847      r       23.655921  \n",
       "464848      r       23.635941  \n",
       "464849      r       23.508767  \n",
       "464850      r       23.525283  \n",
       "\n",
       "[464851 rows x 7 columns]"
      ]
     },
     "execution_count": 9,
     "metadata": {},
     "output_type": "execute_result"
    }
   ],
   "source": [
    "r_band_obs"
   ]
  },
  {
   "cell_type": "code",
   "execution_count": 10,
   "id": "af68a082-ca75-4313-942d-38774b87785c",
   "metadata": {},
   "outputs": [],
   "source": [
    "import matplotlib.pyplot as plt\n",
    "%matplotlib Inline"
   ]
  },
  {
   "cell_type": "code",
   "execution_count": 11,
   "id": "dee442e8-3eff-4635-bd07-fc3e74d5d307",
   "metadata": {},
   "outputs": [
    {
     "data": {
      "text/plain": [
       "Text(0, 0.5, 'DEC')"
      ]
     },
     "execution_count": 11,
     "metadata": {},
     "output_type": "execute_result"
    },
    {
     "data": {
      "image/png": "[encoded data removed]",
      "text/plain": [
       "<Figure size 432x288 with 1 Axes>"
      ]
     },
     "metadata": {
      "needs_background": "light"
     },
     "output_type": "display_data"
    }
   ],
   "source": [
    "plt.scatter(r_band_obs['fieldRA'], r_band_obs['fieldDec'])\n",
    "plt.xlabel('RA')\n",
    "plt.ylabel('DEC')"
   ]
  },
  {
   "cell_type": "code",
   "execution_count": 12,
   "id": "52c4cda9-b2aa-4a27-9cd0-269b54d80099",
   "metadata": {},
   "outputs": [],
   "source": [
    "import matplotlib as npl"
   ]
  },
  {
   "cell_type": "code",
   "execution_count": 13,
   "id": "083dccc5-4826-42d5-9f71-dca602162981",
   "metadata": {},
   "outputs": [
    {
     "data": {
      "text/plain": [
       "<matplotlib.colorbar.Colorbar at 0x7fb730c2a250>"
      ]
     },
     "execution_count": 13,
     "metadata": {},
     "output_type": "execute_result"
    },
    {
     "data": {
      "image/png": "[encoded data removed]",
      "text/plain": [
       "<Figure size 432x288 with 2 Axes>"
      ]
     },
     "metadata": {
      "needs_background": "light"
     },
     "output_type": "display_data"
    }
   ],
   "source": [
    "plt.hist2d(r_band_obs['fieldRA'], r_band_obs['fieldDec'], bins = 50, norm=npl.colors.LogNorm())\n",
    "plt.xlabel('RA')\n",
    "plt.ylabel('DEC')\n",
    "plt.colorbar()"
   ]
  },
  {
   "cell_type": "code",
   "execution_count": 14,
   "id": "bf41e81a-e8b8-46b7-bdd2-5bb9b4089ad0",
   "metadata": {},
   "outputs": [],
   "source": [
    "import numpy as np"
   ]
  },
  {
   "cell_type": "code",
   "execution_count": 15,
   "id": "1ea3b215-bbda-48fb-8948-10961bfa2db3",
   "metadata": {},
   "outputs": [],
   "source": [
    "find_max_RA = np.max(r_band_obs['fieldRA'])\n",
    "find_min_RA = np.min(r_band_obs['fieldRA'])\n",
    "find_max_DEC = np.max(r_band_obs['fieldDec'])\n",
    "find_min_DEC = np.min(r_band_obs['fieldDec'])\n",
    "num_bins = 50"
   ]
  },
  {
   "cell_type": "code",
   "execution_count": 16,
   "id": "e82a01a4-b7b2-47d0-97f5-229cf4df053d",
   "metadata": {},
   "outputs": [],
   "source": [
    "RA_set = np.linspace(find_min_RA, find_max_RA, num_bins+1)\n",
    "DEC_set = np.linspace(find_min_DEC, find_max_DEC, num_bins+1)"
   ]
  },
  {
   "cell_type": "code",
   "execution_count": 17,
   "id": "3a784692-ea8c-46cd-8b36-097a8138d81c",
   "metadata": {},
   "outputs": [
    {
     "data": {
      "text/plain": [
       "array([50, 47, 49, ..., 45, 45, 46])"
      ]
     },
     "execution_count": 17,
     "metadata": {},
     "output_type": "execute_result"
    }
   ],
   "source": [
    "RA_bins = np.digitize(r_band_obs['fieldRA'], RA_set, right=True)\n",
    "RA_bins"
   ]
  },
  {
   "cell_type": "code",
   "execution_count": 18,
   "id": "c87d2465-c536-4d41-8904-2f2c75f3c271",
   "metadata": {},
   "outputs": [
    {
     "data": {
      "text/plain": [
       "array([ 5,  4,  3, ..., 37, 38, 37])"
      ]
     },
     "execution_count": 18,
     "metadata": {},
     "output_type": "execute_result"
    }
   ],
   "source": [
    "DEC_bins = np.digitize(r_band_obs['fieldDec'], DEC_set, right=True)\n",
    "DEC_bins"
   ]
  },
  {
   "cell_type": "code",
   "execution_count": 19,
   "id": "ad703853-7a94-4a94-bb0f-85b409261afe",
   "metadata": {},
   "outputs": [],
   "source": [
    "r_band_obs['RABins'] = RA_bins\n",
    "r_band_obs['DECBins'] = DEC_bins"
   ]
  },
  {
   "cell_type": "code",
   "execution_count": 20,
   "id": "4df61024-5a58-4133-8621-ebf281ccaa43",
   "metadata": {},
   "outputs": [
    {
     "data": {
      "text/html": [
       "<div>\n",
       "<style scoped>\n",
       "    .dataframe tbody tr th:only-of-type {\n",
       "        vertical-align: middle;\n",
       "    }\n",
       "\n",
       "    .dataframe tbody tr th {\n",
       "        vertical-align: top;\n",
       "    }\n",
       "\n",
       "    .dataframe thead th {\n",
       "        text-align: right;\n",
       "    }\n",
       "</style>\n",
       "<table border=\"1\" class=\"dataframe\">\n",
       "  <thead>\n",
       "    <tr style=\"text-align: right;\">\n",
       "      <th></th>\n",
       "      <th>observationId</th>\n",
       "      <th>fieldRA</th>\n",
       "      <th>fieldDec</th>\n",
       "      <th>observationStartMJD</th>\n",
       "      <th>fieldId</th>\n",
       "      <th>filter</th>\n",
       "      <th>fiveSigmaDepth</th>\n",
       "      <th>RABins</th>\n",
       "      <th>DECBins</th>\n",
       "    </tr>\n",
       "  </thead>\n",
       "  <tbody>\n",
       "    <tr>\n",
       "      <th>0</th>\n",
       "      <td>770</td>\n",
       "      <td>355.783117</td>\n",
       "      <td>-79.644018</td>\n",
       "      <td>60218.356921</td>\n",
       "      <td>2455</td>\n",
       "      <td>r</td>\n",
       "      <td>22.039985</td>\n",
       "      <td>50</td>\n",
       "      <td>5</td>\n",
       "    </tr>\n",
       "    <tr>\n",
       "      <th>1</th>\n",
       "      <td>771</td>\n",
       "      <td>338.205026</td>\n",
       "      <td>-80.387745</td>\n",
       "      <td>60218.357414</td>\n",
       "      <td>2304</td>\n",
       "      <td>r</td>\n",
       "      <td>22.053388</td>\n",
       "      <td>47</td>\n",
       "      <td>4</td>\n",
       "    </tr>\n",
       "    <tr>\n",
       "      <th>2</th>\n",
       "      <td>772</td>\n",
       "      <td>349.857034</td>\n",
       "      <td>-82.633511</td>\n",
       "      <td>60218.357890</td>\n",
       "      <td>2403</td>\n",
       "      <td>r</td>\n",
       "      <td>22.115278</td>\n",
       "      <td>49</td>\n",
       "      <td>3</td>\n",
       "    </tr>\n",
       "    <tr>\n",
       "      <th>3</th>\n",
       "      <td>773</td>\n",
       "      <td>336.319706</td>\n",
       "      <td>-85.448079</td>\n",
       "      <td>60218.358364</td>\n",
       "      <td>2302</td>\n",
       "      <td>r</td>\n",
       "      <td>22.025564</td>\n",
       "      <td>47</td>\n",
       "      <td>2</td>\n",
       "    </tr>\n",
       "    <tr>\n",
       "      <th>4</th>\n",
       "      <td>774</td>\n",
       "      <td>9.600147</td>\n",
       "      <td>-87.474001</td>\n",
       "      <td>60218.358911</td>\n",
       "      <td>51</td>\n",
       "      <td>r</td>\n",
       "      <td>22.023105</td>\n",
       "      <td>2</td>\n",
       "      <td>1</td>\n",
       "    </tr>\n",
       "    <tr>\n",
       "      <th>...</th>\n",
       "      <td>...</td>\n",
       "      <td>...</td>\n",
       "      <td>...</td>\n",
       "      <td>...</td>\n",
       "      <td>...</td>\n",
       "      <td>...</td>\n",
       "      <td>...</td>\n",
       "      <td>...</td>\n",
       "      <td>...</td>\n",
       "    </tr>\n",
       "    <tr>\n",
       "      <th>464846</th>\n",
       "      <td>2086903</td>\n",
       "      <td>324.507982</td>\n",
       "      <td>-0.970535</td>\n",
       "      <td>63870.068633</td>\n",
       "      <td>2286</td>\n",
       "      <td>r</td>\n",
       "      <td>23.669905</td>\n",
       "      <td>46</td>\n",
       "      <td>36</td>\n",
       "    </tr>\n",
       "    <tr>\n",
       "      <th>464847</th>\n",
       "      <td>2086904</td>\n",
       "      <td>322.189374</td>\n",
       "      <td>0.548445</td>\n",
       "      <td>63870.069080</td>\n",
       "      <td>2237</td>\n",
       "      <td>r</td>\n",
       "      <td>23.655921</td>\n",
       "      <td>45</td>\n",
       "      <td>37</td>\n",
       "    </tr>\n",
       "    <tr>\n",
       "      <th>464848</th>\n",
       "      <td>2086905</td>\n",
       "      <td>319.880983</td>\n",
       "      <td>2.065350</td>\n",
       "      <td>63870.069526</td>\n",
       "      <td>2237</td>\n",
       "      <td>r</td>\n",
       "      <td>23.635941</td>\n",
       "      <td>45</td>\n",
       "      <td>37</td>\n",
       "    </tr>\n",
       "    <tr>\n",
       "      <th>464849</th>\n",
       "      <td>2086906</td>\n",
       "      <td>322.437543</td>\n",
       "      <td>3.728057</td>\n",
       "      <td>63870.069973</td>\n",
       "      <td>2238</td>\n",
       "      <td>r</td>\n",
       "      <td>23.508767</td>\n",
       "      <td>45</td>\n",
       "      <td>38</td>\n",
       "    </tr>\n",
       "    <tr>\n",
       "      <th>464850</th>\n",
       "      <td>2086907</td>\n",
       "      <td>324.779111</td>\n",
       "      <td>2.195206</td>\n",
       "      <td>63870.070420</td>\n",
       "      <td>2287</td>\n",
       "      <td>r</td>\n",
       "      <td>23.525283</td>\n",
       "      <td>46</td>\n",
       "      <td>37</td>\n",
       "    </tr>\n",
       "  </tbody>\n",
       "</table>\n",
       "<p>464851 rows × 9 columns</p>\n",
       "</div>"
      ],
      "text/plain": [
       "        observationId     fieldRA   fieldDec  observationStartMJD  fieldId  \\\n",
       "0                 770  355.783117 -79.644018         60218.356921     2455   \n",
       "1                 771  338.205026 -80.387745         60218.357414     2304   \n",
       "2                 772  349.857034 -82.633511         60218.357890     2403   \n",
       "3                 773  336.319706 -85.448079         60218.358364     2302   \n",
       "4                 774    9.600147 -87.474001         60218.358911       51   \n",
       "...               ...         ...        ...                  ...      ...   \n",
       "464846        2086903  324.507982  -0.970535         63870.068633     2286   \n",
       "464847        2086904  322.189374   0.548445         63870.069080     2237   \n",
       "464848        2086905  319.880983   2.065350         63870.069526     2237   \n",
       "464849        2086906  322.437543   3.728057         63870.069973     2238   \n",
       "464850        2086907  324.779111   2.195206         63870.070420     2287   \n",
       "\n",
       "       filter  fiveSigmaDepth  RABins  DECBins  \n",
       "0           r       22.039985      50        5  \n",
       "1           r       22.053388      47        4  \n",
       "2           r       22.115278      49        3  \n",
       "3           r       22.025564      47        2  \n",
       "4           r       22.023105       2        1  \n",
       "...       ...             ...     ...      ...  \n",
       "464846      r       23.669905      46       36  \n",
       "464847      r       23.655921      45       37  \n",
       "464848      r       23.635941      45       37  \n",
       "464849      r       23.508767      45       38  \n",
       "464850      r       23.525283      46       37  \n",
       "\n",
       "[464851 rows x 9 columns]"
      ]
     },
     "execution_count": 20,
     "metadata": {},
     "output_type": "execute_result"
    }
   ],
   "source": [
    "new_field_id = (RA_bins-1) * 50 + DEC_bins\n",
    "r_band_obs['fieldId'] = new_field_id\n",
    "r_band_obs"
   ]
  },
  {
   "cell_type": "code",
   "execution_count": 21,
   "id": "671961c0-c0f0-4234-9378-c6f6cdbc7669",
   "metadata": {},
   "outputs": [
    {
     "data": {
      "text/html": [
       "<div>\n",
       "<style scoped>\n",
       "    .dataframe tbody tr th:only-of-type {\n",
       "        vertical-align: middle;\n",
       "    }\n",
       "\n",
       "    .dataframe tbody tr th {\n",
       "        vertical-align: top;\n",
       "    }\n",
       "\n",
       "    .dataframe thead th {\n",
       "        text-align: right;\n",
       "    }\n",
       "</style>\n",
       "<table border=\"1\" class=\"dataframe\">\n",
       "  <thead>\n",
       "    <tr style=\"text-align: right;\">\n",
       "      <th></th>\n",
       "      <th>observationId</th>\n",
       "      <th>fieldRA</th>\n",
       "      <th>fieldDec</th>\n",
       "      <th>observationStartMJD</th>\n",
       "      <th>fieldId</th>\n",
       "      <th>filter</th>\n",
       "      <th>fiveSigmaDepth</th>\n",
       "      <th>RABins</th>\n",
       "      <th>DECBins</th>\n",
       "    </tr>\n",
       "  </thead>\n",
       "  <tbody>\n",
       "    <tr>\n",
       "      <th>2</th>\n",
       "      <td>772</td>\n",
       "      <td>349.857034</td>\n",
       "      <td>-82.633511</td>\n",
       "      <td>60218.357890</td>\n",
       "      <td>2403</td>\n",
       "      <td>r</td>\n",
       "      <td>22.115278</td>\n",
       "      <td>49</td>\n",
       "      <td>3</td>\n",
       "    </tr>\n",
       "    <tr>\n",
       "      <th>187117</th>\n",
       "      <td>846124</td>\n",
       "      <td>349.132762</td>\n",
       "      <td>-83.345848</td>\n",
       "      <td>61682.142242</td>\n",
       "      <td>2403</td>\n",
       "      <td>r</td>\n",
       "      <td>23.833470</td>\n",
       "      <td>49</td>\n",
       "      <td>3</td>\n",
       "    </tr>\n",
       "    <tr>\n",
       "      <th>189023</th>\n",
       "      <td>860288</td>\n",
       "      <td>349.770490</td>\n",
       "      <td>-84.147058</td>\n",
       "      <td>61703.077226</td>\n",
       "      <td>2403</td>\n",
       "      <td>r</td>\n",
       "      <td>23.336416</td>\n",
       "      <td>49</td>\n",
       "      <td>3</td>\n",
       "    </tr>\n",
       "    <tr>\n",
       "      <th>373690</th>\n",
       "      <td>1680668</td>\n",
       "      <td>349.123067</td>\n",
       "      <td>-82.933787</td>\n",
       "      <td>63159.185750</td>\n",
       "      <td>2403</td>\n",
       "      <td>r</td>\n",
       "      <td>23.423731</td>\n",
       "      <td>49</td>\n",
       "      <td>3</td>\n",
       "    </tr>\n",
       "    <tr>\n",
       "      <th>416803</th>\n",
       "      <td>1875208</td>\n",
       "      <td>346.865503</td>\n",
       "      <td>-83.230118</td>\n",
       "      <td>63536.152786</td>\n",
       "      <td>2403</td>\n",
       "      <td>r</td>\n",
       "      <td>23.918868</td>\n",
       "      <td>49</td>\n",
       "      <td>3</td>\n",
       "    </tr>\n",
       "  </tbody>\n",
       "</table>\n",
       "</div>"
      ],
      "text/plain": [
       "        observationId     fieldRA   fieldDec  observationStartMJD  fieldId  \\\n",
       "2                 772  349.857034 -82.633511         60218.357890     2403   \n",
       "187117         846124  349.132762 -83.345848         61682.142242     2403   \n",
       "189023         860288  349.770490 -84.147058         61703.077226     2403   \n",
       "373690        1680668  349.123067 -82.933787         63159.185750     2403   \n",
       "416803        1875208  346.865503 -83.230118         63536.152786     2403   \n",
       "\n",
       "       filter  fiveSigmaDepth  RABins  DECBins  \n",
       "2           r       22.115278      49        3  \n",
       "187117      r       23.833470      49        3  \n",
       "189023      r       23.336416      49        3  \n",
       "373690      r       23.423731      49        3  \n",
       "416803      r       23.918868      49        3  "
      ]
     },
     "execution_count": 21,
     "metadata": {},
     "output_type": "execute_result"
    }
   ],
   "source": [
    "r_band_obs.query('fieldId == 2403')"
   ]
  },
  {
   "cell_type": "code",
   "execution_count": 22,
   "id": "b33aa337-fa4b-4255-844b-3f59bcc0961c",
   "metadata": {},
   "outputs": [
    {
     "name": "stdout",
     "output_type": "stream",
     "text": [
      "atmos_10.dat   filter_r.dat    hardware_r.dat  lens3.dat\ttotal_g.dat\n",
      "atmos_std.dat  filter_u.dat    hardware_u.dat  LSSTfilters.png\ttotal_i.dat\n",
      "darksky.dat    filter_y.dat    hardware_y.dat  m1.dat\t\ttotal_r.dat\n",
      "detector.dat   filter_z.dat    hardware_z.dat  m2.dat\t\ttotal_u.dat\n",
      "filter_g.dat   hardware_g.dat  lens1.dat       m3.dat\t\ttotal_y.dat\n",
      "filter_i.dat   hardware_i.dat  lens2.dat       README.md\ttotal_z.dat\n"
     ]
    }
   ],
   "source": [
    "import os\n",
    "import numpy as np\n",
    "import matplotlib.pyplot as plt\n",
    "%matplotlib inline\n",
    "import pandas as pd\n",
    "\n",
    "fdir = os.getenv('RUBIN_SIM_DATA_DIR')\n",
    "if fdir is None:  #environment variable not set\n",
    "    fdir = os.path.join(os.getenv('HOME'), 'rubin_sim_data')\n",
    "\n",
    "fdir = '/home/jovyan/uw-premap-2022-photoz/data/lsst_baseline_throughputs'\n",
    "\n",
    "!ls $fdir"
   ]
  },
  {
   "cell_type": "code",
   "execution_count": 23,
   "id": "1977465f-c747-4eb9-b20f-6584d1aa766b",
   "metadata": {},
   "outputs": [
    {
     "name": "stdout",
     "output_type": "stream",
     "text": [
      "atmos_10.dat   filter_r.dat    hardware_r.dat  lens3.dat\ttotal_g.dat\n",
      "atmos_std.dat  filter_u.dat    hardware_u.dat  LSSTfilters.png\ttotal_i.dat\n",
      "darksky.dat    filter_y.dat    hardware_y.dat  m1.dat\t\ttotal_r.dat\n",
      "detector.dat   filter_z.dat    hardware_z.dat  m2.dat\t\ttotal_u.dat\n",
      "filter_g.dat   hardware_g.dat  lens1.dat       m3.dat\t\ttotal_y.dat\n",
      "filter_i.dat   hardware_i.dat  lens2.dat       README.md\ttotal_z.dat\n"
     ]
    }
   ],
   "source": [
    "fdir = os.getenv('RUBIN_SIM_DATA_DIR')\n",
    "if fdir is None:  #environment variable not set\n",
    "    fdir = os.path.join(os.getenv('HOME'), 'rubin_sim_data')\n",
    "\n",
    "fdir = '/home/jovyan/uw-premap-2022-photoz/data/lsst_baseline_throughputs'\n",
    "\n",
    "!ls $fdir"
   ]
  },
  {
   "cell_type": "code",
   "execution_count": 24,
   "id": "4c8a5811-d93a-4331-8faa-bc13f7b41925",
   "metadata": {},
   "outputs": [],
   "source": [
    "import rubin_sim.photUtils.Bandpass as Bandpass\n",
    "import rubin_sim.photUtils.Sed as Sed"
   ]
  },
  {
   "cell_type": "code",
   "execution_count": 25,
   "id": "a54169c6-6b45-4a3b-a0c0-b59964c27e37",
   "metadata": {},
   "outputs": [],
   "source": [
    "sun = Sed()\n",
    "sun.readSED_flambda('/home/jovyan/uw-premap-2022-photoz/data/sed_templates/CWW_KINNEY/CWW_E_ext.sed')\n",
    "sun.wavelen/=10"
   ]
  },
  {
   "cell_type": "code",
   "execution_count": 29,
   "id": "48411316-9469-4ad5-a0b5-a2a76cbcef5c",
   "metadata": {},
   "outputs": [
    {
     "data": {
      "text/html": [
       "<div>\n",
       "<style scoped>\n",
       "    .dataframe tbody tr th:only-of-type {\n",
       "        vertical-align: middle;\n",
       "    }\n",
       "\n",
       "    .dataframe tbody tr th {\n",
       "        vertical-align: top;\n",
       "    }\n",
       "\n",
       "    .dataframe thead th {\n",
       "        text-align: right;\n",
       "    }\n",
       "</style>\n",
       "<table border=\"1\" class=\"dataframe\">\n",
       "  <thead>\n",
       "    <tr style=\"text-align: right;\">\n",
       "      <th></th>\n",
       "      <th>Sun</th>\n",
       "    </tr>\n",
       "  </thead>\n",
       "  <tbody>\n",
       "    <tr>\n",
       "      <th>u</th>\n",
       "      <td>22.472216</td>\n",
       "    </tr>\n",
       "    <tr>\n",
       "      <th>g</th>\n",
       "      <td>20.725415</td>\n",
       "    </tr>\n",
       "    <tr>\n",
       "      <th>r</th>\n",
       "      <td>20.000000</td>\n",
       "    </tr>\n",
       "    <tr>\n",
       "      <th>i</th>\n",
       "      <td>19.647330</td>\n",
       "    </tr>\n",
       "    <tr>\n",
       "      <th>z</th>\n",
       "      <td>19.388374</td>\n",
       "    </tr>\n",
       "    <tr>\n",
       "      <th>y</th>\n",
       "      <td>19.197076</td>\n",
       "    </tr>\n",
       "  </tbody>\n",
       "</table>\n",
       "</div>"
      ],
      "text/plain": [
       "         Sun\n",
       "u  22.472216\n",
       "g  20.725415\n",
       "r  20.000000\n",
       "i  19.647330\n",
       "z  19.388374\n",
       "y  19.197076"
      ]
     },
     "execution_count": 29,
     "metadata": {},
     "output_type": "execute_result"
    }
   ],
   "source": [
    "filterlist = ['u', 'g', 'r', 'i', 'z', 'y']\n",
    "\n",
    "lsst = {}\n",
    "for f in filterlist:\n",
    "    lsst[f] = Bandpass()\n",
    "    lsst[f].readThroughput(os.path.join(fdir, f'total_{f}.dat'))\n",
    "    \n",
    "mags = {}\n",
    "for f in filterlist:\n",
    "    mags[f] = sun.calcMag(lsst[f])\n",
    "\n",
    "# Make a dataframe just to get a nice output cell.\n",
    "pd.DataFrame(mags, index=['Sun']).T"
   ]
  },
  {
   "cell_type": "code",
   "execution_count": 30,
   "id": "a6580a77-07e6-4098-b202-5fbce7293345",
   "metadata": {},
   "outputs": [
    {
     "data": {
      "text/html": [
       "<div>\n",
       "<style scoped>\n",
       "    .dataframe tbody tr th:only-of-type {\n",
       "        vertical-align: middle;\n",
       "    }\n",
       "\n",
       "    .dataframe tbody tr th {\n",
       "        vertical-align: top;\n",
       "    }\n",
       "\n",
       "    .dataframe thead th {\n",
       "        text-align: right;\n",
       "    }\n",
       "</style>\n",
       "<table border=\"1\" class=\"dataframe\">\n",
       "  <thead>\n",
       "    <tr style=\"text-align: right;\">\n",
       "      <th></th>\n",
       "      <th>Distant Sun</th>\n",
       "    </tr>\n",
       "  </thead>\n",
       "  <tbody>\n",
       "    <tr>\n",
       "      <th>u</th>\n",
       "      <td>22.472216</td>\n",
       "    </tr>\n",
       "    <tr>\n",
       "      <th>g</th>\n",
       "      <td>20.725415</td>\n",
       "    </tr>\n",
       "    <tr>\n",
       "      <th>r</th>\n",
       "      <td>20.000000</td>\n",
       "    </tr>\n",
       "    <tr>\n",
       "      <th>i</th>\n",
       "      <td>19.647330</td>\n",
       "    </tr>\n",
       "    <tr>\n",
       "      <th>z</th>\n",
       "      <td>19.388374</td>\n",
       "    </tr>\n",
       "    <tr>\n",
       "      <th>y</th>\n",
       "      <td>19.197076</td>\n",
       "    </tr>\n",
       "  </tbody>\n",
       "</table>\n",
       "</div>"
      ],
      "text/plain": [
       "   Distant Sun\n",
       "u    22.472216\n",
       "g    20.725415\n",
       "r    20.000000\n",
       "i    19.647330\n",
       "z    19.388374\n",
       "y    19.197076"
      ]
     },
     "execution_count": 30,
     "metadata": {},
     "output_type": "execute_result"
    }
   ],
   "source": [
    "r = 20.0\n",
    "\n",
    "fluxNorm = sun.calcFluxNorm(r, lsst['r'])\n",
    "\n",
    "sun.multiplyFluxNorm(fluxNorm)\n",
    "\n",
    "mags = {}\n",
    "for f in filterlist:\n",
    "    mags[f] = sun.calcMag(lsst[f])\n",
    "    \n",
    "pd.DataFrame(mags, index=['Distant Sun']).T"
   ]
  },
  {
   "cell_type": "code",
   "execution_count": 31,
   "id": "6514feb5-2aed-4fdb-958d-e3cee5f54a3d",
   "metadata": {},
   "outputs": [],
   "source": [
    "from rubin_sim.photUtils import SignalToNoise\n",
    "from rubin_sim.photUtils import PhotometricParameters"
   ]
  },
  {
   "cell_type": "code",
   "execution_count": 32,
   "id": "7e0232bc-f13c-44bb-a896-7f39e5eec3cd",
   "metadata": {},
   "outputs": [
    {
     "data": {
      "text/plain": [
       "(0.00874223082344965, 0.039237324048381955)"
      ]
     },
     "execution_count": 32,
     "metadata": {},
     "output_type": "execute_result"
    }
   ],
   "source": [
    "SignalToNoise.calcMagError_m5(magnitude=20, bandpass=lsst['r'], m5=24, photParams=PhotometricParameters())"
   ]
  },
  {
   "cell_type": "code",
   "execution_count": 35,
   "id": "86ab8100-e3c6-4d72-844d-8aed63972de0",
   "metadata": {},
   "outputs": [
    {
     "name": "stdout",
     "output_type": "stream",
     "text": [
      "0.8226078108252262\n",
      "0.22735898453086878\n"
     ]
    }
   ],
   "source": [
    "mag_error, gamma = SignalToNoise.calcMagError_m5(24., lsst['r'], 22.115278, PhotometricParameters())\n",
    "mag_error_2, gamma = SignalToNoise.calcMagError_m5(24., lsst['r'], 23.833470, PhotometricParameters())\n",
    "print(mag_error)\n",
    "print(mag_error_2)"
   ]
  },
  {
   "cell_type": "code",
   "execution_count": null,
   "id": "98bfb9d4-5f3d-4ac6-8458-58cf5122ac80",
   "metadata": {},
   "outputs": [],
   "source": []
  }
 ],
 "metadata": {
  "kernelspec": {
   "display_name": "Python 3 (ipykernel)",
   "language": "python",
   "name": "python3"
  },
  "language_info": {
   "codemirror_mode": {
    "name": "ipython",
    "version": 3
   },
   "file_extension": ".py",
   "mimetype": "text/x-python",
   "name": "python",
   "nbconvert_exporter": "python",
   "pygments_lexer": "ipython3",
   "version": "3.9.7"
  }
 },
 "nbformat": 4,
 "nbformat_minor": 5
}
