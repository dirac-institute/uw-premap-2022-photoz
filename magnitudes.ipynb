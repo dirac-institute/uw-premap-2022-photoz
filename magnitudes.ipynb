{
 "cells": [
  {
   "cell_type": "code",
   "execution_count": 1,
   "id": "3083fc2d-e5fa-48cb-93a8-1728d726785a",
   "metadata": {},
   "outputs": [],
   "source": [
    "import pandas as pd"
   ]
  },
  {
   "cell_type": "code",
   "execution_count": 2,
   "id": "f7e6f372-158a-4caf-9732-8c338a31cdb6",
   "metadata": {},
   "outputs": [],
   "source": [
    "from sqlite3 import connect"
   ]
  },
  {
   "cell_type": "code",
   "execution_count": 3,
   "id": "332d1037-646a-45dc-8742-2a27b7774763",
   "metadata": {},
   "outputs": [],
   "source": [
    "opsim_db = connect('baseline_v2.0_10yrs.db')"
   ]
  },
  {
   "cell_type": "code",
   "execution_count": 4,
   "id": "cc585855-1bf6-4ccc-a028-d0b293e99b1a",
   "metadata": {},
   "outputs": [],
   "source": [
    "opsim_file = pd.read_sql('select * from observations limit 1000', opsim_db)"
   ]
  },
  {
   "cell_type": "code",
   "execution_count": 5,
   "id": "72944be8-ac93-49d2-83df-c35813132bd0",
   "metadata": {},
   "outputs": [
    {
     "data": {
      "text/plain": [
       "Index(['observationId', 'fieldRA', 'fieldDec', 'observationStartMJD',\n",
       "       'flush_by_mjd', 'visitExposureTime', 'filter', 'rotSkyPos',\n",
       "       'numExposures', 'airmass', 'seeingFwhm500', 'seeingFwhmEff',\n",
       "       'seeingFwhmGeom', 'skyBrightness', 'night', 'slewTime', 'visitTime',\n",
       "       'slewDistance', 'fiveSigmaDepth', 'altitude', 'azimuth', 'paraAngle',\n",
       "       'cloud', 'moonAlt', 'sunAlt', 'note', 'fieldId', 'proposalId',\n",
       "       'block_id', 'observationStartLST', 'rotTelPos', 'moonAz', 'sunAz',\n",
       "       'sunRA', 'sunDec', 'moonRA', 'moonDec', 'moonDistance', 'solarElong',\n",
       "       'moonPhase', 'cummTelAz'],\n",
       "      dtype='object')"
      ]
     },
     "execution_count": 5,
     "metadata": {},
     "output_type": "execute_result"
    }
   ],
   "source": [
    "opsim_file.columns"
   ]
  },
  {
   "cell_type": "code",
   "execution_count": 6,
   "id": "34e53bea-0edb-48e7-95e2-a153709f713e",
   "metadata": {},
   "outputs": [
    {
     "data": {
      "text/plain": [
       "('observationId',\n",
       " 'fieldRA',\n",
       " 'fieldDec',\n",
       " 'observationStartMJD',\n",
       " 'fieldId',\n",
       " 'filter',\n",
       " 'fiveSigmaDepth')"
      ]
     },
     "execution_count": 6,
     "metadata": {},
     "output_type": "execute_result"
    }
   ],
   "source": [
    "'observationId', 'fieldRA', 'fieldDec', 'observationStartMJD', 'fieldId', 'filter', 'fiveSigmaDepth'"
   ]
  },
  {
   "cell_type": "code",
   "execution_count": 7,
   "id": "c863b5eb-9b63-4f2b-91bd-7afca0cce816",
   "metadata": {},
   "outputs": [],
   "source": [
    "band_obs = pd.read_sql_query('SELECT observationId, fieldRA, fieldDec, observationStartMJD, fieldId, filter, fiveSigmaDepth FROM observations', opsim_db)"
   ]
  },
  {
   "cell_type": "code",
   "execution_count": 8,
   "id": "54403856-1534-4415-96f9-5f8382519cdd",
   "metadata": {},
   "outputs": [
    {
     "data": {
      "text/html": [
       "<div>\n",
       "<style scoped>\n",
       "    .dataframe tbody tr th:only-of-type {\n",
       "        vertical-align: middle;\n",
       "    }\n",
       "\n",
       "    .dataframe tbody tr th {\n",
       "        vertical-align: top;\n",
       "    }\n",
       "\n",
       "    .dataframe thead th {\n",
       "        text-align: right;\n",
       "    }\n",
       "</style>\n",
       "<table border=\"1\" class=\"dataframe\">\n",
       "  <thead>\n",
       "    <tr style=\"text-align: right;\">\n",
       "      <th></th>\n",
       "      <th>observationId</th>\n",
       "      <th>fieldRA</th>\n",
       "      <th>fieldDec</th>\n",
       "      <th>observationStartMJD</th>\n",
       "      <th>fieldId</th>\n",
       "      <th>filter</th>\n",
       "      <th>fiveSigmaDepth</th>\n",
       "    </tr>\n",
       "  </thead>\n",
       "  <tbody>\n",
       "    <tr>\n",
       "      <th>0</th>\n",
       "      <td>0</td>\n",
       "      <td>310.024480</td>\n",
       "      <td>-60.812928</td>\n",
       "      <td>60218.001806</td>\n",
       "      <td>-1</td>\n",
       "      <td>y</td>\n",
       "      <td>22.370557</td>\n",
       "    </tr>\n",
       "    <tr>\n",
       "      <th>1</th>\n",
       "      <td>1</td>\n",
       "      <td>310.601871</td>\n",
       "      <td>-63.561425</td>\n",
       "      <td>60218.002254</td>\n",
       "      <td>-1</td>\n",
       "      <td>y</td>\n",
       "      <td>22.338327</td>\n",
       "    </tr>\n",
       "    <tr>\n",
       "      <th>2</th>\n",
       "      <td>2</td>\n",
       "      <td>311.292611</td>\n",
       "      <td>-66.317774</td>\n",
       "      <td>60218.002703</td>\n",
       "      <td>-1</td>\n",
       "      <td>y</td>\n",
       "      <td>22.295487</td>\n",
       "    </tr>\n",
       "    <tr>\n",
       "      <th>3</th>\n",
       "      <td>3</td>\n",
       "      <td>312.140731</td>\n",
       "      <td>-69.082666</td>\n",
       "      <td>60218.003152</td>\n",
       "      <td>-1</td>\n",
       "      <td>y</td>\n",
       "      <td>21.270421</td>\n",
       "    </tr>\n",
       "    <tr>\n",
       "      <th>4</th>\n",
       "      <td>4</td>\n",
       "      <td>304.170163</td>\n",
       "      <td>-73.375442</td>\n",
       "      <td>60218.003624</td>\n",
       "      <td>-1</td>\n",
       "      <td>y</td>\n",
       "      <td>21.205276</td>\n",
       "    </tr>\n",
       "    <tr>\n",
       "      <th>...</th>\n",
       "      <td>...</td>\n",
       "      <td>...</td>\n",
       "      <td>...</td>\n",
       "      <td>...</td>\n",
       "      <td>...</td>\n",
       "      <td>...</td>\n",
       "      <td>...</td>\n",
       "    </tr>\n",
       "    <tr>\n",
       "      <th>2086975</th>\n",
       "      <td>2086975</td>\n",
       "      <td>338.528926</td>\n",
       "      <td>-55.399555</td>\n",
       "      <td>63870.104267</td>\n",
       "      <td>-1</td>\n",
       "      <td>y</td>\n",
       "      <td>21.917628</td>\n",
       "    </tr>\n",
       "    <tr>\n",
       "      <th>2086976</th>\n",
       "      <td>2086976</td>\n",
       "      <td>347.380828</td>\n",
       "      <td>-54.922128</td>\n",
       "      <td>63870.104758</td>\n",
       "      <td>-1</td>\n",
       "      <td>y</td>\n",
       "      <td>21.864586</td>\n",
       "    </tr>\n",
       "    <tr>\n",
       "      <th>2086977</th>\n",
       "      <td>2086977</td>\n",
       "      <td>350.974688</td>\n",
       "      <td>-52.986827</td>\n",
       "      <td>63870.105219</td>\n",
       "      <td>-1</td>\n",
       "      <td>y</td>\n",
       "      <td>21.871581</td>\n",
       "    </tr>\n",
       "    <tr>\n",
       "      <th>2086978</th>\n",
       "      <td>2086978</td>\n",
       "      <td>356.062503</td>\n",
       "      <td>-53.778759</td>\n",
       "      <td>63870.105677</td>\n",
       "      <td>-1</td>\n",
       "      <td>y</td>\n",
       "      <td>21.850527</td>\n",
       "    </tr>\n",
       "    <tr>\n",
       "      <th>2086979</th>\n",
       "      <td>2086979</td>\n",
       "      <td>352.585400</td>\n",
       "      <td>-55.879554</td>\n",
       "      <td>63870.106138</td>\n",
       "      <td>-1</td>\n",
       "      <td>y</td>\n",
       "      <td>21.837416</td>\n",
       "    </tr>\n",
       "  </tbody>\n",
       "</table>\n",
       "<p>2086980 rows × 7 columns</p>\n",
       "</div>"
      ],
      "text/plain": [
       "         observationId     fieldRA   fieldDec  observationStartMJD  fieldId  \\\n",
       "0                    0  310.024480 -60.812928         60218.001806       -1   \n",
       "1                    1  310.601871 -63.561425         60218.002254       -1   \n",
       "2                    2  311.292611 -66.317774         60218.002703       -1   \n",
       "3                    3  312.140731 -69.082666         60218.003152       -1   \n",
       "4                    4  304.170163 -73.375442         60218.003624       -1   \n",
       "...                ...         ...        ...                  ...      ...   \n",
       "2086975        2086975  338.528926 -55.399555         63870.104267       -1   \n",
       "2086976        2086976  347.380828 -54.922128         63870.104758       -1   \n",
       "2086977        2086977  350.974688 -52.986827         63870.105219       -1   \n",
       "2086978        2086978  356.062503 -53.778759         63870.105677       -1   \n",
       "2086979        2086979  352.585400 -55.879554         63870.106138       -1   \n",
       "\n",
       "        filter  fiveSigmaDepth  \n",
       "0            y       22.370557  \n",
       "1            y       22.338327  \n",
       "2            y       22.295487  \n",
       "3            y       21.270421  \n",
       "4            y       21.205276  \n",
       "...        ...             ...  \n",
       "2086975      y       21.917628  \n",
       "2086976      y       21.864586  \n",
       "2086977      y       21.871581  \n",
       "2086978      y       21.850527  \n",
       "2086979      y       21.837416  \n",
       "\n",
       "[2086980 rows x 7 columns]"
      ]
     },
     "execution_count": 8,
     "metadata": {},
     "output_type": "execute_result"
    }
   ],
   "source": [
    "band_obs"
   ]
  },
  {
   "cell_type": "code",
   "execution_count": 9,
   "id": "af68a082-ca75-4313-942d-38774b87785c",
   "metadata": {},
   "outputs": [],
   "source": [
    "import matplotlib.pyplot as plt\n",
    "%matplotlib Inline"
   ]
  },
  {
   "cell_type": "code",
   "execution_count": 10,
   "id": "dee442e8-3eff-4635-bd07-fc3e74d5d307",
   "metadata": {},
   "outputs": [
    {
     "data": {
      "text/plain": [
       "Text(0, 0.5, 'DEC')"
      ]
     },
     "execution_count": 10,
     "metadata": {},
     "output_type": "execute_result"
    },
    {
     "data": {
      "image/png": "[encoded data removed]",
      "text/plain": [
       "<Figure size 640x480 with 1 Axes>"
      ]
     },
     "metadata": {},
     "output_type": "display_data"
    }
   ],
   "source": [
    "plt.scatter(band_obs['fieldRA'], band_obs['fieldDec'])\n",
    "plt.xlabel('RA')\n",
    "plt.ylabel('DEC')"
   ]
  },
  {
   "cell_type": "code",
   "execution_count": 11,
   "id": "52c4cda9-b2aa-4a27-9cd0-269b54d80099",
   "metadata": {},
   "outputs": [],
   "source": [
    "import matplotlib as npl"
   ]
  },
  {
   "cell_type": "code",
   "execution_count": 12,
   "id": "083dccc5-4826-42d5-9f71-dca602162981",
   "metadata": {},
   "outputs": [
    {
     "data": {
      "text/plain": [
       "<matplotlib.colorbar.Colorbar at 0x7f716a4fe978>"
      ]
     },
     "execution_count": 12,
     "metadata": {},
     "output_type": "execute_result"
    },
    {
     "data": {
      "image/png": "[encoded data removed]",
      "text/plain": [
       "<Figure size 640x480 with 2 Axes>"
      ]
     },
     "metadata": {},
     "output_type": "display_data"
    }
   ],
   "source": [
    "plt.hist2d(band_obs['fieldRA'], band_obs['fieldDec'], bins = 50, norm=npl.colors.LogNorm())\n",
    "plt.xlabel('RA')\n",
    "plt.ylabel('DEC')\n",
    "plt.colorbar()"
   ]
  },
  {
   "cell_type": "code",
   "execution_count": 13,
   "id": "bf41e81a-e8b8-46b7-bdd2-5bb9b4089ad0",
   "metadata": {},
   "outputs": [],
   "source": [
    "import numpy as np"
   ]
  },
  {
   "cell_type": "code",
   "execution_count": 14,
   "id": "1ea3b215-bbda-48fb-8948-10961bfa2db3",
   "metadata": {},
   "outputs": [],
   "source": [
    "find_max_RA = np.max(band_obs['fieldRA'])\n",
    "find_min_RA = np.min(band_obs['fieldRA'])\n",
    "find_max_DEC = np.max(band_obs['fieldDec'])\n",
    "find_min_DEC = np.min(band_obs['fieldDec'])\n",
    "num_bins = 50"
   ]
  },
  {
   "cell_type": "code",
   "execution_count": 134,
   "id": "e82a01a4-b7b2-47d0-97f5-229cf4df053d",
   "metadata": {},
   "outputs": [],
   "source": [
    "RA_set = np.linspace(find_min_RA, find_max_RA, num_bins)\n",
    "DEC_set = np.linspace(find_min_DEC, find_max_DEC, num_bins)\n"
   ]
  },
  {
   "cell_type": "code",
   "execution_count": 135,
   "id": "3c304fdb-3ee1-4eb7-b005-974cf9e538af",
   "metadata": {},
   "outputs": [
    {
     "data": {
      "text/plain": [
       "(array([5.90633443e-04, 7.34751493e+00, 1.46944392e+01, 2.20413635e+01,\n",
       "        2.93882878e+01, 3.67352121e+01, 4.40821364e+01, 5.14290607e+01,\n",
       "        5.87759850e+01, 6.61229093e+01, 7.34698336e+01, 8.08167579e+01,\n",
       "        8.81636822e+01, 9.55106065e+01, 1.02857531e+02, 1.10204455e+02,\n",
       "        1.17551379e+02, 1.24898304e+02, 1.32245228e+02, 1.39592152e+02,\n",
       "        1.46939077e+02, 1.54286001e+02, 1.61632925e+02, 1.68979850e+02,\n",
       "        1.76326774e+02, 1.83673698e+02, 1.91020622e+02, 1.98367547e+02,\n",
       "        2.05714471e+02, 2.13061395e+02, 2.20408320e+02, 2.27755244e+02,\n",
       "        2.35102168e+02, 2.42449093e+02, 2.49796017e+02, 2.57142941e+02,\n",
       "        2.64489865e+02, 2.71836790e+02, 2.79183714e+02, 2.86530638e+02,\n",
       "        2.93877563e+02, 3.01224487e+02, 3.08571411e+02, 3.15918336e+02,\n",
       "        3.23265260e+02, 3.30612184e+02, 3.37959108e+02, 3.45306033e+02,\n",
       "        3.52652957e+02, 3.59999881e+02]),\n",
       " array([-89.77809403, -87.24096482, -84.70383561, -82.1667064 ,\n",
       "        -79.62957719, -77.09244797, -74.55531876, -72.01818955,\n",
       "        -69.48106034, -66.94393113, -64.40680192, -61.86967271,\n",
       "        -59.3325435 , -56.79541429, -54.25828508, -51.72115587,\n",
       "        -49.18402666, -46.64689745, -44.10976824, -41.57263903,\n",
       "        -39.03550982, -36.49838061, -33.9612514 , -31.42412219,\n",
       "        -28.88699298, -26.34986377, -23.81273455, -21.27560534,\n",
       "        -18.73847613, -16.20134692, -13.66421771, -11.1270885 ,\n",
       "         -8.58995929,  -6.05283008,  -3.51570087,  -0.97857166,\n",
       "          1.55855755,   4.09568676,   6.63281597,   9.16994518,\n",
       "         11.70707439,  14.2442036 ,  16.78133281,  19.31846202,\n",
       "         21.85559123,  24.39272044,  26.92984965,  29.46697887,\n",
       "         32.00410808,  34.54123729]))"
      ]
     },
     "execution_count": 135,
     "metadata": {},
     "output_type": "execute_result"
    }
   ],
   "source": [
    "RA_set, DEC_set\n"
   ]
  },
  {
   "cell_type": "code",
   "execution_count": 136,
   "id": "c73a44e0-c21e-4dd8-94dc-fde632dcda4c",
   "metadata": {},
   "outputs": [
    {
     "data": {
      "text/plain": [
       "-61.869672711842924"
      ]
     },
     "execution_count": 136,
     "metadata": {},
     "output_type": "execute_result"
    }
   ],
   "source": [
    "DEC_set[11]"
   ]
  },
  {
   "cell_type": "code",
   "execution_count": 137,
   "id": "3a784692-ea8c-46cd-8b36-097a8138d81c",
   "metadata": {},
   "outputs": [
    {
     "data": {
      "text/plain": [
       "array([43, 43, 43, ..., 48, 49, 48])"
      ]
     },
     "execution_count": 137,
     "metadata": {},
     "output_type": "execute_result"
    }
   ],
   "source": [
    "RA_bins = np.digitize(band_obs['fieldRA'], RA_set, right=True)\n",
    "RA_bins"
   ]
  },
  {
   "cell_type": "code",
   "execution_count": 138,
   "id": "5989a9d2-6775-4847-9a11-88fdfb6b3036",
   "metadata": {},
   "outputs": [
    {
     "data": {
      "text/plain": [
       "array([43, 43, 43, ..., 48, 49, 48])"
      ]
     },
     "execution_count": 138,
     "metadata": {},
     "output_type": "execute_result"
    }
   ],
   "source": [
    "np.searchsorted(RA_set, band_obs['fieldRA'])"
   ]
  },
  {
   "cell_type": "code",
   "execution_count": 139,
   "id": "c87d2465-c536-4d41-8904-2f2c75f3c271",
   "metadata": {},
   "outputs": [
    {
     "data": {
      "text/plain": [
       "array([12, 11, 10, ..., 15, 15, 14])"
      ]
     },
     "execution_count": 139,
     "metadata": {},
     "output_type": "execute_result"
    }
   ],
   "source": [
    "DEC_bins = np.digitize(band_obs['fieldDec'], DEC_set, right=True)\n",
    "DEC_bins"
   ]
  },
  {
   "cell_type": "code",
   "execution_count": 140,
   "id": "ad703853-7a94-4a94-bb0f-85b409261afe",
   "metadata": {},
   "outputs": [],
   "source": [
    "band_obs['RABins'] = RA_bins\n",
    "band_obs['DECBins'] = DEC_bins"
   ]
  },
  {
   "cell_type": "code",
   "execution_count": 141,
   "id": "74dda8af-b411-4f3c-819c-afb84ee6c009",
   "metadata": {},
   "outputs": [
    {
     "data": {
      "text/plain": [
       "50"
      ]
     },
     "execution_count": 141,
     "metadata": {},
     "output_type": "execute_result"
    }
   ],
   "source": [
    "len(DEC_set)"
   ]
  },
  {
   "cell_type": "code",
   "execution_count": 142,
   "id": "4df61024-5a58-4133-8621-ebf281ccaa43",
   "metadata": {},
   "outputs": [
    {
     "data": {
      "text/html": [
       "<div>\n",
       "<style scoped>\n",
       "    .dataframe tbody tr th:only-of-type {\n",
       "        vertical-align: middle;\n",
       "    }\n",
       "\n",
       "    .dataframe tbody tr th {\n",
       "        vertical-align: top;\n",
       "    }\n",
       "\n",
       "    .dataframe thead th {\n",
       "        text-align: right;\n",
       "    }\n",
       "</style>\n",
       "<table border=\"1\" class=\"dataframe\">\n",
       "  <thead>\n",
       "    <tr style=\"text-align: right;\">\n",
       "      <th></th>\n",
       "      <th>observationId</th>\n",
       "      <th>fieldRA</th>\n",
       "      <th>fieldDec</th>\n",
       "      <th>observationStartMJD</th>\n",
       "      <th>fieldId</th>\n",
       "      <th>filter</th>\n",
       "      <th>fiveSigmaDepth</th>\n",
       "      <th>RABins</th>\n",
       "      <th>DECBins</th>\n",
       "    </tr>\n",
       "  </thead>\n",
       "  <tbody>\n",
       "    <tr>\n",
       "      <th>0</th>\n",
       "      <td>0</td>\n",
       "      <td>310.024480</td>\n",
       "      <td>-60.812928</td>\n",
       "      <td>60218.001806</td>\n",
       "      <td>2162</td>\n",
       "      <td>y</td>\n",
       "      <td>22.370557</td>\n",
       "      <td>43</td>\n",
       "      <td>12</td>\n",
       "    </tr>\n",
       "    <tr>\n",
       "      <th>1</th>\n",
       "      <td>1</td>\n",
       "      <td>310.601871</td>\n",
       "      <td>-63.561425</td>\n",
       "      <td>60218.002254</td>\n",
       "      <td>2161</td>\n",
       "      <td>y</td>\n",
       "      <td>22.338327</td>\n",
       "      <td>43</td>\n",
       "      <td>11</td>\n",
       "    </tr>\n",
       "    <tr>\n",
       "      <th>2</th>\n",
       "      <td>2</td>\n",
       "      <td>311.292611</td>\n",
       "      <td>-66.317774</td>\n",
       "      <td>60218.002703</td>\n",
       "      <td>2160</td>\n",
       "      <td>y</td>\n",
       "      <td>22.295487</td>\n",
       "      <td>43</td>\n",
       "      <td>10</td>\n",
       "    </tr>\n",
       "    <tr>\n",
       "      <th>3</th>\n",
       "      <td>3</td>\n",
       "      <td>312.140731</td>\n",
       "      <td>-69.082666</td>\n",
       "      <td>60218.003152</td>\n",
       "      <td>2159</td>\n",
       "      <td>y</td>\n",
       "      <td>21.270421</td>\n",
       "      <td>43</td>\n",
       "      <td>9</td>\n",
       "    </tr>\n",
       "    <tr>\n",
       "      <th>4</th>\n",
       "      <td>4</td>\n",
       "      <td>304.170163</td>\n",
       "      <td>-73.375442</td>\n",
       "      <td>60218.003624</td>\n",
       "      <td>2107</td>\n",
       "      <td>y</td>\n",
       "      <td>21.205276</td>\n",
       "      <td>42</td>\n",
       "      <td>7</td>\n",
       "    </tr>\n",
       "    <tr>\n",
       "      <th>...</th>\n",
       "      <td>...</td>\n",
       "      <td>...</td>\n",
       "      <td>...</td>\n",
       "      <td>...</td>\n",
       "      <td>...</td>\n",
       "      <td>...</td>\n",
       "      <td>...</td>\n",
       "      <td>...</td>\n",
       "      <td>...</td>\n",
       "    </tr>\n",
       "    <tr>\n",
       "      <th>2086975</th>\n",
       "      <td>2086975</td>\n",
       "      <td>338.528926</td>\n",
       "      <td>-55.399555</td>\n",
       "      <td>63870.104267</td>\n",
       "      <td>2364</td>\n",
       "      <td>y</td>\n",
       "      <td>21.917628</td>\n",
       "      <td>47</td>\n",
       "      <td>14</td>\n",
       "    </tr>\n",
       "    <tr>\n",
       "      <th>2086976</th>\n",
       "      <td>2086976</td>\n",
       "      <td>347.380828</td>\n",
       "      <td>-54.922128</td>\n",
       "      <td>63870.104758</td>\n",
       "      <td>2414</td>\n",
       "      <td>y</td>\n",
       "      <td>21.864586</td>\n",
       "      <td>48</td>\n",
       "      <td>14</td>\n",
       "    </tr>\n",
       "    <tr>\n",
       "      <th>2086977</th>\n",
       "      <td>2086977</td>\n",
       "      <td>350.974688</td>\n",
       "      <td>-52.986827</td>\n",
       "      <td>63870.105219</td>\n",
       "      <td>2415</td>\n",
       "      <td>y</td>\n",
       "      <td>21.871581</td>\n",
       "      <td>48</td>\n",
       "      <td>15</td>\n",
       "    </tr>\n",
       "    <tr>\n",
       "      <th>2086978</th>\n",
       "      <td>2086978</td>\n",
       "      <td>356.062503</td>\n",
       "      <td>-53.778759</td>\n",
       "      <td>63870.105677</td>\n",
       "      <td>2465</td>\n",
       "      <td>y</td>\n",
       "      <td>21.850527</td>\n",
       "      <td>49</td>\n",
       "      <td>15</td>\n",
       "    </tr>\n",
       "    <tr>\n",
       "      <th>2086979</th>\n",
       "      <td>2086979</td>\n",
       "      <td>352.585400</td>\n",
       "      <td>-55.879554</td>\n",
       "      <td>63870.106138</td>\n",
       "      <td>2414</td>\n",
       "      <td>y</td>\n",
       "      <td>21.837416</td>\n",
       "      <td>48</td>\n",
       "      <td>14</td>\n",
       "    </tr>\n",
       "  </tbody>\n",
       "</table>\n",
       "<p>2086980 rows × 9 columns</p>\n",
       "</div>"
      ],
      "text/plain": [
       "         observationId     fieldRA   fieldDec  observationStartMJD  fieldId  \\\n",
       "0                    0  310.024480 -60.812928         60218.001806     2162   \n",
       "1                    1  310.601871 -63.561425         60218.002254     2161   \n",
       "2                    2  311.292611 -66.317774         60218.002703     2160   \n",
       "3                    3  312.140731 -69.082666         60218.003152     2159   \n",
       "4                    4  304.170163 -73.375442         60218.003624     2107   \n",
       "...                ...         ...        ...                  ...      ...   \n",
       "2086975        2086975  338.528926 -55.399555         63870.104267     2364   \n",
       "2086976        2086976  347.380828 -54.922128         63870.104758     2414   \n",
       "2086977        2086977  350.974688 -52.986827         63870.105219     2415   \n",
       "2086978        2086978  356.062503 -53.778759         63870.105677     2465   \n",
       "2086979        2086979  352.585400 -55.879554         63870.106138     2414   \n",
       "\n",
       "        filter  fiveSigmaDepth  RABins  DECBins  \n",
       "0            y       22.370557      43       12  \n",
       "1            y       22.338327      43       11  \n",
       "2            y       22.295487      43       10  \n",
       "3            y       21.270421      43        9  \n",
       "4            y       21.205276      42        7  \n",
       "...        ...             ...     ...      ...  \n",
       "2086975      y       21.917628      47       14  \n",
       "2086976      y       21.864586      48       14  \n",
       "2086977      y       21.871581      48       15  \n",
       "2086978      y       21.850527      49       15  \n",
       "2086979      y       21.837416      48       14  \n",
       "\n",
       "[2086980 rows x 9 columns]"
      ]
     },
     "execution_count": 142,
     "metadata": {},
     "output_type": "execute_result"
    }
   ],
   "source": [
    "new_field_id = (RA_bins) * 50 + DEC_bins\n",
    "band_obs['fieldId'] = new_field_id\n",
    "band_obs"
   ]
  },
  {
   "cell_type": "code",
   "execution_count": 143,
   "id": "f2f2346d-6e7e-46fd-80ab-d63354e73076",
   "metadata": {},
   "outputs": [
    {
     "data": {
      "text/html": [
       "<div>\n",
       "<style scoped>\n",
       "    .dataframe tbody tr th:only-of-type {\n",
       "        vertical-align: middle;\n",
       "    }\n",
       "\n",
       "    .dataframe tbody tr th {\n",
       "        vertical-align: top;\n",
       "    }\n",
       "\n",
       "    .dataframe thead th {\n",
       "        text-align: right;\n",
       "    }\n",
       "</style>\n",
       "<table border=\"1\" class=\"dataframe\">\n",
       "  <thead>\n",
       "    <tr style=\"text-align: right;\">\n",
       "      <th></th>\n",
       "      <th>observationId</th>\n",
       "      <th>fieldRA</th>\n",
       "      <th>fieldDec</th>\n",
       "      <th>observationStartMJD</th>\n",
       "      <th>fieldId</th>\n",
       "      <th>filter</th>\n",
       "      <th>fiveSigmaDepth</th>\n",
       "      <th>RABins</th>\n",
       "      <th>DECBins</th>\n",
       "    </tr>\n",
       "  </thead>\n",
       "  <tbody>\n",
       "  </tbody>\n",
       "</table>\n",
       "</div>"
      ],
      "text/plain": [
       "Empty DataFrame\n",
       "Columns: [observationId, fieldRA, fieldDec, observationStartMJD, fieldId, filter, fiveSigmaDepth, RABins, DECBins]\n",
       "Index: []"
      ]
     },
     "execution_count": 143,
     "metadata": {},
     "output_type": "execute_result"
    }
   ],
   "source": [
    "band_obs.query(f'fieldId == 0')"
   ]
  },
  {
   "cell_type": "code",
   "execution_count": 144,
   "id": "671961c0-c0f0-4234-9378-c6f6cdbc7669",
   "metadata": {},
   "outputs": [
    {
     "name": "stdout",
     "output_type": "stream",
     "text": [
      "         observationId     fieldRA   fieldDec  observationStartMJD  fieldId  \\\n",
      "772                772  349.857034 -82.633511         60218.357890     2403   \n",
      "846124          846124  349.132762 -83.345848         61682.142242     2403   \n",
      "860288          860288  349.770490 -84.147058         61703.077226     2403   \n",
      "1680668        1680668  349.123067 -82.933787         63159.185750     2403   \n",
      "1875208        1875208  346.865503 -83.230118         63536.152786     2403   \n",
      "\n",
      "        filter  fiveSigmaDepth  RABins  DECBins  \n",
      "772          r       22.115278      48        3  \n",
      "846124       r       23.833470      48        3  \n",
      "860288       r       23.336416      48        3  \n",
      "1680668      r       23.423731      48        3  \n",
      "1875208      r       23.918868      48        3            observationId     fieldRA   fieldDec  observationStartMJD  fieldId  \\\n",
      "6825              6825  352.165162 -82.198183         60226.356411     2403   \n",
      "1259256        1259256  351.795196 -83.451359         62442.066218     2403   \n",
      "1478871        1478871  346.629750 -83.641666         62802.056051     2403   \n",
      "1680618        1680618  349.123067 -82.933787         63159.161138     2403   \n",
      "\n",
      "        filter  fiveSigmaDepth  RABins  DECBins  \n",
      "6825         g       24.091112      48        3  \n",
      "1259256      g       24.005959      48        3  \n",
      "1478871      g       23.803613      48        3  \n",
      "1680618      g       23.770814      48        3  \n",
      "2491\n"
     ]
    }
   ],
   "source": [
    "r_filter = band_obs.query(f'fieldId == 2403 and filter == \"r\"')\n",
    "g_filter = band_obs.query(f'fieldId == 2403 and filter == \"g\"')\n",
    "print(r_filter, g_filter)\n",
    "field_id_max = np.max(band_obs['fieldId'])\n",
    "#field_id_min = np.min(band_obs['fieldId'])\n",
    "print(field_id_max)"
   ]
  },
  {
   "cell_type": "code",
   "execution_count": 145,
   "id": "b33aa337-fa4b-4255-844b-3f59bcc0961c",
   "metadata": {},
   "outputs": [
    {
     "name": "stdout",
     "output_type": "stream",
     "text": [
      "atmos_10.dat   filter_r.dat    hardware_r.dat  lens3.dat\ttotal_g.dat\n",
      "atmos_std.dat  filter_u.dat    hardware_u.dat  LSSTfilters.png\ttotal_i.dat\n",
      "darksky.dat    filter_y.dat    hardware_y.dat  m1.dat\t\ttotal_r.dat\n",
      "detector.dat   filter_z.dat    hardware_z.dat  m2.dat\t\ttotal_u.dat\n",
      "filter_g.dat   hardware_g.dat  lens1.dat       m3.dat\t\ttotal_y.dat\n",
      "filter_i.dat   hardware_i.dat  lens2.dat       README.md\ttotal_z.dat\n"
     ]
    }
   ],
   "source": [
    "import os\n",
    "import numpy as np\n",
    "import matplotlib.pyplot as plt\n",
    "%matplotlib inline\n",
    "import pandas as pd\n",
    "\n",
    "fdir = os.getenv('RUBIN_SIM_DATA_DIR')\n",
    "if fdir is None:  #environment variable not set\n",
    "    fdir = os.path.join(os.getenv('HOME'), 'rubin_sim_data')\n",
    "\n",
    "fdir = '/home/jovyan/uw-premap-2022-photoz/data/lsst_baseline_throughputs'\n",
    "\n",
    "!ls $fdir"
   ]
  },
  {
   "cell_type": "code",
   "execution_count": 146,
   "id": "1977465f-c747-4eb9-b20f-6584d1aa766b",
   "metadata": {},
   "outputs": [
    {
     "name": "stdout",
     "output_type": "stream",
     "text": [
      "atmos_10.dat   filter_r.dat    hardware_r.dat  lens3.dat\ttotal_g.dat\n",
      "atmos_std.dat  filter_u.dat    hardware_u.dat  LSSTfilters.png\ttotal_i.dat\n",
      "darksky.dat    filter_y.dat    hardware_y.dat  m1.dat\t\ttotal_r.dat\n",
      "detector.dat   filter_z.dat    hardware_z.dat  m2.dat\t\ttotal_u.dat\n",
      "filter_g.dat   hardware_g.dat  lens1.dat       m3.dat\t\ttotal_y.dat\n",
      "filter_i.dat   hardware_i.dat  lens2.dat       README.md\ttotal_z.dat\n"
     ]
    }
   ],
   "source": [
    "fdir = os.getenv('RUBIN_SIM_DATA_DIR')\n",
    "if fdir is None:  #environment variable not set\n",
    "    fdir = os.path.join(os.getenv('HOME'), 'rubin_sim_data')\n",
    "\n",
    "fdir = '/home/jovyan/uw-premap-2022-photoz/data/lsst_baseline_throughputs'\n",
    "\n",
    "!ls $fdir"
   ]
  },
  {
   "cell_type": "code",
   "execution_count": 147,
   "id": "4c8a5811-d93a-4331-8faa-bc13f7b41925",
   "metadata": {},
   "outputs": [],
   "source": [
    "import rubin_sim.photUtils.Bandpass as Bandpass\n",
    "import rubin_sim.photUtils.Sed as Sed"
   ]
  },
  {
   "cell_type": "code",
   "execution_count": 148,
   "id": "a54169c6-6b45-4a3b-a0c0-b59964c27e37",
   "metadata": {},
   "outputs": [],
   "source": [
    "sun = Sed()\n",
    "sun.readSED_flambda('/home/jovyan/uw-premap-2022-photoz/data/sed_templates/CWW_KINNEY/CWW_E_ext.sed')\n",
    "sun.wavelen/=10"
   ]
  },
  {
   "cell_type": "code",
   "execution_count": null,
   "id": "a9a5dbd9-5084-4cde-a83d-9331d79a42a0",
   "metadata": {},
   "outputs": [],
   "source": []
  },
  {
   "cell_type": "code",
   "execution_count": 149,
   "id": "48411316-9469-4ad5-a0b5-a2a76cbcef5c",
   "metadata": {},
   "outputs": [
    {
     "data": {
      "text/html": [
       "<div>\n",
       "<style scoped>\n",
       "    .dataframe tbody tr th:only-of-type {\n",
       "        vertical-align: middle;\n",
       "    }\n",
       "\n",
       "    .dataframe tbody tr th {\n",
       "        vertical-align: top;\n",
       "    }\n",
       "\n",
       "    .dataframe thead th {\n",
       "        text-align: right;\n",
       "    }\n",
       "</style>\n",
       "<table border=\"1\" class=\"dataframe\">\n",
       "  <thead>\n",
       "    <tr style=\"text-align: right;\">\n",
       "      <th></th>\n",
       "      <th>Sun</th>\n",
       "    </tr>\n",
       "  </thead>\n",
       "  <tbody>\n",
       "    <tr>\n",
       "      <th>u</th>\n",
       "      <td>-4.150003</td>\n",
       "    </tr>\n",
       "    <tr>\n",
       "      <th>g</th>\n",
       "      <td>-5.896804</td>\n",
       "    </tr>\n",
       "    <tr>\n",
       "      <th>r</th>\n",
       "      <td>-6.622219</td>\n",
       "    </tr>\n",
       "    <tr>\n",
       "      <th>i</th>\n",
       "      <td>-6.974888</td>\n",
       "    </tr>\n",
       "    <tr>\n",
       "      <th>z</th>\n",
       "      <td>-7.233845</td>\n",
       "    </tr>\n",
       "    <tr>\n",
       "      <th>y</th>\n",
       "      <td>-7.425142</td>\n",
       "    </tr>\n",
       "  </tbody>\n",
       "</table>\n",
       "</div>"
      ],
      "text/plain": [
       "        Sun\n",
       "u -4.150003\n",
       "g -5.896804\n",
       "r -6.622219\n",
       "i -6.974888\n",
       "z -7.233845\n",
       "y -7.425142"
      ]
     },
     "execution_count": 149,
     "metadata": {},
     "output_type": "execute_result"
    }
   ],
   "source": [
    "filterlist = ['u', 'g', 'r', 'i', 'z', 'y']\n",
    "\n",
    "lsst = {}\n",
    "for f in filterlist:\n",
    "    lsst[f] = Bandpass()\n",
    "    lsst[f].readThroughput(os.path.join(fdir, f'total_{f}.dat'))\n",
    "    \n",
    "mags = {}\n",
    "for f in filterlist:\n",
    "    mags[f] = sun.calcMag(lsst[f])\n",
    "\n",
    "# Make a dataframe just to get a nice output cell.\n",
    "pd.DataFrame(mags, index=['Sun']).T"
   ]
  },
  {
   "cell_type": "code",
   "execution_count": 150,
   "id": "a6580a77-07e6-4098-b202-5fbce7293345",
   "metadata": {},
   "outputs": [
    {
     "data": {
      "text/html": [
       "<div>\n",
       "<style scoped>\n",
       "    .dataframe tbody tr th:only-of-type {\n",
       "        vertical-align: middle;\n",
       "    }\n",
       "\n",
       "    .dataframe tbody tr th {\n",
       "        vertical-align: top;\n",
       "    }\n",
       "\n",
       "    .dataframe thead th {\n",
       "        text-align: right;\n",
       "    }\n",
       "</style>\n",
       "<table border=\"1\" class=\"dataframe\">\n",
       "  <thead>\n",
       "    <tr style=\"text-align: right;\">\n",
       "      <th></th>\n",
       "      <th>Distant Sun</th>\n",
       "    </tr>\n",
       "  </thead>\n",
       "  <tbody>\n",
       "    <tr>\n",
       "      <th>u</th>\n",
       "      <td>22.472216</td>\n",
       "    </tr>\n",
       "    <tr>\n",
       "      <th>g</th>\n",
       "      <td>20.725415</td>\n",
       "    </tr>\n",
       "    <tr>\n",
       "      <th>r</th>\n",
       "      <td>20.000000</td>\n",
       "    </tr>\n",
       "    <tr>\n",
       "      <th>i</th>\n",
       "      <td>19.647330</td>\n",
       "    </tr>\n",
       "    <tr>\n",
       "      <th>z</th>\n",
       "      <td>19.388374</td>\n",
       "    </tr>\n",
       "    <tr>\n",
       "      <th>y</th>\n",
       "      <td>19.197076</td>\n",
       "    </tr>\n",
       "  </tbody>\n",
       "</table>\n",
       "</div>"
      ],
      "text/plain": [
       "   Distant Sun\n",
       "u    22.472216\n",
       "g    20.725415\n",
       "r    20.000000\n",
       "i    19.647330\n",
       "z    19.388374\n",
       "y    19.197076"
      ]
     },
     "execution_count": 150,
     "metadata": {},
     "output_type": "execute_result"
    }
   ],
   "source": [
    "r = 20.0\n",
    "\n",
    "fluxNorm = sun.calcFluxNorm(r, lsst['r'])\n",
    "\n",
    "sun.multiplyFluxNorm(fluxNorm)\n",
    "\n",
    "mags = {}\n",
    "for f in filterlist:\n",
    "    mags[f] = sun.calcMag(lsst[f])\n",
    "    \n",
    "pd.DataFrame(mags, index=['Distant Sun']).T"
   ]
  },
  {
   "cell_type": "code",
   "execution_count": 151,
   "id": "6514feb5-2aed-4fdb-958d-e3cee5f54a3d",
   "metadata": {},
   "outputs": [],
   "source": [
    "from rubin_sim.photUtils import SignalToNoise\n",
    "from rubin_sim.photUtils import PhotometricParameters"
   ]
  },
  {
   "cell_type": "code",
   "execution_count": 152,
   "id": "7e0232bc-f13c-44bb-a896-7f39e5eec3cd",
   "metadata": {},
   "outputs": [
    {
     "data": {
      "text/plain": [
       "(0.013139422508835895, 0.03934261437469505)"
      ]
     },
     "execution_count": 152,
     "metadata": {},
     "output_type": "execute_result"
    }
   ],
   "source": [
    "SignalToNoise.calcMagError_m5(magnitude=20, bandpass=lsst['r'], m5=24, photParams=PhotometricParameters())\n",
    "SignalToNoise.calcMagError_m5(magnitude=20.725415, bandpass=lsst['g'], m5=24, photParams=PhotometricParameters())"
   ]
  },
  {
   "cell_type": "code",
   "execution_count": 153,
   "id": "86ab8100-e3c6-4d72-844d-8aed63972de0",
   "metadata": {},
   "outputs": [
    {
     "name": "stdout",
     "output_type": "stream",
     "text": [
      "0.031221444804164934\n",
      "0.009322245115585407\n"
     ]
    }
   ],
   "source": [
    "mag_error_r, gamma = SignalToNoise.calcMagError_m5(20, lsst['r'], 22.115278, PhotometricParameters())\n",
    "mag_error_2r, gamma = SignalToNoise.calcMagError_m5(20, lsst['r'], 23.833470, PhotometricParameters())\n",
    "print(mag_error_r)\n",
    "print(mag_error_2r)"
   ]
  },
  {
   "cell_type": "code",
   "execution_count": 154,
   "id": "98bfb9d4-5f3d-4ac6-8458-58cf5122ac80",
   "metadata": {},
   "outputs": [
    {
     "name": "stdout",
     "output_type": "stream",
     "text": [
      "0.014857161547721024 0.013093479367888855\n"
     ]
    }
   ],
   "source": [
    "mag_error_g, gamma = SignalToNoise.calcMagError_m5(20.725415, lsst['g'], 23.803613 , PhotometricParameters())\n",
    "mag_error_2g, gamma = SignalToNoise.calcMagError_m5(20.725415, lsst['g'], 24.005959, PhotometricParameters())\n",
    "print(mag_error_g, mag_error_2g)"
   ]
  },
  {
   "cell_type": "code",
   "execution_count": 155,
   "id": "56b74e26-622b-4d38-a81c-62434bb52469",
   "metadata": {
    "tags": []
   },
   "outputs": [],
   "source": [
    "mag_2 = 20\n",
    "mag_1 = 20.725415\n",
    "def combine_col_err(mag_1, mag_2, err_1, err_2):\n",
    "    return mag_1-mag_2, np.sqrt(mag_error_g**2 + mag_error_r**2)"
   ]
  },
  {
   "cell_type": "code",
   "execution_count": 156,
   "id": "5b0a94c6-e2b5-4924-b5f3-6a418b7cf148",
   "metadata": {},
   "outputs": [],
   "source": [
    "gmr_error = combine_col_err(mag_1, mag_2, mag_error_g, mag_error_r)"
   ]
  },
  {
   "cell_type": "code",
   "execution_count": 157,
   "id": "7b8f5d81-e061-4863-8874-2dc993b7b9c0",
   "metadata": {},
   "outputs": [
    {
     "data": {
      "text/plain": [
       "(0.7254150000000017, 0.0345762037377529)"
      ]
     },
     "execution_count": 157,
     "metadata": {},
     "output_type": "execute_result"
    }
   ],
   "source": [
    "gmr_error\n"
   ]
  },
  {
   "cell_type": "code",
   "execution_count": 158,
   "id": "f5ef3db6-fd8f-49be-8abe-bb5586bde2d0",
   "metadata": {},
   "outputs": [],
   "source": [
    "from scipy.stats import norm"
   ]
  },
  {
   "cell_type": "code",
   "execution_count": 159,
   "id": "2ff1cea1-b959-4990-a225-bcf01f08c3de",
   "metadata": {
    "tags": []
   },
   "outputs": [
    {
     "name": "stdout",
     "output_type": "stream",
     "text": [
      "[0.7254152168005632, 0.9092875263745306, 1.21556563554606, 1.5101335745430582, 1.7336961338800663, 1.6247841723966872, 1.564944229071827, 1.6311809361247, 1.8812287964095908, 2.127568839165825, 2.2677011843884642, 2.1867075250048273, 1.8528072436778764, 1.4936730257263982, 1.1240496109998404, 0.8557468597614317, 0.7198391764086622, 0.7096387142844485, 0.747772632412822, 0.7750666481098385, 0.7663830025511693, 0.7227059844917534, 0.6590263915621257, 0.5962345500838815, 0.5445307149382153, 0.508888128898807, 0.4915751575070537, 0.4913180779593205, 0.5034478075371531, 0.5257928424279541, 0.5554684677789687] [0.37017813081659756, 0.4106166880291578, 0.4936703200193052, 0.5935508056397875, 0.6831634000258694, 0.6379932233974491, 0.6144016195935934, 0.6405664346332308, 0.7489732638916033, 0.8707147554809013, 0.9465152678502351, 0.9021312189629442, 0.7358808040627709, 0.5874297653001357, 0.46670527968637987, 0.3981440945213296, 0.3690553798652329, 0.36701680257128677, 0.3747396397974698, 0.3804391732704134, 0.3786101576725795, 0.3696318789018914, 0.3571916595860722, 0.34565910225562496, 0.3366937307361052, 0.3307848939477323, 0.3279931235932389, 0.3279520508453723, 0.3299021477239154, 0.3335601014034936, 0.33855109039526265]\n"
     ]
    }
   ],
   "source": [
    "from copy import copy\n",
    "g_r = []\n",
    "g_r_err = []\n",
    "pdf_list = []\n",
    "r = 24.5\n",
    "for redshift in np.arange(0,3.1,0.1):\n",
    "    sun_copy = copy(sun)\n",
    "    sun_copy.redshiftSED(redshift)\n",
    "    mags = {}\n",
    "    fluxNorm = sun_copy.calcFluxNorm(r, lsst['r'])\n",
    "    sun_copy.multiplyFluxNorm(fluxNorm)\n",
    "    mags = {}\n",
    "    for f in filterlist:\n",
    "        mags[f] = sun_copy.calcMag(lsst[f])\n",
    "        pd.DataFrame(mags, index=['Distant Sun']).T\n",
    "    gr_color = mags['g'] - mags['r']\n",
    "    g_r.append(mags['g'] - mags['r'])\n",
    "    result_g = 1.25 * np.log10(np.sum(10.0 ** (0.8 * g_filter['fiveSigmaDepth'])))\n",
    "    result_r = 1.25 * np.log10(np.sum(10.0 ** (0.8 * r_filter['fiveSigmaDepth'])))\n",
    "    mag_error_g, gamma = SignalToNoise.calcMagError_m5(mags['g'], lsst['g'], result_g , PhotometricParameters())\n",
    "    mag_error_r, gamma = SignalToNoise.calcMagError_m5(mags['r'], lsst['r'], result_r, PhotometricParameters())\n",
    "    g_r_err.append(np.sqrt(mag_error_r**2 + mag_error_g**2))\n",
    "    gr_error = np.sqrt(mag_error_r**2 + mag_error_g**2)\n",
    "    pdf_list.append(norm(loc = gr_color, scale = gr_error))\n",
    "    \n",
    "\n",
    "print(g_r, g_r_err)"
   ]
  },
  {
   "cell_type": "code",
   "execution_count": 160,
   "id": "ab4f2791-9818-4080-838d-550444295296",
   "metadata": {},
   "outputs": [],
   "source": [
    "# g_r_err on x-axis, g_r on y-axis"
   ]
  },
  {
   "cell_type": "code",
   "execution_count": 161,
   "id": "a73c9aa6-e3a8-42cb-9e3d-a31a2d0b08c0",
   "metadata": {},
   "outputs": [
    {
     "data": {
      "text/plain": [
       "Text(0, 0.5, 'Color')"
      ]
     },
     "execution_count": 161,
     "metadata": {},
     "output_type": "execute_result"
    },
    {
     "data": {
      "image/png": "[encoded data removed]",
      "text/plain": [
       "<Figure size 640x480 with 1 Axes>"
      ]
     },
     "metadata": {},
     "output_type": "display_data"
    }
   ],
   "source": [
    "redshift_r = np.arange(0,3.1,0.1)\n",
    "plt.plot(redshift_r, g_r)\n",
    "plt.xlabel(\"Redshift\")\n",
    "plt.ylabel(\"Color\")"
   ]
  },
  {
   "cell_type": "code",
   "execution_count": null,
   "id": "52236490-384c-4fda-858f-fb82ec9c781c",
   "metadata": {},
   "outputs": [],
   "source": []
  },
  {
   "cell_type": "code",
   "execution_count": 162,
   "id": "6e597be9-53b6-4e2b-bcf1-d4149d5b1ab7",
   "metadata": {},
   "outputs": [
    {
     "data": {
      "text/plain": [
       "(0.7254152168005632, 0.37017813081659756)"
      ]
     },
     "execution_count": 162,
     "metadata": {},
     "output_type": "execute_result"
    }
   ],
   "source": [
    "g_r[0], g_r_err[0]"
   ]
  },
  {
   "cell_type": "code",
   "execution_count": 163,
   "id": "b44240f1-2e2f-48a5-a46d-358660ae3408",
   "metadata": {},
   "outputs": [],
   "source": [
    "gal_z_0 = norm(loc=g_r[0], scale=g_r_err[0])\n",
    "gal_z_0p5 = norm(loc=g_r[5], scale=g_r_err[5])\n",
    "gal_z_1p0 = norm(loc=g_r[10], scale=g_r_err[10])"
   ]
  },
  {
   "cell_type": "code",
   "execution_count": null,
   "id": "e2f4b3b0-7cde-455f-a3ac-29a15a82cc00",
   "metadata": {},
   "outputs": [],
   "source": []
  },
  {
   "cell_type": "code",
   "execution_count": 164,
   "id": "62389351-0b1f-409a-b423-3374cb53f296",
   "metadata": {},
   "outputs": [
    {
     "data": {
      "text/plain": [
       "(0.4913180779593205, 2.2677011843884642)"
      ]
     },
     "execution_count": 164,
     "metadata": {},
     "output_type": "execute_result"
    }
   ],
   "source": [
    "np.min(g_r), np.max(g_r)"
   ]
  },
  {
   "cell_type": "code",
   "execution_count": 165,
   "id": "4317bf64-f5cd-44a4-8687-1e4b2baa98c0",
   "metadata": {},
   "outputs": [],
   "source": [
    "color_range = np.arange(-4,8, 0.01)"
   ]
  },
  {
   "cell_type": "code",
   "execution_count": 166,
   "id": "98a0c8f1-b864-442f-80a3-d4195663731e",
   "metadata": {},
   "outputs": [
    {
     "data": {
      "text/plain": [
       "<matplotlib.legend.Legend at 0x7f7207d7b4e0>"
      ]
     },
     "execution_count": 166,
     "metadata": {},
     "output_type": "execute_result"
    },
    {
     "data": {
      "image/png": "[encoded data removed]",
      "text/plain": [
       "<Figure size 640x480 with 1 Axes>"
      ]
     },
     "metadata": {},
     "output_type": "display_data"
    }
   ],
   "source": [
    "plt.plot(color_range, pdf_list[0].pdf(color_range), label = 'z=0')\n",
    "plt.plot(color_range, pdf_list[5].pdf(color_range), label = 'z=0.5')\n",
    "plt.plot(color_range, pdf_list[10].pdf(color_range), label = 'z=1.0')\n",
    "plt.xlabel('g-r color')\n",
    "plt.ylabel('Probability Density')\n",
    "plt.legend()"
   ]
  },
  {
   "cell_type": "code",
   "execution_count": 167,
   "id": "8db37547-bb64-424a-8946-440475a2e37d",
   "metadata": {},
   "outputs": [],
   "source": [
    "#combined_pdf = gal_z_0.pdf(color_range) + gal_z_0p5.pdf(color_range) +  gal_z_1p0.pdf(color_range)\n",
    "combined_pdf = np.zeros(len(color_range))"
   ]
  },
  {
   "cell_type": "code",
   "execution_count": 168,
   "id": "80d44b31-b4d3-4b29-a172-90ac5b756a96",
   "metadata": {},
   "outputs": [],
   "source": [
    "for gal in pdf_list:\n",
    "    combined_pdf += gal.pdf(color_range)\n",
    "combined_pdf_2 = combined_pdf / len(pdf_list)  "
   ]
  },
  {
   "cell_type": "code",
   "execution_count": 169,
   "id": "8d52b97f-87aa-47fe-844a-a3c835a6eba8",
   "metadata": {},
   "outputs": [
    {
     "data": {
      "text/plain": [
       "<matplotlib.legend.Legend at 0x7f7207792ba8>"
      ]
     },
     "execution_count": 169,
     "metadata": {},
     "output_type": "execute_result"
    },
    {
     "data": {
      "image/png": "[encoded data removed]",
      "text/plain": [
       "<Figure size 640x480 with 1 Axes>"
      ]
     },
     "metadata": {},
     "output_type": "display_data"
    }
   ],
   "source": [
    "plt.plot(color_range, gal_z_0.pdf(color_range), label = 'z=0')\n",
    "plt.plot(color_range, gal_z_0p5.pdf(color_range), label = 'z=0.5')\n",
    "plt.plot(color_range, gal_z_1p0.pdf(color_range), label = 'z=1.0')\n",
    "plt.plot(color_range, combined_pdf_2 , '--', label = 'All redshifts')\n",
    "plt.xlabel('g-r color')\n",
    "plt.ylabel('Probability Density')\n",
    "plt.legend()"
   ]
  },
  {
   "cell_type": "code",
   "execution_count": 170,
   "id": "6847aa1d-2aba-4525-877d-705d1bab47a4",
   "metadata": {},
   "outputs": [],
   "source": [
    "from scipy.special import kl_div, rel_entr"
   ]
  },
  {
   "cell_type": "code",
   "execution_count": 171,
   "id": "20818a10-e13a-43e1-96df-32578cfc8e37",
   "metadata": {},
   "outputs": [
    {
     "data": {
      "text/plain": [
       "<matplotlib.legend.Legend at 0x7f7207599ac8>"
      ]
     },
     "execution_count": 171,
     "metadata": {},
     "output_type": "execute_result"
    },
    {
     "data": {
      "image/png": "[encoded data removed]",
      "text/plain": [
       "<Figure size 640x480 with 1 Axes>"
      ]
     },
     "metadata": {},
     "output_type": "display_data"
    }
   ],
   "source": [
    "plt.plot(color_range, gal_z_0.pdf(color_range), label = 'z=0')\n",
    "#plt.plot(color_range, gal_z_0p5.pdf(color_range), label = 'z=0.5')\n",
    "#plt.plot(color_range, gal_z_1p0.pdf(color_range), label = 'z=1.0')\n",
    "plt.plot(color_range, combined_pdf_2, '--', label = 'All redshifts')\n",
    "plt.xlabel('g-r color')\n",
    "plt.ylabel('Probability Density')\n",
    "plt.legend()"
   ]
  },
  {
   "cell_type": "code",
   "execution_count": 172,
   "id": "473eabaa-88e9-45a3-90a7-7f7b53665e69",
   "metadata": {},
   "outputs": [
    {
     "data": {
      "text/plain": [
       "0.010000000000000214"
      ]
     },
     "execution_count": 172,
     "metadata": {},
     "output_type": "execute_result"
    }
   ],
   "source": [
    "np.sum(0.01*gal_z_0.pdf(color_range)*0.01)"
   ]
  },
  {
   "cell_type": "code",
   "execution_count": 173,
   "id": "062d6805-553b-411b-b53d-5da78d920860",
   "metadata": {},
   "outputs": [
    {
     "data": {
      "text/plain": [
       "0.2612086986342901"
      ]
     },
     "execution_count": 173,
     "metadata": {},
     "output_type": "execute_result"
    }
   ],
   "source": [
    "np.sum(kl_div(0.01*gal_z_0.pdf(color_range), 0.01*combined_pdf_2))"
   ]
  },
  {
   "cell_type": "code",
   "execution_count": 174,
   "id": "dc1e6f55-91f0-41c7-b3cc-e1dac214d46d",
   "metadata": {},
   "outputs": [],
   "source": [
    "combined_kl = []\n",
    "for gal in pdf_list:\n",
    "    combined_kl.append(np.sum(kl_div(0.01*gal.pdf(color_range), 0.01*combined_pdf_2)))"
   ]
  },
  {
   "cell_type": "code",
   "execution_count": 175,
   "id": "fd793ab6-9791-4a8c-9a91-53b73886d936",
   "metadata": {},
   "outputs": [
    {
     "name": "stdout",
     "output_type": "stream",
     "text": [
      "0.40359042125279876\n"
     ]
    }
   ],
   "source": [
    "print(np.mean(combined_kl))"
   ]
  },
  {
   "cell_type": "code",
   "execution_count": 176,
   "id": "4d80a3f3-5772-47fc-9680-5af26a880e93",
   "metadata": {},
   "outputs": [],
   "source": [
    "result_r = 1.25 * np.log10(np.sum(10.0 ** (0.8 * r_filter['fiveSigmaDepth'])))"
   ]
  },
  {
   "cell_type": "code",
   "execution_count": 177,
   "id": "a05cd803-09ae-462c-8a22-655655d21fc3",
   "metadata": {},
   "outputs": [],
   "source": [
    "result_g = 1.25 * np.log10(np.sum(10.0 ** (0.8 * g_filter['fiveSigmaDepth'])))"
   ]
  },
  {
   "cell_type": "code",
   "execution_count": 178,
   "id": "f95003ca-2c6e-49e9-95a4-3c524cea5944",
   "metadata": {
    "tags": []
   },
   "outputs": [
    {
     "name": "stdout",
     "output_type": "stream",
     "text": [
      "24.444680387674623 24.687150268328377\n"
     ]
    }
   ],
   "source": [
    "print(result_r, result_g)"
   ]
  },
  {
   "cell_type": "code",
   "execution_count": 179,
   "id": "51510e07-a8b6-471f-9298-d072f7c0a2f1",
   "metadata": {},
   "outputs": [],
   "source": [
    "def calc_colors_pdf(r_filter, g_filter):\n",
    "    g_r = []\n",
    "    g_r_err = []\n",
    "    pdf_list = []\n",
    "    r = 24.5\n",
    "    for redshift in np.arange(0,3.1,0.1):\n",
    "        sun_copy = copy(sun)\n",
    "        sun_copy.redshiftSED(redshift)\n",
    "        mags = {}\n",
    "        fluxNorm = sun_copy.calcFluxNorm(r, lsst['r'])\n",
    "        sun_copy.multiplyFluxNorm(fluxNorm)\n",
    "        mags = {}\n",
    "        for f in filterlist:\n",
    "            mags[f] = sun_copy.calcMag(lsst[f])\n",
    "            pd.DataFrame(mags, index=['Distant Sun']).T\n",
    "        gr_color = mags['g'] - mags['r']\n",
    "        g_r.append(mags['g'] - mags['r'])\n",
    "        result_g = 1.25 * np.log10(np.sum(10.0 ** (0.8 * g_filter['fiveSigmaDepth'])))\n",
    "        result_r = 1.25 * np.log10(np.sum(10.0 ** (0.8 * r_filter['fiveSigmaDepth'])))\n",
    "        mag_error_g, gamma = SignalToNoise.calcMagError_m5(mags['g'], lsst['g'], result_g , PhotometricParameters())\n",
    "        mag_error_r, gamma = SignalToNoise.calcMagError_m5(mags['r'], lsst['r'], result_r, PhotometricParameters())\n",
    "        g_r_err.append(np.sqrt(mag_error_r**2 + mag_error_g**2))\n",
    "        gr_error = np.sqrt(mag_error_r**2 + mag_error_g**2)\n",
    "        pdf_list.append(norm(loc = gr_color, scale = gr_error))\n",
    "    return g_r, g_r_err, pdf_list"
   ]
  },
  {
   "cell_type": "code",
   "execution_count": 180,
   "id": "4d7dac36-dd23-44ed-a70d-49c3e24f90eb",
   "metadata": {
    "tags": []
   },
   "outputs": [],
   "source": [
    "def combined_pdfs(pdf_list_1, color_range_1):\n",
    "    combined_pdf = np.zeros(len(color_range_1))\n",
    "    for gal in pdf_list_1:\n",
    "        combined_pdf += gal.pdf(color_range_1)\n",
    "    combined_pdf_2 = combined_pdf / len(pdf_list_1) \n",
    "    return combined_pdf_2"
   ]
  },
  {
   "cell_type": "code",
   "execution_count": 181,
   "id": "d5f91af7-debd-4c92-a369-365053c396a5",
   "metadata": {},
   "outputs": [],
   "source": [
    "#max_sig = np.max(band_obs['fiveSigmaDepth']                 \n",
    "#def combined_sigma(r_filter, g_filter):\n",
    " #   result_r = 1.25 * np.log10(np.sum(10.0 ** (0.8 * r_filter['fiveSigmaDepth']))) \n",
    "  #  result_g = 1.25 * np.log10(np.sum(10.0 ** (0.8 * g_filter['fiveSigmaDepth'])))\n",
    "   # return result_r, result_g\n",
    "    \n",
    "    # IGNORE"
   ]
  },
  {
   "cell_type": "code",
   "execution_count": 182,
   "id": "45eed8f9-74bd-4fd7-bee2-706adb43f597",
   "metadata": {
    "tags": []
   },
   "outputs": [],
   "source": [
    "def combined_kl_div(combined_pdf_2, color_range, pdf_list):\n",
    "    combined_kl = []\n",
    "    for gal in pdf_list:\n",
    "        check = kl_div(0.01*gal.pdf(color_range), 0.01*combined_pdf_2)\n",
    "        if np.inf in check:\n",
    "            check_ind = np.where(check == np.inf)\n",
    "            check[check_ind] = 0\n",
    "        combined_kl.append(np.sum(check))\n",
    "    return combined_kl"
   ]
  },
  {
   "cell_type": "code",
   "execution_count": 183,
   "id": "541c86ed-9732-4b4d-9dc5-75f45fca7512",
   "metadata": {},
   "outputs": [
    {
     "name": "stdout",
     "output_type": "stream",
     "text": [
      "0\n",
      "100\n",
      "200\n",
      "300\n",
      "400\n",
      "500\n",
      "600\n",
      "700\n",
      "800\n",
      "900\n",
      "1000\n",
      "1100\n",
      "1200\n",
      "1300\n",
      "1400\n",
      "1500\n",
      "1600\n",
      "1700\n",
      "1800\n",
      "1900\n",
      "2000\n",
      "2100\n",
      "2200\n",
      "2300\n",
      "2400\n"
     ]
    }
   ],
   "source": [
    "color_range_1 = np.arange(-4,8, 0.01)\n",
    "field_kl = []\n",
    "for fid in range(0,field_id_max+1):\n",
    "    if fid % 100 == 0:\n",
    "        print(fid)\n",
    "    r_filter = band_obs.query(f'fieldId == {fid} and filter == \"r\"')\n",
    "    g_filter = band_obs.query(f'fieldId == {fid} and filter == \"g\"')\n",
    "    if len(r_filter) == 0:\n",
    "        field_kl.append([])\n",
    "        continue\n",
    "    if len(g_filter) == 0:\n",
    "        field_kl.append([])\n",
    "        continue\n",
    "    g_r, g_r_err, pdf_list_1 = calc_colors_pdf(r_filter, g_filter)\n",
    "    combined_pdf_2 = combined_pdfs(pdf_list_1, color_range_1)\n",
    "    combined_kl = combined_kl_div(combined_pdf_2, color_range_1, pdf_list_1)\n",
    "    field_kl.append(combined_kl)"
   ]
  },
  {
   "cell_type": "code",
   "execution_count": 184,
   "id": "b8f53024-fc44-4bd1-9d0b-2cdcc300503b",
   "metadata": {},
   "outputs": [
    {
     "data": {
      "text/plain": [
       "2491"
      ]
     },
     "execution_count": 184,
     "metadata": {},
     "output_type": "execute_result"
    }
   ],
   "source": [
    "np.max(band_obs['fieldId'])"
   ]
  },
  {
   "cell_type": "code",
   "execution_count": 66,
   "id": "034c2554-66a2-4d14-89a4-bffb5042de0e",
   "metadata": {},
   "outputs": [],
   "source": [
    "import pickle"
   ]
  },
  {
   "cell_type": "code",
   "execution_count": 185,
   "id": "0630c58d-1fe9-4224-a0bd-9c6d396a3893",
   "metadata": {},
   "outputs": [],
   "source": [
    "with open('baseline_kl_field_values.pkl', 'wb') as f:\n",
    "    pickle.dump(field_kl, f)"
   ]
  },
  {
   "cell_type": "code",
   "execution_count": 186,
   "id": "be489431-39f9-4b74-b0f6-8f5623cf86d6",
   "metadata": {
    "tags": []
   },
   "outputs": [],
   "source": [
    "with open('baseline_kl_field_values.pkl', 'rb') as f:\n",
    "    field_kl = pickle.load(f)"
   ]
  },
  {
   "cell_type": "code",
   "execution_count": null,
   "id": "aaf84442-5a07-47bf-92a2-d0e0cf446728",
   "metadata": {},
   "outputs": [],
   "source": [
    "band_obs.query(['field_id"
   ]
  },
  {
   "cell_type": "code",
   "execution_count": 187,
   "id": "c6a32428-1360-4399-bab1-62a9f1245b52",
   "metadata": {},
   "outputs": [
    {
     "name": "stderr",
     "output_type": "stream",
     "text": [
      "/astro/users/brycek/.local/lib/python3.7/site-packages/numpy/core/fromnumeric.py:3441: RuntimeWarning: Mean of empty slice.\n",
      "  out=out, **kwargs)\n",
      "/astro/users/brycek/.local/lib/python3.7/site-packages/numpy/core/_methods.py:189: RuntimeWarning: invalid value encountered in double_scalars\n",
      "  ret = ret.dtype.type(ret / rcount)\n"
     ]
    },
    {
     "ename": "IndexError",
     "evalue": "list index out of range",
     "output_type": "error",
     "traceback": [
      "\u001b[0;31m---------------------------------------------------------------------------\u001b[0m",
      "\u001b[0;31mIndexError\u001b[0m                                Traceback (most recent call last)",
      "\u001b[0;32m<ipython-input-187-7893c2ef09d4>\u001b[0m in \u001b[0;36m<module>\u001b[0;34m\u001b[0m\n\u001b[1;32m      3\u001b[0m \u001b[0;32mfor\u001b[0m \u001b[0mRA\u001b[0m \u001b[0;32min\u001b[0m \u001b[0mRA_set\u001b[0m\u001b[0;34m:\u001b[0m\u001b[0;34m\u001b[0m\u001b[0;34m\u001b[0m\u001b[0m\n\u001b[1;32m      4\u001b[0m     \u001b[0;32mfor\u001b[0m \u001b[0mDEC\u001b[0m \u001b[0;32min\u001b[0m \u001b[0mDEC_set\u001b[0m\u001b[0;34m:\u001b[0m\u001b[0;34m\u001b[0m\u001b[0;34m\u001b[0m\u001b[0m\n\u001b[0;32m----> 5\u001b[0;31m         \u001b[0mmean_kl\u001b[0m \u001b[0;34m=\u001b[0m \u001b[0mnp\u001b[0m\u001b[0;34m.\u001b[0m\u001b[0mmean\u001b[0m\u001b[0;34m(\u001b[0m\u001b[0mfield_kl\u001b[0m\u001b[0;34m[\u001b[0m\u001b[0miters\u001b[0m\u001b[0;34m]\u001b[0m\u001b[0;34m)\u001b[0m\u001b[0;34m\u001b[0m\u001b[0;34m\u001b[0m\u001b[0m\n\u001b[0m\u001b[1;32m      6\u001b[0m         \u001b[0mra_dec_kl\u001b[0m\u001b[0;34m.\u001b[0m\u001b[0mappend\u001b[0m\u001b[0;34m(\u001b[0m\u001b[0;34m[\u001b[0m\u001b[0mRA\u001b[0m\u001b[0;34m,\u001b[0m \u001b[0mDEC\u001b[0m\u001b[0;34m,\u001b[0m \u001b[0mmean_kl\u001b[0m\u001b[0;34m,\u001b[0m \u001b[0miters\u001b[0m\u001b[0;34m]\u001b[0m\u001b[0;34m)\u001b[0m\u001b[0;34m\u001b[0m\u001b[0;34m\u001b[0m\u001b[0m\n\u001b[1;32m      7\u001b[0m         \u001b[0miters\u001b[0m \u001b[0;34m+=\u001b[0m \u001b[0;36m1\u001b[0m\u001b[0;34m\u001b[0m\u001b[0;34m\u001b[0m\u001b[0m\n",
      "\u001b[0;31mIndexError\u001b[0m: list index out of range"
     ]
    }
   ],
   "source": [
    "iters = 0\n",
    "ra_dec_kl = []\n",
    "for RA in RA_set:\n",
    "    for DEC in DEC_set:\n",
    "        mean_kl = np.mean(field_kl[iters])\n",
    "        ra_dec_kl.append([RA, DEC, mean_kl, iters])\n",
    "        iters += 1    "
   ]
  },
  {
   "cell_type": "code",
   "execution_count": 188,
   "id": "848cf17b-21a9-4d77-a628-c3ffaa175493",
   "metadata": {},
   "outputs": [
    {
     "data": {
      "text/plain": [
       "(49, 49)"
      ]
     },
     "execution_count": 188,
     "metadata": {},
     "output_type": "execute_result"
    }
   ],
   "source": [
    "np.max(RA_bins), np.max(DEC_bins)"
   ]
  },
  {
   "cell_type": "code",
   "execution_count": 189,
   "id": "f0f28d9f-9ab5-4f35-8181-f0acf915ffcb",
   "metadata": {},
   "outputs": [
    {
     "name": "stdout",
     "output_type": "stream",
     "text": [
      "2492\n"
     ]
    }
   ],
   "source": [
    "print(iters)"
   ]
  },
  {
   "cell_type": "code",
   "execution_count": 190,
   "id": "91de17cb-cda4-42ef-acc5-ae579ed72447",
   "metadata": {},
   "outputs": [
    {
     "data": {
      "text/plain": [
       "[[0.0005906334430789996, -89.77809402699343, nan, 0],\n",
       " [0.0005906334430789996, -87.2409648165252, nan, 1],\n",
       " [0.0005906334430789996, -84.70383560605697, nan, 2],\n",
       " [0.0005906334430789996, -82.16670639558875, nan, 3],\n",
       " [0.0005906334430789996, -79.62957718512052, nan, 4],\n",
       " [0.0005906334430789996, -77.09244797465229, nan, 5],\n",
       " [0.0005906334430789996, -74.55531876418407, nan, 6],\n",
       " [0.0005906334430789996, -72.01818955371584, nan, 7],\n",
       " [0.0005906334430789996, -69.4810603432476, nan, 8],\n",
       " [0.0005906334430789996, -66.94393113277937, nan, 9]]"
      ]
     },
     "execution_count": 190,
     "metadata": {},
     "output_type": "execute_result"
    }
   ],
   "source": [
    "ra_dec_kl[:10]"
   ]
  },
  {
   "cell_type": "code",
   "execution_count": 191,
   "id": "9ef24b99-737a-4923-b3f2-d5e787af969a",
   "metadata": {},
   "outputs": [
    {
     "data": {
      "text/plain": [
       "array([[ 5.90633443e-04,  5.90633443e-04,  5.90633443e-04, ...,\n",
       "         3.59999881e+02,  3.59999881e+02,  3.59999881e+02],\n",
       "       [-8.97780940e+01, -8.72409648e+01, -8.47038356e+01, ...,\n",
       "         9.16994518e+00,  1.17070744e+01,  1.42442036e+01],\n",
       "       [            nan,             nan,             nan, ...,\n",
       "         1.39026830e+00,  1.13084289e+00,  2.09143799e-01],\n",
       "       [ 0.00000000e+00,  1.00000000e+00,  2.00000000e+00, ...,\n",
       "         2.48900000e+03,  2.49000000e+03,  2.49100000e+03]])"
      ]
     },
     "execution_count": 191,
     "metadata": {},
     "output_type": "execute_result"
    }
   ],
   "source": [
    "my_array = np.array(ra_dec_kl)\n",
    "my_array = my_array.T\n",
    "my_array"
   ]
  },
  {
   "cell_type": "code",
   "execution_count": 195,
   "id": "e7c32626-baf3-4b00-8660-27dd61d5ce79",
   "metadata": {},
   "outputs": [
    {
     "data": {
      "text/plain": [
       "<matplotlib.colorbar.Colorbar at 0x7f72072b7518>"
      ]
     },
     "execution_count": 195,
     "metadata": {},
     "output_type": "execute_result"
    },
    {
     "data": {
      "image/png": "[encoded data removed]",
      "text/plain": [
       "<Figure size 640x480 with 2 Axes>"
      ]
     },
     "metadata": {},
     "output_type": "display_data"
    }
   ],
   "source": [
    "plt.scatter(my_array[0], my_array[1], c=my_array[2],)\n",
    "plt.colorbar()"
   ]
  },
  {
   "cell_type": "code",
   "execution_count": 198,
   "id": "d1d1e0d4-ae52-46ec-8841-c7d5fc6c0325",
   "metadata": {},
   "outputs": [
    {
     "data": {
      "text/plain": [
       "<matplotlib.colorbar.Colorbar at 0x7f72067b4630>"
      ]
     },
     "execution_count": 198,
     "metadata": {},
     "output_type": "execute_result"
    },
    {
     "data": {
      "image/png": "[encoded data removed]",
      "text/plain": [
       "<Figure size 640x480 with 2 Axes>"
      ]
     },
     "metadata": {},
     "output_type": "display_data"
    }
   ],
   "source": [
    "plt.hist2d(band_obs['fieldRA'], band_obs['fieldDec'], bins = 50, norm=npl.colors.LogNorm())\n",
    "plt.xlabel('RA')\n",
    "plt.ylabel('DEC')\n",
    "plt.colorbar()"
   ]
  },
  {
   "cell_type": "code",
   "execution_count": null,
   "id": "dfb54f4b-bb7e-4c16-9e0d-e6551fe538a3",
   "metadata": {},
   "outputs": [],
   "source": []
  }
 ],
 "metadata": {
  "kernelspec": {
   "display_name": "Python 3-Bryce",
   "language": "python",
   "name": "python3-bryce"
  },
  "language_info": {
   "codemirror_mode": {
    "name": "ipython",
    "version": 3
   },
   "file_extension": ".py",
   "mimetype": "text/x-python",
   "name": "python",
   "nbconvert_exporter": "python",
   "pygments_lexer": "ipython3",
   "version": "3.7.3"
  }
 },
 "nbformat": 4,
 "nbformat_minor": 5
}
