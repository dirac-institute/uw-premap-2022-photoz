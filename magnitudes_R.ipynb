{
 "cells": [
  {
   "cell_type": "code",
   "execution_count": 12,
   "id": "3083fc2d-e5fa-48cb-93a8-1728d726785a",
   "metadata": {},
   "outputs": [],
   "source": [
    "import pandas as pd"
   ]
  },
  {
   "cell_type": "code",
   "execution_count": 13,
   "id": "f7e6f372-158a-4caf-9732-8c338a31cdb6",
   "metadata": {},
   "outputs": [],
   "source": [
    "from sqlite3 import connect"
   ]
  },
  {
   "cell_type": "code",
   "execution_count": 14,
   "id": "332d1037-646a-45dc-8742-2a27b7774763",
   "metadata": {},
   "outputs": [],
   "source": [
    "opsim_db = connect('baseline_v2.0_10yrs.db')"
   ]
  },
  {
   "cell_type": "code",
   "execution_count": 15,
   "id": "cc585855-1bf6-4ccc-a028-d0b293e99b1a",
   "metadata": {},
   "outputs": [],
   "source": [
    "opsim_file = pd.read_sql('select * from observations limit 1000', opsim_db)"
   ]
  },
  {
   "cell_type": "code",
   "execution_count": 16,
   "id": "72944be8-ac93-49d2-83df-c35813132bd0",
   "metadata": {},
   "outputs": [
    {
     "data": {
      "text/plain": [
       "Index(['observationId', 'fieldRA', 'fieldDec', 'observationStartMJD',\n",
       "       'flush_by_mjd', 'visitExposureTime', 'filter', 'rotSkyPos',\n",
       "       'numExposures', 'airmass', 'seeingFwhm500', 'seeingFwhmEff',\n",
       "       'seeingFwhmGeom', 'skyBrightness', 'night', 'slewTime', 'visitTime',\n",
       "       'slewDistance', 'fiveSigmaDepth', 'altitude', 'azimuth', 'paraAngle',\n",
       "       'cloud', 'moonAlt', 'sunAlt', 'note', 'fieldId', 'proposalId',\n",
       "       'block_id', 'observationStartLST', 'rotTelPos', 'moonAz', 'sunAz',\n",
       "       'sunRA', 'sunDec', 'moonRA', 'moonDec', 'moonDistance', 'solarElong',\n",
       "       'moonPhase', 'cummTelAz'],\n",
       "      dtype='object')"
      ]
     },
     "execution_count": 16,
     "metadata": {},
     "output_type": "execute_result"
    }
   ],
   "source": [
    "opsim_file.columns"
   ]
  },
  {
   "cell_type": "code",
   "execution_count": 17,
   "id": "34e53bea-0edb-48e7-95e2-a153709f713e",
   "metadata": {},
   "outputs": [
    {
     "data": {
      "text/plain": [
       "('observationId',\n",
       " 'fieldRA',\n",
       " 'fieldDec',\n",
       " 'observationStartMJD',\n",
       " 'fieldId',\n",
       " 'filter',\n",
       " 'fiveSigmaDepth')"
      ]
     },
     "execution_count": 17,
     "metadata": {},
     "output_type": "execute_result"
    }
   ],
   "source": [
    "'observationId', 'fieldRA', 'fieldDec', 'observationStartMJD', 'fieldId', 'filter', 'fiveSigmaDepth'"
   ]
  },
  {
   "cell_type": "code",
   "execution_count": 18,
   "id": "c863b5eb-9b63-4f2b-91bd-7afca0cce816",
   "metadata": {},
   "outputs": [],
   "source": [
    "band_obs = pd.read_sql_query('SELECT observationId, fieldRA, fieldDec, observationStartMJD, fieldId, filter, fiveSigmaDepth FROM observations', opsim_db)"
   ]
  },
  {
   "cell_type": "code",
   "execution_count": 19,
   "id": "54403856-1534-4415-96f9-5f8382519cdd",
   "metadata": {},
   "outputs": [
    {
     "data": {
      "text/html": [
       "<div>\n",
       "<style scoped>\n",
       "    .dataframe tbody tr th:only-of-type {\n",
       "        vertical-align: middle;\n",
       "    }\n",
       "\n",
       "    .dataframe tbody tr th {\n",
       "        vertical-align: top;\n",
       "    }\n",
       "\n",
       "    .dataframe thead th {\n",
       "        text-align: right;\n",
       "    }\n",
       "</style>\n",
       "<table border=\"1\" class=\"dataframe\">\n",
       "  <thead>\n",
       "    <tr style=\"text-align: right;\">\n",
       "      <th></th>\n",
       "      <th>observationId</th>\n",
       "      <th>fieldRA</th>\n",
       "      <th>fieldDec</th>\n",
       "      <th>observationStartMJD</th>\n",
       "      <th>fieldId</th>\n",
       "      <th>filter</th>\n",
       "      <th>fiveSigmaDepth</th>\n",
       "    </tr>\n",
       "  </thead>\n",
       "  <tbody>\n",
       "    <tr>\n",
       "      <th>0</th>\n",
       "      <td>0</td>\n",
       "      <td>310.024480</td>\n",
       "      <td>-60.812928</td>\n",
       "      <td>60218.001806</td>\n",
       "      <td>-1</td>\n",
       "      <td>y</td>\n",
       "      <td>22.370557</td>\n",
       "    </tr>\n",
       "    <tr>\n",
       "      <th>1</th>\n",
       "      <td>1</td>\n",
       "      <td>310.601871</td>\n",
       "      <td>-63.561425</td>\n",
       "      <td>60218.002254</td>\n",
       "      <td>-1</td>\n",
       "      <td>y</td>\n",
       "      <td>22.338327</td>\n",
       "    </tr>\n",
       "    <tr>\n",
       "      <th>2</th>\n",
       "      <td>2</td>\n",
       "      <td>311.292611</td>\n",
       "      <td>-66.317774</td>\n",
       "      <td>60218.002703</td>\n",
       "      <td>-1</td>\n",
       "      <td>y</td>\n",
       "      <td>22.295487</td>\n",
       "    </tr>\n",
       "    <tr>\n",
       "      <th>3</th>\n",
       "      <td>3</td>\n",
       "      <td>312.140731</td>\n",
       "      <td>-69.082666</td>\n",
       "      <td>60218.003152</td>\n",
       "      <td>-1</td>\n",
       "      <td>y</td>\n",
       "      <td>21.270421</td>\n",
       "    </tr>\n",
       "    <tr>\n",
       "      <th>4</th>\n",
       "      <td>4</td>\n",
       "      <td>304.170163</td>\n",
       "      <td>-73.375442</td>\n",
       "      <td>60218.003624</td>\n",
       "      <td>-1</td>\n",
       "      <td>y</td>\n",
       "      <td>21.205276</td>\n",
       "    </tr>\n",
       "    <tr>\n",
       "      <th>...</th>\n",
       "      <td>...</td>\n",
       "      <td>...</td>\n",
       "      <td>...</td>\n",
       "      <td>...</td>\n",
       "      <td>...</td>\n",
       "      <td>...</td>\n",
       "      <td>...</td>\n",
       "    </tr>\n",
       "    <tr>\n",
       "      <th>2086975</th>\n",
       "      <td>2086975</td>\n",
       "      <td>338.528926</td>\n",
       "      <td>-55.399555</td>\n",
       "      <td>63870.104267</td>\n",
       "      <td>-1</td>\n",
       "      <td>y</td>\n",
       "      <td>21.917628</td>\n",
       "    </tr>\n",
       "    <tr>\n",
       "      <th>2086976</th>\n",
       "      <td>2086976</td>\n",
       "      <td>347.380828</td>\n",
       "      <td>-54.922128</td>\n",
       "      <td>63870.104758</td>\n",
       "      <td>-1</td>\n",
       "      <td>y</td>\n",
       "      <td>21.864586</td>\n",
       "    </tr>\n",
       "    <tr>\n",
       "      <th>2086977</th>\n",
       "      <td>2086977</td>\n",
       "      <td>350.974688</td>\n",
       "      <td>-52.986827</td>\n",
       "      <td>63870.105219</td>\n",
       "      <td>-1</td>\n",
       "      <td>y</td>\n",
       "      <td>21.871581</td>\n",
       "    </tr>\n",
       "    <tr>\n",
       "      <th>2086978</th>\n",
       "      <td>2086978</td>\n",
       "      <td>356.062503</td>\n",
       "      <td>-53.778759</td>\n",
       "      <td>63870.105677</td>\n",
       "      <td>-1</td>\n",
       "      <td>y</td>\n",
       "      <td>21.850527</td>\n",
       "    </tr>\n",
       "    <tr>\n",
       "      <th>2086979</th>\n",
       "      <td>2086979</td>\n",
       "      <td>352.585400</td>\n",
       "      <td>-55.879554</td>\n",
       "      <td>63870.106138</td>\n",
       "      <td>-1</td>\n",
       "      <td>y</td>\n",
       "      <td>21.837416</td>\n",
       "    </tr>\n",
       "  </tbody>\n",
       "</table>\n",
       "<p>2086980 rows × 7 columns</p>\n",
       "</div>"
      ],
      "text/plain": [
       "         observationId     fieldRA   fieldDec  observationStartMJD  fieldId  \\\n",
       "0                    0  310.024480 -60.812928         60218.001806       -1   \n",
       "1                    1  310.601871 -63.561425         60218.002254       -1   \n",
       "2                    2  311.292611 -66.317774         60218.002703       -1   \n",
       "3                    3  312.140731 -69.082666         60218.003152       -1   \n",
       "4                    4  304.170163 -73.375442         60218.003624       -1   \n",
       "...                ...         ...        ...                  ...      ...   \n",
       "2086975        2086975  338.528926 -55.399555         63870.104267       -1   \n",
       "2086976        2086976  347.380828 -54.922128         63870.104758       -1   \n",
       "2086977        2086977  350.974688 -52.986827         63870.105219       -1   \n",
       "2086978        2086978  356.062503 -53.778759         63870.105677       -1   \n",
       "2086979        2086979  352.585400 -55.879554         63870.106138       -1   \n",
       "\n",
       "        filter  fiveSigmaDepth  \n",
       "0            y       22.370557  \n",
       "1            y       22.338327  \n",
       "2            y       22.295487  \n",
       "3            y       21.270421  \n",
       "4            y       21.205276  \n",
       "...        ...             ...  \n",
       "2086975      y       21.917628  \n",
       "2086976      y       21.864586  \n",
       "2086977      y       21.871581  \n",
       "2086978      y       21.850527  \n",
       "2086979      y       21.837416  \n",
       "\n",
       "[2086980 rows x 7 columns]"
      ]
     },
     "execution_count": 19,
     "metadata": {},
     "output_type": "execute_result"
    }
   ],
   "source": [
    "band_obs"
   ]
  },
  {
   "cell_type": "code",
   "execution_count": 20,
   "id": "af68a082-ca75-4313-942d-38774b87785c",
   "metadata": {},
   "outputs": [],
   "source": [
    "import matplotlib.pyplot as plt\n",
    "%matplotlib Inline"
   ]
  },
  {
   "cell_type": "code",
   "execution_count": 23,
   "id": "dee442e8-3eff-4635-bd07-fc3e74d5d307",
   "metadata": {},
   "outputs": [
    {
     "data": {
      "text/plain": [
       "Text(0, 0.5, 'DEC')"
      ]
     },
     "execution_count": 23,
     "metadata": {},
     "output_type": "execute_result"
    },
    {
     "data": {
      "image/png": "[encoded data removed]",
      "text/plain": [
       "<Figure size 432x288 with 1 Axes>"
      ]
     },
     "metadata": {
      "needs_background": "light"
     },
     "output_type": "display_data"
    }
   ],
   "source": [
    "plt.scatter(band_obs['fieldRA'], band_obs['fieldDec'])\n",
    "plt.xlabel('RA')\n",
    "plt.ylabel('DEC')"
   ]
  },
  {
   "cell_type": "code",
   "execution_count": 24,
   "id": "52c4cda9-b2aa-4a27-9cd0-269b54d80099",
   "metadata": {},
   "outputs": [],
   "source": [
    "import matplotlib as npl"
   ]
  },
  {
   "cell_type": "code",
   "execution_count": 25,
   "id": "083dccc5-4826-42d5-9f71-dca602162981",
   "metadata": {},
   "outputs": [
    {
     "data": {
      "text/plain": [
       "<matplotlib.colorbar.Colorbar at 0x7fdcc3480d60>"
      ]
     },
     "execution_count": 25,
     "metadata": {},
     "output_type": "execute_result"
    },
    {
     "data": {
      "image/png": "[encoded data removed]",
      "text/plain": [
       "<Figure size 432x288 with 2 Axes>"
      ]
     },
     "metadata": {
      "needs_background": "light"
     },
     "output_type": "display_data"
    }
   ],
   "source": [
    "plt.hist2d(band_obs['fieldRA'], band_obs['fieldDec'], bins = 50, norm=npl.colors.LogNorm())\n",
    "plt.xlabel('RA')\n",
    "plt.ylabel('DEC')\n",
    "plt.colorbar()"
   ]
  },
  {
   "cell_type": "code",
   "execution_count": 26,
   "id": "bf41e81a-e8b8-46b7-bdd2-5bb9b4089ad0",
   "metadata": {},
   "outputs": [],
   "source": [
    "import numpy as np"
   ]
  },
  {
   "cell_type": "code",
   "execution_count": 27,
   "id": "1ea3b215-bbda-48fb-8948-10961bfa2db3",
   "metadata": {},
   "outputs": [],
   "source": [
    "find_max_RA = np.max(band_obs['fieldRA'])\n",
    "find_min_RA = np.min(band_obs['fieldRA'])\n",
    "find_max_DEC = np.max(band_obs['fieldDec'])\n",
    "find_min_DEC = np.min(band_obs['fieldDec'])\n",
    "num_bins = 50"
   ]
  },
  {
   "cell_type": "code",
   "execution_count": 28,
   "id": "e82a01a4-b7b2-47d0-97f5-229cf4df053d",
   "metadata": {},
   "outputs": [],
   "source": [
    "RA_set = np.linspace(find_min_RA, find_max_RA, num_bins+1)\n",
    "DEC_set = np.linspace(find_min_DEC, find_max_DEC, num_bins+1)"
   ]
  },
  {
   "cell_type": "code",
   "execution_count": 29,
   "id": "3a784692-ea8c-46cd-8b36-097a8138d81c",
   "metadata": {},
   "outputs": [
    {
     "data": {
      "text/plain": [
       "array([44, 44, 44, ..., 49, 50, 49])"
      ]
     },
     "execution_count": 29,
     "metadata": {},
     "output_type": "execute_result"
    }
   ],
   "source": [
    "RA_bins = np.digitize(band_obs['fieldRA'], RA_set, right=True)\n",
    "RA_bins"
   ]
  },
  {
   "cell_type": "code",
   "execution_count": 30,
   "id": "c87d2465-c536-4d41-8904-2f2c75f3c271",
   "metadata": {},
   "outputs": [
    {
     "data": {
      "text/plain": [
       "array([12, 11, 10, ..., 15, 15, 14])"
      ]
     },
     "execution_count": 30,
     "metadata": {},
     "output_type": "execute_result"
    }
   ],
   "source": [
    "DEC_bins = np.digitize(band_obs['fieldDec'], DEC_set, right=True)\n",
    "DEC_bins"
   ]
  },
  {
   "cell_type": "code",
   "execution_count": 31,
   "id": "ad703853-7a94-4a94-bb0f-85b409261afe",
   "metadata": {},
   "outputs": [],
   "source": [
    "band_obs['RABins'] = RA_bins\n",
    "band_obs['DECBins'] = DEC_bins"
   ]
  },
  {
   "cell_type": "code",
   "execution_count": 32,
   "id": "4df61024-5a58-4133-8621-ebf281ccaa43",
   "metadata": {},
   "outputs": [
    {
     "data": {
      "text/html": [
       "<div>\n",
       "<style scoped>\n",
       "    .dataframe tbody tr th:only-of-type {\n",
       "        vertical-align: middle;\n",
       "    }\n",
       "\n",
       "    .dataframe tbody tr th {\n",
       "        vertical-align: top;\n",
       "    }\n",
       "\n",
       "    .dataframe thead th {\n",
       "        text-align: right;\n",
       "    }\n",
       "</style>\n",
       "<table border=\"1\" class=\"dataframe\">\n",
       "  <thead>\n",
       "    <tr style=\"text-align: right;\">\n",
       "      <th></th>\n",
       "      <th>observationId</th>\n",
       "      <th>fieldRA</th>\n",
       "      <th>fieldDec</th>\n",
       "      <th>observationStartMJD</th>\n",
       "      <th>fieldId</th>\n",
       "      <th>filter</th>\n",
       "      <th>fiveSigmaDepth</th>\n",
       "      <th>RABins</th>\n",
       "      <th>DECBins</th>\n",
       "    </tr>\n",
       "  </thead>\n",
       "  <tbody>\n",
       "    <tr>\n",
       "      <th>0</th>\n",
       "      <td>0</td>\n",
       "      <td>310.024480</td>\n",
       "      <td>-60.812928</td>\n",
       "      <td>60218.001806</td>\n",
       "      <td>2162</td>\n",
       "      <td>y</td>\n",
       "      <td>22.370557</td>\n",
       "      <td>44</td>\n",
       "      <td>12</td>\n",
       "    </tr>\n",
       "    <tr>\n",
       "      <th>1</th>\n",
       "      <td>1</td>\n",
       "      <td>310.601871</td>\n",
       "      <td>-63.561425</td>\n",
       "      <td>60218.002254</td>\n",
       "      <td>2161</td>\n",
       "      <td>y</td>\n",
       "      <td>22.338327</td>\n",
       "      <td>44</td>\n",
       "      <td>11</td>\n",
       "    </tr>\n",
       "    <tr>\n",
       "      <th>2</th>\n",
       "      <td>2</td>\n",
       "      <td>311.292611</td>\n",
       "      <td>-66.317774</td>\n",
       "      <td>60218.002703</td>\n",
       "      <td>2160</td>\n",
       "      <td>y</td>\n",
       "      <td>22.295487</td>\n",
       "      <td>44</td>\n",
       "      <td>10</td>\n",
       "    </tr>\n",
       "    <tr>\n",
       "      <th>3</th>\n",
       "      <td>3</td>\n",
       "      <td>312.140731</td>\n",
       "      <td>-69.082666</td>\n",
       "      <td>60218.003152</td>\n",
       "      <td>2159</td>\n",
       "      <td>y</td>\n",
       "      <td>21.270421</td>\n",
       "      <td>44</td>\n",
       "      <td>9</td>\n",
       "    </tr>\n",
       "    <tr>\n",
       "      <th>4</th>\n",
       "      <td>4</td>\n",
       "      <td>304.170163</td>\n",
       "      <td>-73.375442</td>\n",
       "      <td>60218.003624</td>\n",
       "      <td>2107</td>\n",
       "      <td>y</td>\n",
       "      <td>21.205276</td>\n",
       "      <td>43</td>\n",
       "      <td>7</td>\n",
       "    </tr>\n",
       "    <tr>\n",
       "      <th>...</th>\n",
       "      <td>...</td>\n",
       "      <td>...</td>\n",
       "      <td>...</td>\n",
       "      <td>...</td>\n",
       "      <td>...</td>\n",
       "      <td>...</td>\n",
       "      <td>...</td>\n",
       "      <td>...</td>\n",
       "      <td>...</td>\n",
       "    </tr>\n",
       "    <tr>\n",
       "      <th>2086975</th>\n",
       "      <td>2086975</td>\n",
       "      <td>338.528926</td>\n",
       "      <td>-55.399555</td>\n",
       "      <td>63870.104267</td>\n",
       "      <td>2364</td>\n",
       "      <td>y</td>\n",
       "      <td>21.917628</td>\n",
       "      <td>48</td>\n",
       "      <td>14</td>\n",
       "    </tr>\n",
       "    <tr>\n",
       "      <th>2086976</th>\n",
       "      <td>2086976</td>\n",
       "      <td>347.380828</td>\n",
       "      <td>-54.922128</td>\n",
       "      <td>63870.104758</td>\n",
       "      <td>2415</td>\n",
       "      <td>y</td>\n",
       "      <td>21.864586</td>\n",
       "      <td>49</td>\n",
       "      <td>15</td>\n",
       "    </tr>\n",
       "    <tr>\n",
       "      <th>2086977</th>\n",
       "      <td>2086977</td>\n",
       "      <td>350.974688</td>\n",
       "      <td>-52.986827</td>\n",
       "      <td>63870.105219</td>\n",
       "      <td>2415</td>\n",
       "      <td>y</td>\n",
       "      <td>21.871581</td>\n",
       "      <td>49</td>\n",
       "      <td>15</td>\n",
       "    </tr>\n",
       "    <tr>\n",
       "      <th>2086978</th>\n",
       "      <td>2086978</td>\n",
       "      <td>356.062503</td>\n",
       "      <td>-53.778759</td>\n",
       "      <td>63870.105677</td>\n",
       "      <td>2465</td>\n",
       "      <td>y</td>\n",
       "      <td>21.850527</td>\n",
       "      <td>50</td>\n",
       "      <td>15</td>\n",
       "    </tr>\n",
       "    <tr>\n",
       "      <th>2086979</th>\n",
       "      <td>2086979</td>\n",
       "      <td>352.585400</td>\n",
       "      <td>-55.879554</td>\n",
       "      <td>63870.106138</td>\n",
       "      <td>2414</td>\n",
       "      <td>y</td>\n",
       "      <td>21.837416</td>\n",
       "      <td>49</td>\n",
       "      <td>14</td>\n",
       "    </tr>\n",
       "  </tbody>\n",
       "</table>\n",
       "<p>2086980 rows × 9 columns</p>\n",
       "</div>"
      ],
      "text/plain": [
       "         observationId     fieldRA   fieldDec  observationStartMJD  fieldId  \\\n",
       "0                    0  310.024480 -60.812928         60218.001806     2162   \n",
       "1                    1  310.601871 -63.561425         60218.002254     2161   \n",
       "2                    2  311.292611 -66.317774         60218.002703     2160   \n",
       "3                    3  312.140731 -69.082666         60218.003152     2159   \n",
       "4                    4  304.170163 -73.375442         60218.003624     2107   \n",
       "...                ...         ...        ...                  ...      ...   \n",
       "2086975        2086975  338.528926 -55.399555         63870.104267     2364   \n",
       "2086976        2086976  347.380828 -54.922128         63870.104758     2415   \n",
       "2086977        2086977  350.974688 -52.986827         63870.105219     2415   \n",
       "2086978        2086978  356.062503 -53.778759         63870.105677     2465   \n",
       "2086979        2086979  352.585400 -55.879554         63870.106138     2414   \n",
       "\n",
       "        filter  fiveSigmaDepth  RABins  DECBins  \n",
       "0            y       22.370557      44       12  \n",
       "1            y       22.338327      44       11  \n",
       "2            y       22.295487      44       10  \n",
       "3            y       21.270421      44        9  \n",
       "4            y       21.205276      43        7  \n",
       "...        ...             ...     ...      ...  \n",
       "2086975      y       21.917628      48       14  \n",
       "2086976      y       21.864586      49       15  \n",
       "2086977      y       21.871581      49       15  \n",
       "2086978      y       21.850527      50       15  \n",
       "2086979      y       21.837416      49       14  \n",
       "\n",
       "[2086980 rows x 9 columns]"
      ]
     },
     "execution_count": 32,
     "metadata": {},
     "output_type": "execute_result"
    }
   ],
   "source": [
    "new_field_id = (RA_bins-1) * 50 + DEC_bins\n",
    "band_obs['fieldId'] = new_field_id\n",
    "band_obs"
   ]
  },
  {
   "cell_type": "code",
   "execution_count": 33,
   "id": "671961c0-c0f0-4234-9378-c6f6cdbc7669",
   "metadata": {},
   "outputs": [
    {
     "name": "stdout",
     "output_type": "stream",
     "text": [
      "         observationId     fieldRA   fieldDec  observationStartMJD  fieldId  \\\n",
      "772                772  349.857034 -82.633511         60218.357890     2403   \n",
      "846124          846124  349.132762 -83.345848         61682.142242     2403   \n",
      "860288          860288  349.770490 -84.147058         61703.077226     2403   \n",
      "1680668        1680668  349.123067 -82.933787         63159.185750     2403   \n",
      "1875208        1875208  346.865503 -83.230118         63536.152786     2403   \n",
      "\n",
      "        filter  fiveSigmaDepth  RABins  DECBins  \n",
      "772          r       22.115278      49        3  \n",
      "846124       r       23.833470      49        3  \n",
      "860288       r       23.336416      49        3  \n",
      "1680668      r       23.423731      49        3  \n",
      "1875208      r       23.918868      49        3            observationId     fieldRA   fieldDec  observationStartMJD  fieldId  \\\n",
      "1259256        1259256  351.795196 -83.451359         62442.066218     2403   \n",
      "1478871        1478871  346.629750 -83.641666         62802.056051     2403   \n",
      "1680618        1680618  349.123067 -82.933787         63159.161138     2403   \n",
      "\n",
      "        filter  fiveSigmaDepth  RABins  DECBins  \n",
      "1259256      g       24.005959      49        3  \n",
      "1478871      g       23.803613      49        3  \n",
      "1680618      g       23.770814      49        3  \n"
     ]
    }
   ],
   "source": [
    "r_filter = band_obs.query('fieldId == 2403 and filter == \"r\"')\n",
    "g_filter = band_obs.query('fieldId == 2403 and filter == \"g\"')\n",
    "print(r_filter, g_filter)"
   ]
  },
  {
   "cell_type": "code",
   "execution_count": 34,
   "id": "b33aa337-fa4b-4255-844b-3f59bcc0961c",
   "metadata": {},
   "outputs": [
    {
     "name": "stdout",
     "output_type": "stream",
     "text": [
      "atmos_10.dat   filter_r.dat    hardware_r.dat  lens3.dat\ttotal_g.dat\n",
      "atmos_std.dat  filter_u.dat    hardware_u.dat  LSSTfilters.png\ttotal_i.dat\n",
      "darksky.dat    filter_y.dat    hardware_y.dat  m1.dat\t\ttotal_r.dat\n",
      "detector.dat   filter_z.dat    hardware_z.dat  m2.dat\t\ttotal_u.dat\n",
      "filter_g.dat   hardware_g.dat  lens1.dat       m3.dat\t\ttotal_y.dat\n",
      "filter_i.dat   hardware_i.dat  lens2.dat       README.md\ttotal_z.dat\n"
     ]
    }
   ],
   "source": [
    "import os\n",
    "import numpy as np\n",
    "import matplotlib.pyplot as plt\n",
    "%matplotlib inline\n",
    "import pandas as pd\n",
    "\n",
    "fdir = os.getenv('RUBIN_SIM_DATA_DIR')\n",
    "if fdir is None:  #environment variable not set\n",
    "    fdir = os.path.join(os.getenv('HOME'), 'rubin_sim_data')\n",
    "\n",
    "fdir = '/home/jovyan/uw-premap-2022-photoz/data/lsst_baseline_throughputs'\n",
    "\n",
    "!ls $fdir"
   ]
  },
  {
   "cell_type": "code",
   "execution_count": 35,
   "id": "1977465f-c747-4eb9-b20f-6584d1aa766b",
   "metadata": {},
   "outputs": [
    {
     "name": "stdout",
     "output_type": "stream",
     "text": [
      "atmos_10.dat   filter_r.dat    hardware_r.dat  lens3.dat\ttotal_g.dat\n",
      "atmos_std.dat  filter_u.dat    hardware_u.dat  LSSTfilters.png\ttotal_i.dat\n",
      "darksky.dat    filter_y.dat    hardware_y.dat  m1.dat\t\ttotal_r.dat\n",
      "detector.dat   filter_z.dat    hardware_z.dat  m2.dat\t\ttotal_u.dat\n",
      "filter_g.dat   hardware_g.dat  lens1.dat       m3.dat\t\ttotal_y.dat\n",
      "filter_i.dat   hardware_i.dat  lens2.dat       README.md\ttotal_z.dat\n"
     ]
    }
   ],
   "source": [
    "fdir = os.getenv('RUBIN_SIM_DATA_DIR')\n",
    "if fdir is None:  #environment variable not set\n",
    "    fdir = os.path.join(os.getenv('HOME'), 'rubin_sim_data')\n",
    "\n",
    "fdir = '/home/jovyan/uw-premap-2022-photoz/data/lsst_baseline_throughputs'\n",
    "\n",
    "!ls $fdir"
   ]
  },
  {
   "cell_type": "code",
   "execution_count": 36,
   "id": "4c8a5811-d93a-4331-8faa-bc13f7b41925",
   "metadata": {},
   "outputs": [],
   "source": [
    "import rubin_sim.photUtils.Bandpass as Bandpass\n",
    "import rubin_sim.photUtils.Sed as Sed"
   ]
  },
  {
   "cell_type": "code",
   "execution_count": 37,
   "id": "a54169c6-6b45-4a3b-a0c0-b59964c27e37",
   "metadata": {},
   "outputs": [],
   "source": [
    "sun = Sed()\n",
    "sun.readSED_flambda('/home/jovyan/uw-premap-2022-photoz/data/sed_templates/CWW_KINNEY/CWW_E_ext.sed')\n",
    "sun.wavelen/=10"
   ]
  },
  {
   "cell_type": "code",
   "execution_count": 38,
   "id": "48411316-9469-4ad5-a0b5-a2a76cbcef5c",
   "metadata": {},
   "outputs": [
    {
     "data": {
      "text/html": [
       "<div>\n",
       "<style scoped>\n",
       "    .dataframe tbody tr th:only-of-type {\n",
       "        vertical-align: middle;\n",
       "    }\n",
       "\n",
       "    .dataframe tbody tr th {\n",
       "        vertical-align: top;\n",
       "    }\n",
       "\n",
       "    .dataframe thead th {\n",
       "        text-align: right;\n",
       "    }\n",
       "</style>\n",
       "<table border=\"1\" class=\"dataframe\">\n",
       "  <thead>\n",
       "    <tr style=\"text-align: right;\">\n",
       "      <th></th>\n",
       "      <th>Sun</th>\n",
       "    </tr>\n",
       "  </thead>\n",
       "  <tbody>\n",
       "    <tr>\n",
       "      <th>u</th>\n",
       "      <td>-4.150003</td>\n",
       "    </tr>\n",
       "    <tr>\n",
       "      <th>g</th>\n",
       "      <td>-5.896804</td>\n",
       "    </tr>\n",
       "    <tr>\n",
       "      <th>r</th>\n",
       "      <td>-6.622219</td>\n",
       "    </tr>\n",
       "    <tr>\n",
       "      <th>i</th>\n",
       "      <td>-6.974888</td>\n",
       "    </tr>\n",
       "    <tr>\n",
       "      <th>z</th>\n",
       "      <td>-7.233845</td>\n",
       "    </tr>\n",
       "    <tr>\n",
       "      <th>y</th>\n",
       "      <td>-7.425142</td>\n",
       "    </tr>\n",
       "  </tbody>\n",
       "</table>\n",
       "</div>"
      ],
      "text/plain": [
       "        Sun\n",
       "u -4.150003\n",
       "g -5.896804\n",
       "r -6.622219\n",
       "i -6.974888\n",
       "z -7.233845\n",
       "y -7.425142"
      ]
     },
     "execution_count": 38,
     "metadata": {},
     "output_type": "execute_result"
    }
   ],
   "source": [
    "filterlist = ['u', 'g', 'r', 'i', 'z', 'y']\n",
    "\n",
    "lsst = {}\n",
    "for f in filterlist:\n",
    "    lsst[f] = Bandpass()\n",
    "    lsst[f].readThroughput(os.path.join(fdir, f'total_{f}.dat'))\n",
    "    \n",
    "mags = {}\n",
    "for f in filterlist:\n",
    "    mags[f] = sun.calcMag(lsst[f])\n",
    "\n",
    "# Make a dataframe just to get a nice output cell.\n",
    "pd.DataFrame(mags, index=['Sun']).T"
   ]
  },
  {
   "cell_type": "code",
   "execution_count": 39,
   "id": "a6580a77-07e6-4098-b202-5fbce7293345",
   "metadata": {},
   "outputs": [
    {
     "data": {
      "text/html": [
       "<div>\n",
       "<style scoped>\n",
       "    .dataframe tbody tr th:only-of-type {\n",
       "        vertical-align: middle;\n",
       "    }\n",
       "\n",
       "    .dataframe tbody tr th {\n",
       "        vertical-align: top;\n",
       "    }\n",
       "\n",
       "    .dataframe thead th {\n",
       "        text-align: right;\n",
       "    }\n",
       "</style>\n",
       "<table border=\"1\" class=\"dataframe\">\n",
       "  <thead>\n",
       "    <tr style=\"text-align: right;\">\n",
       "      <th></th>\n",
       "      <th>Distant Sun</th>\n",
       "    </tr>\n",
       "  </thead>\n",
       "  <tbody>\n",
       "    <tr>\n",
       "      <th>u</th>\n",
       "      <td>22.472216</td>\n",
       "    </tr>\n",
       "    <tr>\n",
       "      <th>g</th>\n",
       "      <td>20.725415</td>\n",
       "    </tr>\n",
       "    <tr>\n",
       "      <th>r</th>\n",
       "      <td>20.000000</td>\n",
       "    </tr>\n",
       "    <tr>\n",
       "      <th>i</th>\n",
       "      <td>19.647330</td>\n",
       "    </tr>\n",
       "    <tr>\n",
       "      <th>z</th>\n",
       "      <td>19.388374</td>\n",
       "    </tr>\n",
       "    <tr>\n",
       "      <th>y</th>\n",
       "      <td>19.197076</td>\n",
       "    </tr>\n",
       "  </tbody>\n",
       "</table>\n",
       "</div>"
      ],
      "text/plain": [
       "   Distant Sun\n",
       "u    22.472216\n",
       "g    20.725415\n",
       "r    20.000000\n",
       "i    19.647330\n",
       "z    19.388374\n",
       "y    19.197076"
      ]
     },
     "execution_count": 39,
     "metadata": {},
     "output_type": "execute_result"
    }
   ],
   "source": [
    "r = 20.0\n",
    "\n",
    "fluxNorm = sun.calcFluxNorm(r, lsst['r'])\n",
    "\n",
    "sun.multiplyFluxNorm(fluxNorm)\n",
    "\n",
    "mags = {}\n",
    "for f in filterlist:\n",
    "    mags[f] = sun.calcMag(lsst[f])\n",
    "    \n",
    "pd.DataFrame(mags, index=['Distant Sun']).T"
   ]
  },
  {
   "cell_type": "code",
   "execution_count": 40,
   "id": "6514feb5-2aed-4fdb-958d-e3cee5f54a3d",
   "metadata": {},
   "outputs": [],
   "source": [
    "from rubin_sim.photUtils import SignalToNoise\n",
    "from rubin_sim.photUtils import PhotometricParameters"
   ]
  },
  {
   "cell_type": "code",
   "execution_count": 41,
   "id": "7e0232bc-f13c-44bb-a896-7f39e5eec3cd",
   "metadata": {},
   "outputs": [
    {
     "data": {
      "text/plain": [
       "(0.013139422508835895, 0.03934261437469505)"
      ]
     },
     "execution_count": 41,
     "metadata": {},
     "output_type": "execute_result"
    }
   ],
   "source": [
    "SignalToNoise.calcMagError_m5(magnitude=20, bandpass=lsst['r'], m5=24, photParams=PhotometricParameters())\n",
    "SignalToNoise.calcMagError_m5(magnitude=20.725415, bandpass=lsst['g'], m5=24, photParams=PhotometricParameters())"
   ]
  },
  {
   "cell_type": "code",
   "execution_count": 42,
   "id": "86ab8100-e3c6-4d72-844d-8aed63972de0",
   "metadata": {},
   "outputs": [
    {
     "name": "stdout",
     "output_type": "stream",
     "text": [
      "0.031221444804164934\n",
      "0.009322245115585407\n"
     ]
    }
   ],
   "source": [
    "mag_error_r, gamma = SignalToNoise.calcMagError_m5(20, lsst['r'], 22.115278, PhotometricParameters())\n",
    "mag_error_2r, gamma = SignalToNoise.calcMagError_m5(20, lsst['r'], 23.833470, PhotometricParameters())\n",
    "print(mag_error_r)\n",
    "print(mag_error_2r)"
   ]
  },
  {
   "cell_type": "code",
   "execution_count": 43,
   "id": "98bfb9d4-5f3d-4ac6-8458-58cf5122ac80",
   "metadata": {},
   "outputs": [
    {
     "name": "stdout",
     "output_type": "stream",
     "text": [
      "0.014857161547721024 0.013093479367888855\n"
     ]
    }
   ],
   "source": [
    "mag_error_g, gamma = SignalToNoise.calcMagError_m5(20.725415, lsst['g'], 23.803613 , PhotometricParameters())\n",
    "mag_error_2g, gamma = SignalToNoise.calcMagError_m5(20.725415, lsst['g'], 24.005959, PhotometricParameters())\n",
    "print(mag_error_g, mag_error_2g)"
   ]
  },
  {
   "cell_type": "code",
   "execution_count": 44,
   "id": "56b74e26-622b-4d38-a81c-62434bb52469",
   "metadata": {
    "tags": []
   },
   "outputs": [],
   "source": [
    "mag_2 = 20\n",
    "mag_1 = 20.725415\n",
    "def combine_col_err(mag_1, mag_2, err_1, err_2):\n",
    "    return mag_1-mag_2, np.sqrt(mag_error_g**2 + mag_error_r**2)"
   ]
  },
  {
   "cell_type": "code",
   "execution_count": 45,
   "id": "5b0a94c6-e2b5-4924-b5f3-6a418b7cf148",
   "metadata": {},
   "outputs": [],
   "source": [
    "gmr_error = combine_col_err(mag_1, mag_2, mag_error_g, mag_error_r)"
   ]
  },
  {
   "cell_type": "code",
   "execution_count": 46,
   "id": "7b8f5d81-e061-4863-8874-2dc993b7b9c0",
   "metadata": {},
   "outputs": [
    {
     "data": {
      "text/plain": [
       "(0.7254150000000017, 0.0345762037377529)"
      ]
     },
     "execution_count": 46,
     "metadata": {},
     "output_type": "execute_result"
    }
   ],
   "source": [
    "gmr_error"
   ]
  },
  {
   "cell_type": "code",
   "execution_count": 48,
   "id": "2ff1cea1-b959-4990-a225-bcf01f08c3de",
   "metadata": {
    "tags": []
   },
   "outputs": [
    {
     "name": "stdout",
     "output_type": "stream",
     "text": [
      "[0.7254152168005632, 0.9092875263745306, 1.21556563554606, 1.5101335745430582, 1.7336961338800663, 1.6247841723966872, 1.564944229071827, 1.6311809361247, 1.8812287964095908, 2.127568839165825, 2.2677011843884642, 2.1867075250048273, 1.8528072436778764, 1.4936730257263982, 1.1240496109998404, 0.8557468597614317, 0.7198391764086622, 0.7096387142844485, 0.747772632412822, 0.7750666481098385, 0.7663830025511693, 0.7227059844917534, 0.6590263915621257, 0.5962345500838815, 0.5445307149382153, 0.508888128898807, 0.4915751575070537, 0.4913180779593205, 0.5034478075371531, 0.5257928424279541, 0.5554684677789687] [1.2671476607381404, 1.3077948000368305, 1.393819183964462, 1.500235956268231, 1.5972065577364405, 1.5482105621614457, 1.522709331607012, 1.5509962136236233, 1.6688454209977568, 1.8015981164084949, 1.8841186665033087, 1.8358238191244365, 1.6545776846994644, 1.4936518602014357, 1.3655781774662794, 1.2951559621782334, 1.26603345029476, 1.2640125069440578, 1.2716829212329661, 1.277368361564632, 1.275541636127572, 1.2666054605467143, 1.2543116430242056, 1.2430111414880318, 1.2342935467822305, 1.2285815235092927, 1.2258922407974322, 1.225852721913196, 1.227730518186224, 1.231260919404522, 1.2360945975053654]\n"
     ]
    }
   ],
   "source": [
    "from copy import copy\n",
    "from scipy.stats import norm\n",
    "g_r = []\n",
    "g_r_err = []\n",
    "pdf_list = []\n",
    "r = 24.5\n",
    "for redshift in np.arange(0,3.1,0.1):\n",
    "    sun_copy = copy(sun)\n",
    "    sun_copy.redshiftSED(redshift)\n",
    "    mags = {}\n",
    "    fluxNorm = sun_copy.calcFluxNorm(r, lsst['r'])\n",
    "    sun_copy.multiplyFluxNorm(fluxNorm)\n",
    "    mags = {}\n",
    "    for f in filterlist:\n",
    "        mags[f] = sun_copy.calcMag(lsst[f])\n",
    "        pd.DataFrame(mags, index=['Distant Sun']).T\n",
    "    gr_color = mags['g'] - mags['r']\n",
    "    gr_error = np.sqrt(mag_error_r**2 + mag_error_g**2)\n",
    "    pdf_list.append(norm(loc = gr_color, scale = gr_error))\n",
    "    g_r.append(mags['g'] - mags['r'])\n",
    "    mag_error_g, gamma = SignalToNoise.calcMagError_m5(mags['g'], lsst['g'], 23.803613 , PhotometricParameters())\n",
    "    mag_error_r, gamma = SignalToNoise.calcMagError_m5(mags['r'], lsst['r'], 22.115278, PhotometricParameters())\n",
    "    g_r_err.append(np.sqrt(mag_error_r**2 + mag_error_g**2))\n",
    "    \n",
    "    \n",
    "\n",
    "print(g_r, g_r_err)"
   ]
  },
  {
   "cell_type": "code",
   "execution_count": 49,
   "id": "ab4f2791-9818-4080-838d-550444295296",
   "metadata": {},
   "outputs": [],
   "source": [
    "# g_r_err on x-axis, g_r on y-axis"
   ]
  },
  {
   "cell_type": "code",
   "execution_count": 50,
   "id": "a73c9aa6-e3a8-42cb-9e3d-a31a2d0b08c0",
   "metadata": {},
   "outputs": [
    {
     "data": {
      "text/plain": [
       "Text(0, 0.5, 'Color')"
      ]
     },
     "execution_count": 50,
     "metadata": {},
     "output_type": "execute_result"
    },
    {
     "data": {
      "image/png": "[encoded data removed]",
      "text/plain": [
       "<Figure size 432x288 with 1 Axes>"
      ]
     },
     "metadata": {
      "needs_background": "light"
     },
     "output_type": "display_data"
    }
   ],
   "source": [
    "redshift_r = np.arange(0,3.1,0.1)\n",
    "plt.plot(redshift_r, g_r)\n",
    "plt.xlabel(\"Redshift\")\n",
    "plt.ylabel(\"Color\")"
   ]
  },
  {
   "cell_type": "code",
   "execution_count": 51,
   "id": "6e597be9-53b6-4e2b-bcf1-d4149d5b1ab7",
   "metadata": {},
   "outputs": [
    {
     "data": {
      "text/plain": [
       "(0.7254152168005632, 1.2671476607381404)"
      ]
     },
     "execution_count": 51,
     "metadata": {},
     "output_type": "execute_result"
    }
   ],
   "source": [
    "g_r[0], g_r_err[0]"
   ]
  },
  {
   "cell_type": "code",
   "execution_count": 52,
   "id": "b44240f1-2e2f-48a5-a46d-358660ae3408",
   "metadata": {},
   "outputs": [],
   "source": [
    "gal_z_0 = norm(loc=g_r[0], scale=g_r_err[0])\n",
    "gal_z_0p5 = norm(loc=g_r[5], scale=g_r_err[5])\n",
    "gal_z_1p0 = norm(loc=g_r[10], scale=g_r_err[10])"
   ]
  },
  {
   "cell_type": "code",
   "execution_count": 53,
   "id": "62389351-0b1f-409a-b423-3374cb53f296",
   "metadata": {},
   "outputs": [
    {
     "data": {
      "text/plain": [
       "(0.4913180779593205, 2.2677011843884642)"
      ]
     },
     "execution_count": 53,
     "metadata": {},
     "output_type": "execute_result"
    }
   ],
   "source": [
    "np.min(g_r), np.max(g_r)"
   ]
  },
  {
   "cell_type": "code",
   "execution_count": 54,
   "id": "4317bf64-f5cd-44a4-8687-1e4b2baa98c0",
   "metadata": {},
   "outputs": [],
   "source": [
    "color_range = np.arange(-4,8, 0.01)"
   ]
  },
  {
   "cell_type": "code",
   "execution_count": 55,
   "id": "98a0c8f1-b864-442f-80a3-d4195663731e",
   "metadata": {},
   "outputs": [
    {
     "data": {
      "text/plain": [
       "<matplotlib.legend.Legend at 0x7fdc67c2c880>"
      ]
     },
     "execution_count": 55,
     "metadata": {},
     "output_type": "execute_result"
    },
    {
     "data": {
      "image/png": "[encoded data removed]",
      "text/plain": [
       "<Figure size 432x288 with 1 Axes>"
      ]
     },
     "metadata": {
      "needs_background": "light"
     },
     "output_type": "display_data"
    }
   ],
   "source": [
    "plt.plot(color_range, pdf_list[0].pdf(color_range), label = 'z=0')\n",
    "plt.plot(color_range, pdf_list[5].pdf(color_range), label = 'z=0.5')\n",
    "plt.plot(color_range, pdf_list[10].pdf(color_range), label = 'z=1.0')\n",
    "plt.xlabel('g-r color')\n",
    "plt.ylabel('Probability Density')\n",
    "plt.legend()"
   ]
  },
  {
   "cell_type": "code",
   "execution_count": 56,
   "id": "8db37547-bb64-424a-8946-440475a2e37d",
   "metadata": {},
   "outputs": [],
   "source": [
    "combined_pdf = np.zeros(len(color_range))\n",
    "for galaxy in pdf_list:\n",
    "    combined_pdf += galaxy.pdf(color_range)\n",
    "combined_pdf = combined_pdf / 31"
   ]
  },
  {
   "cell_type": "code",
   "execution_count": 57,
   "id": "8d52b97f-87aa-47fe-844a-a3c835a6eba8",
   "metadata": {},
   "outputs": [
    {
     "data": {
      "text/plain": [
       "<matplotlib.legend.Legend at 0x7fdc67b6bdc0>"
      ]
     },
     "execution_count": 57,
     "metadata": {},
     "output_type": "execute_result"
    },
    {
     "data": {
      "image/png": "[encoded data removed]",
      "text/plain": [
       "<Figure size 432x288 with 1 Axes>"
      ]
     },
     "metadata": {
      "needs_background": "light"
     },
     "output_type": "display_data"
    }
   ],
   "source": [
    "plt.plot(color_range, gal_z_0.pdf(color_range), label = 'z=0')\n",
    "plt.plot(color_range, gal_z_0p5.pdf(color_range), label = 'z=0.5')\n",
    "plt.plot(color_range, gal_z_1p0.pdf(color_range), label = 'z=1.0')\n",
    "plt.plot(color_range, combined_pdf, '--', label = 'All redshifts')\n",
    "plt.xlabel('g-r color')\n",
    "plt.ylabel('Probability Density')\n",
    "plt.legend()"
   ]
  },
  {
   "cell_type": "code",
   "execution_count": 58,
   "id": "20818a10-e13a-43e1-96df-32578cfc8e37",
   "metadata": {},
   "outputs": [
    {
     "data": {
      "text/plain": [
       "<matplotlib.legend.Legend at 0x7fdc67a74f70>"
      ]
     },
     "execution_count": 58,
     "metadata": {},
     "output_type": "execute_result"
    },
    {
     "data": {
      "image/png": "[encoded data removed]",
      "text/plain": [
       "<Figure size 432x288 with 1 Axes>"
      ]
     },
     "metadata": {
      "needs_background": "light"
     },
     "output_type": "display_data"
    }
   ],
   "source": [
    "plt.plot(color_range, gal_z_0.pdf(color_range), label = 'z=0')\n",
    "#plt.plot(color_range, gal_z_0p5.pdf(color_range), label = 'z=0.5')\n",
    "#plt.plot(color_range, gal_z_1p0.pdf(color_range), label = 'z=1.0')\n",
    "plt.plot(color_range, combined_pdf, '--', label = 'All redshifts')\n",
    "plt.xlabel('g-r color')\n",
    "plt.ylabel('Probability Density')\n",
    "plt.legend()"
   ]
  },
  {
   "cell_type": "code",
   "execution_count": 59,
   "id": "473eabaa-88e9-45a3-90a7-7f7b53665e69",
   "metadata": {},
   "outputs": [
    {
     "data": {
      "text/plain": [
       "0.9999054378812255"
      ]
     },
     "execution_count": 59,
     "metadata": {},
     "output_type": "execute_result"
    }
   ],
   "source": [
    "from scipy.special import kl_div, rel_entr\n",
    "np.sum(0.01*gal_z_0.pdf(color_range))"
   ]
  },
  {
   "cell_type": "code",
   "execution_count": 60,
   "id": "062d6805-553b-411b-b53d-5da78d920860",
   "metadata": {},
   "outputs": [
    {
     "data": {
      "text/plain": [
       "0.05924598992072891"
      ]
     },
     "execution_count": 60,
     "metadata": {},
     "output_type": "execute_result"
    }
   ],
   "source": [
    "np.sum(kl_div(0.01*gal_z_0.pdf(color_range), 0.01*combined_pdf))"
   ]
  },
  {
   "cell_type": "code",
   "execution_count": 61,
   "id": "47e324fa-dbc2-4f44-a2ba-dfaa2e7ed705",
   "metadata": {},
   "outputs": [
    {
     "name": "stdout",
     "output_type": "stream",
     "text": [
      "[2.6158978012398757, 0.04037101071020403, 0.03688559225355341, 0.06496188911820144, 0.107060736719677, 0.07783323729400943, 0.06510945724298636, 0.07997126742311234, 0.14818269955352908, 0.23482711957222413, 0.29789693664579986, 0.2728690568587029, 0.1549336629853393, 0.05602373733384826, 0.016809831148905004, 0.0317367455268414, 0.055939357148051774, 0.06181719099282502, 0.05658647450722469, 0.0517765526524958, 0.051969054254944844, 0.058324591333192816, 0.07022734537414602, 0.08450219766820097, 0.0979797474257795, 0.1082569393949252, 0.11376874401438801, 0.11433682895149902, 0.11119848503454338, 0.10524570539541452, 0.09753728278079743]\n"
     ]
    }
   ],
   "source": [
    "kl_divergence = []\n",
    "for galaxy in pdf_list:\n",
    "    kl_divergence.append(np.sum(kl_div(0.01*galaxy.pdf(color_range), 0.01*combined_pdf)))\n",
    "print(kl_divergence)"
   ]
  },
  {
   "cell_type": "code",
   "execution_count": 62,
   "id": "236d24c9-bed9-4a5c-aa8a-2e18db188f40",
   "metadata": {},
   "outputs": [
    {
     "name": "stdout",
     "output_type": "stream",
     "text": [
      "772        22.115278\n",
      "846124     23.833470\n",
      "860288     23.336416\n",
      "1680668    23.423731\n",
      "1875208    23.918868\n",
      "Name: fiveSigmaDepth, dtype: float64\n",
      "1259256    24.005959\n",
      "1478871    23.803613\n",
      "1680618    23.770814\n",
      "Name: fiveSigmaDepth, dtype: float64\n",
      "24.444680387674623\n",
      "24.466854221562045\n"
     ]
    }
   ],
   "source": [
    "print(r_filter['fiveSigmaDepth'])\n",
    "print(g_filter['fiveSigmaDepth'])\n",
    "\n",
    "print(1.25 * np.log10(np.sum(10.0 ** (0.8 * r_filter['fiveSigmaDepth']))))\n",
    "print(1.25 * np.log10(np.sum(10.0 ** (0.8 * g_filter['fiveSigmaDepth']))))"
   ]
  },
  {
   "cell_type": "code",
   "execution_count": 63,
   "id": "e4b50917-10a5-4a2e-8051-8405c3479365",
   "metadata": {},
   "outputs": [
    {
     "name": "stdout",
     "output_type": "stream",
     "text": [
      "[0.7254152168005632, 0.9092875263745306, 1.21556563554606, 1.5101335745430582, 1.7336961338800663, 1.6247841723966872, 1.564944229071827, 1.6311809361247, 1.8812287964095908, 2.127568839165825, 2.2677011843884642, 2.1867075250048273, 1.8528072436778764, 1.4936730257263982, 1.1240496109998404, 0.8557468597614317, 0.7198391764086622, 0.7096387142844485, 0.747772632412822, 0.7750666481098385, 0.7663830025511693, 0.7227059844917534, 0.6590263915621257, 0.5962345500838815, 0.5445307149382153, 0.508888128898807, 0.4915751575070537, 0.4913180779593205, 0.5034478075371531, 0.5257928424279541, 0.5554684677789687] [0.41982945529855176, 0.46880636273545284, 0.5672143322905607, 0.6827928974753288, 0.7846200282200531, 0.7334844711047271, 0.7066253818004171, 0.7364075459670827, 0.8585062123977024, 0.9935506488594374, 1.0767193423893164, 1.0280989667680123, 0.8438610074007439, 0.6757790343834338, 0.5355349503526275, 0.45378819735732756, 0.41845711583359857, 0.4159634584629582, 0.4253974729530458, 0.4323380986615016, 0.43011277127031583, 0.41916186350863927, 0.40390951244854956, 0.389681366778526, 0.378556381363607, 0.3711913130614783, 0.367701964168027, 0.36765058170142684, 0.37008867066582574, 0.37465383409717057, 0.3808659837894388]\n"
     ]
    }
   ],
   "source": [
    "from copy import copy\n",
    "g_r = []\n",
    "g_r_err = []\n",
    "pdf_list = []\n",
    "r = 24.5\n",
    "for redshift in np.arange(0,3.1,0.1):\n",
    "    sun_copy = copy(sun)\n",
    "    sun_copy.redshiftSED(redshift)\n",
    "    mags = {}\n",
    "    fluxNorm = sun_copy.calcFluxNorm(r, lsst['r'])\n",
    "    sun_copy.multiplyFluxNorm(fluxNorm)\n",
    "    mags = {}\n",
    "    for f in filterlist:\n",
    "        mags[f] = sun_copy.calcMag(lsst[f])\n",
    "        pd.DataFrame(mags, index=['Distant Sun']).T\n",
    "    gr_color = mags['g'] - mags['r']\n",
    "    gr_error = np.sqrt(mag_error_r**2 + mag_error_g**2)\n",
    "    pdf_list.append(norm(loc = gr_color, scale = gr_error))\n",
    "    g_r.append(mags['g'] - mags['r'])\n",
    "    mag_error_g, gamma = SignalToNoise.calcMagError_m5(mags['g'], lsst['g'], 24.466854221562045, PhotometricParameters())\n",
    "    mag_error_r, gamma = SignalToNoise.calcMagError_m5(mags['r'], lsst['r'], 24.444680387674623, PhotometricParameters())\n",
    "    g_r_err.append(np.sqrt(mag_error_r**2 + mag_error_g**2))\n",
    "    \n",
    "    \n",
    "\n",
    "print(g_r, g_r_err)"
   ]
  },
  {
   "cell_type": "code",
   "execution_count": 64,
   "id": "c59a262d-dc7a-4ef3-9192-fd67b1e60d7b",
   "metadata": {},
   "outputs": [],
   "source": [
    "combined_pdf = np.zeros(len(color_range))\n",
    "for galaxy in pdf_list:\n",
    "    combined_pdf += galaxy.pdf(color_range)\n",
    "combined_pdf = combined_pdf / 31"
   ]
  },
  {
   "cell_type": "code",
   "execution_count": 65,
   "id": "82c4e90b-50ee-4b07-9bc4-338ac621d54c",
   "metadata": {},
   "outputs": [
    {
     "name": "stdout",
     "output_type": "stream",
     "text": [
      "[0.45434071029585427, 0.25149509200475184, 0.33226157710986476, 0.4073365145822222, 0.4538156283503637, 0.2871108131405269, 0.2777065239973346, 0.3472132801310257, 0.5331323094250376, 0.6793641357575867, 0.7627447944976482, 0.6623560679334992, 0.3806778511421105, 0.183840786241873, 0.09796199205069143, 0.13995250751231916, 0.22162096092566658, 0.25664862516318154, 0.24964924848678374, 0.23514490855211911, 0.22914882732260528, 0.24120565877674005, 0.27628331725849353, 0.3278125599320494, 0.38261695465411755, 0.42808886158033027, 0.4544495436487661, 0.4588266249439701, 0.44617885716440664, 0.4214076299308225, 0.3900012304875551]\n"
     ]
    }
   ],
   "source": [
    "kl_divergence = []\n",
    "for galaxy in pdf_list:\n",
    "    kl_divergence.append(np.sum(kl_div(0.01*galaxy.pdf(color_range), 0.01*combined_pdf)))\n",
    "print(kl_divergence)"
   ]
  },
  {
   "cell_type": "code",
   "execution_count": 66,
   "id": "3f02fdee-5770-450e-9fea-629710dd81a7",
   "metadata": {},
   "outputs": [
    {
     "data": {
      "text/plain": [
       "0.3635611094516231"
      ]
     },
     "execution_count": 66,
     "metadata": {},
     "output_type": "execute_result"
    }
   ],
   "source": [
    "np.mean(kl_divergence)"
   ]
  },
  {
   "cell_type": "code",
   "execution_count": 69,
   "id": "cd52e645-854c-4844-970a-c7f81f5f8ab3",
   "metadata": {},
   "outputs": [
    {
     "name": "stdout",
     "output_type": "stream",
     "text": [
      "24.444680387674623 24.466854221562045\n"
     ]
    }
   ],
   "source": [
    "result_r = 1.25 * np.log10(np.sum(10.0 ** (0.8 * r_filter['fiveSigmaDepth'])))\n",
    "result_g = 1.25 * np.log10(np.sum(10.0 ** (0.8 * g_filter['fiveSigmaDepth'])))\n",
    "print(result_r, result_g)"
   ]
  },
  {
   "cell_type": "code",
   "execution_count": 70,
   "id": "558b3266-7183-40a0-829f-1ecf83ecab7f",
   "metadata": {},
   "outputs": [],
   "source": [
    "def calc_colors_pdf(r_filter, g_filter):\n",
    "    g_r = []\n",
    "    g_r_err = []\n",
    "    pdf_list = []\n",
    "    r = 24.5\n",
    "    for redshift in np.arange(0,3.1,0.1):\n",
    "        sun_copy = copy(sun)\n",
    "        sun_copy.redshiftSED(redshift)\n",
    "        mags = {}\n",
    "        fluxNorm = sun_copy.calcFluxNorm(r, lsst['r'])\n",
    "        sun_copy.multiplyFluxNorm(fluxNorm)\n",
    "        mags = {}\n",
    "        for f in filterlist:\n",
    "            mags[f] = sun_copy.calcMag(lsst[f])\n",
    "            pd.DataFrame(mags, index=['Distant Sun']).T\n",
    "        gr_color = mags['g'] - mags['r']\n",
    "        g_r.append(mags['g'] - mags['r'])\n",
    "        result_g = 1.25 * np.log10(np.sum(10.0 ** (0.8 * g_filter['fiveSigmaDepth'])))\n",
    "        result_r = 1.25 * np.log10(np.sum(10.0 ** (0.8 * r_filter['fiveSigmaDepth'])))\n",
    "        mag_error_g, gamma = SignalToNoise.calcMagError_m5(mags['g'], lsst['g'], result_g , PhotometricParameters())\n",
    "        mag_error_r, gamma = SignalToNoise.calcMagError_m5(mags['r'], lsst['r'], result_r, PhotometricParameters())\n",
    "        g_r_err.append(np.sqrt(mag_error_r**2 + mag_error_g**2))\n",
    "        gr_error = np.sqrt(mag_error_r**2 + mag_error_g**2)\n",
    "        pdf_list.append(norm(loc = gr_color, scale = gr_error))\n",
    "    return g_r, g_r_err, pdf_list"
   ]
  },
  {
   "cell_type": "code",
   "execution_count": 71,
   "id": "d4204bb7-588a-4e1c-9ae7-cdaec80edf7b",
   "metadata": {},
   "outputs": [],
   "source": [
    "def combined_pdfs(pdf_list_1, color_range_1):\n",
    "    combined_pdf = np.zeros(len(color_range_1))\n",
    "    for gal in pdf_list_1:\n",
    "        combined_pdf += gal.pdf(color_range_1)\n",
    "    combined_pdf_2 = combined_pdf / len(pdf_list_1) \n",
    "    return combined_pdf_2"
   ]
  },
  {
   "cell_type": "code",
   "execution_count": 72,
   "id": "d3171583-fe9f-4bec-aba0-8ec7f2640571",
   "metadata": {},
   "outputs": [],
   "source": [
    "def combined_kl_div(combined_pdf_2, color_range, pdf_list):\n",
    "    combined_kl = []\n",
    "    for gal in pdf_list:\n",
    "        check = kl_div(0.01*gal.pdf(color_range), 0.01*combined_pdf_2)\n",
    "        inf_index = np.where(check == np.inf)\n",
    "        check[inf_index] = 0\n",
    "        combined_kl.append(np.sum(check))\n",
    "    return combined_kl"
   ]
  },
  {
   "cell_type": "code",
   "execution_count": 75,
   "id": "80183e33-80e9-4583-aa7a-e1632103144d",
   "metadata": {},
   "outputs": [
    {
     "name": "stdout",
     "output_type": "stream",
     "text": [
      "0\n",
      "100\n",
      "200\n",
      "300\n",
      "400\n",
      "500\n",
      "600\n",
      "700\n",
      "800\n",
      "900\n",
      "1000\n",
      "1100\n",
      "1200\n",
      "1300\n",
      "1400\n",
      "1500\n",
      "1600\n",
      "1700\n",
      "1800\n",
      "1900\n",
      "2000\n",
      "2100\n",
      "2200\n",
      "2300\n",
      "2400\n"
     ]
    }
   ],
   "source": [
    "color_range_1 = np.arange(-4,8, 0.01)\n",
    "field_id_max = np.max(band_obs['fieldId'])\n",
    "field_kl = []\n",
    "for fid in range(0,field_id_max+1):\n",
    "    if fid % 100 == 0:\n",
    "        print(fid)\n",
    "    r_filter = band_obs.query(f'fieldId == {fid} and filter == \"r\"')\n",
    "    g_filter = band_obs.query(f'fieldId == {fid} and filter == \"g\"')\n",
    "    if len(r_filter) == 0:\n",
    "        field_kl.append([])\n",
    "        continue\n",
    "    if len(g_filter) == 0:\n",
    "        field_kl.append([])\n",
    "        continue\n",
    "    g_r, g_r_err, pdf_list_1 = calc_colors_pdf(r_filter, g_filter)\n",
    "    combined_pdf_2 = combined_pdfs(pdf_list_1, color_range_1)\n",
    "    combined_kl = combined_kl_div(combined_pdf_2, color_range_1, pdf_list_1)\n",
    "    field_kl.append(combined_kl)"
   ]
  },
  {
   "cell_type": "code",
   "execution_count": 76,
   "id": "d8b9a95e-106f-4b9f-aa54-026b9b97b38d",
   "metadata": {},
   "outputs": [],
   "source": [
    "import pickle\n",
    "with open('baseline_kl_field_values.pkl', 'wb') as f:\n",
    "    pickle.dump(field_kl, f)"
   ]
  },
  {
   "cell_type": "code",
   "execution_count": 77,
   "id": "080e44ac-8223-42e1-9b9b-0975687fa0e0",
   "metadata": {},
   "outputs": [
    {
     "data": {
      "text/plain": [
       "True"
      ]
     },
     "execution_count": 77,
     "metadata": {},
     "output_type": "execute_result"
    }
   ],
   "source": [
    "with open('baseline_kl_field_values.pkl', 'rb') as f:\n",
    "    test_open = pickle.load(f)\n",
    "\n",
    "test_open == field_kl"
   ]
  },
  {
   "cell_type": "code",
   "execution_count": 78,
   "id": "30afb22c-2168-45e4-810b-cf31cb6a0c29",
   "metadata": {},
   "outputs": [
    {
     "name": "stderr",
     "output_type": "stream",
     "text": [
      "/opt/conda/lib/python3.9/site-packages/numpy/core/fromnumeric.py:3419: RuntimeWarning: Mean of empty slice.\n",
      "  return _methods._mean(a, axis=axis, dtype=dtype,\n",
      "/opt/conda/lib/python3.9/site-packages/numpy/core/_methods.py:188: RuntimeWarning: invalid value encountered in double_scalars\n",
      "  ret = ret.dtype.type(ret / rcount)\n"
     ]
    },
    {
     "ename": "IndexError",
     "evalue": "list index out of range",
     "output_type": "error",
     "traceback": [
      "\u001b[0;31m---------------------------------------------------------------------------\u001b[0m",
      "\u001b[0;31mIndexError\u001b[0m                                Traceback (most recent call last)",
      "\u001b[0;32m/tmp/ipykernel_341/3789524827.py\u001b[0m in \u001b[0;36m<module>\u001b[0;34m\u001b[0m\n\u001b[1;32m      3\u001b[0m \u001b[0;32mfor\u001b[0m \u001b[0mRA\u001b[0m \u001b[0;32min\u001b[0m \u001b[0mRA_set\u001b[0m\u001b[0;34m:\u001b[0m\u001b[0;34m\u001b[0m\u001b[0;34m\u001b[0m\u001b[0m\n\u001b[1;32m      4\u001b[0m     \u001b[0;32mfor\u001b[0m \u001b[0mDEC\u001b[0m \u001b[0;32min\u001b[0m \u001b[0mDEC_set\u001b[0m\u001b[0;34m:\u001b[0m\u001b[0;34m\u001b[0m\u001b[0;34m\u001b[0m\u001b[0m\n\u001b[0;32m----> 5\u001b[0;31m         \u001b[0mmean_kl\u001b[0m \u001b[0;34m=\u001b[0m \u001b[0mnp\u001b[0m\u001b[0;34m.\u001b[0m\u001b[0mmean\u001b[0m\u001b[0;34m(\u001b[0m\u001b[0mfield_kl\u001b[0m\u001b[0;34m[\u001b[0m\u001b[0mright\u001b[0m\u001b[0;34m]\u001b[0m\u001b[0;34m)\u001b[0m\u001b[0;34m\u001b[0m\u001b[0;34m\u001b[0m\u001b[0m\n\u001b[0m\u001b[1;32m      6\u001b[0m         \u001b[0mra_dec_kl\u001b[0m\u001b[0;34m.\u001b[0m\u001b[0mappend\u001b[0m\u001b[0;34m(\u001b[0m\u001b[0;34m[\u001b[0m\u001b[0mRA\u001b[0m\u001b[0;34m,\u001b[0m \u001b[0mDEC\u001b[0m\u001b[0;34m,\u001b[0m \u001b[0mmean_kl\u001b[0m\u001b[0;34m]\u001b[0m\u001b[0;34m)\u001b[0m\u001b[0;34m\u001b[0m\u001b[0;34m\u001b[0m\u001b[0m\n\u001b[1;32m      7\u001b[0m         \u001b[0mright\u001b[0m\u001b[0;34m+=\u001b[0m\u001b[0;36m1\u001b[0m\u001b[0;34m\u001b[0m\u001b[0;34m\u001b[0m\u001b[0m\n",
      "\u001b[0;31mIndexError\u001b[0m: list index out of range"
     ]
    }
   ],
   "source": [
    "right = 0\n",
    "ra_dec_kl = []\n",
    "for RA in RA_set:\n",
    "    for DEC in DEC_set:\n",
    "        mean_kl = np.mean(field_kl[right])\n",
    "        ra_dec_kl.append([RA, DEC, mean_kl])\n",
    "        right+=1"
   ]
  },
  {
   "cell_type": "code",
   "execution_count": 79,
   "id": "dc18ab3c-d54a-4cec-adc7-88c7af9e79c4",
   "metadata": {},
   "outputs": [
    {
     "data": {
      "text/plain": [
       "[[0.0005906334430789996, -89.77809402699343, nan],\n",
       " [0.0005906334430789996, -87.29170740073457, nan],\n",
       " [0.0005906334430789996, -84.8053207744757, 0.23582200269448564],\n",
       " [0.0005906334430789996, -82.31893414821684, 0.6745069560162202],\n",
       " [0.0005906334430789996, -79.83254752195798, 0.38721102049107303],\n",
       " [0.0005906334430789996, -77.34616089569911, 0.9643325783182931],\n",
       " [0.0005906334430789996, -74.85977426944025, 1.1627124088296363],\n",
       " [0.0005906334430789996, -72.37338764318139, 1.2228394232881095],\n",
       " [0.0005906334430789996, -69.88700101692253, 1.2871424062829047],\n",
       " [0.0005906334430789996, -67.40061439066366, 1.2866315579561374]]"
      ]
     },
     "execution_count": 79,
     "metadata": {},
     "output_type": "execute_result"
    }
   ],
   "source": [
    "ra_dec_kl[:10]"
   ]
  },
  {
   "cell_type": "code",
   "execution_count": 82,
   "id": "71173506-c94d-41cf-8986-00cc4fbb0996",
   "metadata": {},
   "outputs": [
    {
     "data": {
      "text/plain": [
       "array([[ 5.90633443e-04,  5.90633443e-04,  5.90633443e-04, ...,\n",
       "         3.45599910e+02,  3.45599910e+02,  3.45599910e+02],\n",
       "       [-8.97780940e+01, -8.72917074e+01, -8.48053208e+01, ...,\n",
       "         1.46501443e+01,  1.71365309e+01,  1.96229175e+01],\n",
       "       [            nan,             nan,  2.35822003e-01, ...,\n",
       "         1.37029166e+00,  9.90081284e-01,             nan]])"
      ]
     },
     "execution_count": 82,
     "metadata": {},
     "output_type": "execute_result"
    }
   ],
   "source": [
    "my_array = np.array(ra_dec_kl)\n",
    "my_array = my_array.T\n",
    "my_array"
   ]
  },
  {
   "cell_type": "code",
   "execution_count": 86,
   "id": "89242103-5501-4956-8683-b63a5505032e",
   "metadata": {},
   "outputs": [
    {
     "data": {
      "text/plain": [
       "<matplotlib.collections.PathCollection at 0x7fdc66e37d90>"
      ]
     },
     "execution_count": 86,
     "metadata": {},
     "output_type": "execute_result"
    },
    {
     "data": {
      "image/png": "[encoded data removed]",
      "text/plain": [
       "<Figure size 432x288 with 1 Axes>"
      ]
     },
     "metadata": {
      "needs_background": "light"
     },
     "output_type": "display_data"
    }
   ],
   "source": [
    "plt.scatter(my_array[0], my_array[1], c=my_array[2])"
   ]
  },
  {
   "cell_type": "code",
   "execution_count": null,
   "id": "b90bb2b9-162a-4fb6-9ff9-d101a4c38104",
   "metadata": {},
   "outputs": [],
   "source": []
  }
 ],
 "metadata": {
  "kernelspec": {
   "display_name": "Python 3 (ipykernel)",
   "language": "python",
   "name": "python3"
  },
  "language_info": {
   "codemirror_mode": {
    "name": "ipython",
    "version": 3
   },
   "file_extension": ".py",
   "mimetype": "text/x-python",
   "name": "python",
   "nbconvert_exporter": "python",
   "pygments_lexer": "ipython3",
   "version": "3.9.7"
  }
 },
 "nbformat": 4,
 "nbformat_minor": 5
}
